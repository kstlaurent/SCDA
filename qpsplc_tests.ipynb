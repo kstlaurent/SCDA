{
 "cells": [
  {
   "cell_type": "code",
   "execution_count": 1,
   "metadata": {
    "collapsed": false
   },
   "outputs": [
    {
     "name": "stdout",
     "output_type": "stream",
     "text": [
      "Populating the interactive namespace from numpy and matplotlib\n",
      "Imported scda module from /Users/ntz/SCDA/scda_pytools/scda.py\n"
     ]
    }
   ],
   "source": [
    "import scda\n",
    "import os\n",
    "import sys\n",
    "import shutil\n",
    "import numpy as np\n",
    "\n",
    "import matplotlib.pyplot as plt\n",
    "%pylab inline --no-import-all\n",
    "matplotlib.rcParams['image.origin'] = 'lower'\n",
    "matplotlib.rcParams['image.interpolation'] = 'nearest'\n",
    "matplotlib.rcParams['image.cmap'] = 'gray'\n",
    "matplotlib.rcParams['axes.linewidth'] = 1.\n",
    "matplotlib.rcParams['lines.linewidth'] = 2.5\n",
    "matplotlib.rcParams['font.size'] = 11\n",
    "\n",
    "import logging\n",
    "scda.configure_log()\n",
    "# The following two lines are a temporary fix for ipykernel's broken stderr output; \n",
    "# See https://github.com/ipython/ipykernel/issues/111\n",
    "logger = logging.getLogger() \n",
    "logger.handlers[0].stream = sys.stdout\n",
    "\n",
    "print(\"Imported scda module from {0:s}\".format(os.path.abspath(scda.__file__)))"
   ]
  },
  {
   "cell_type": "markdown",
   "metadata": {},
   "source": [
    "## Set the design parameters"
   ]
  },
  {
   "cell_type": "code",
   "execution_count": 2,
   "metadata": {
    "collapsed": true
   },
   "outputs": [],
   "source": [
    "hex3_N125g2r = {'N': 125, 'prim':'hex3', 'centobs':True, 'secobs':'X', 'thick':'025', 'gap':2, 'edge':'round'}\n",
    "hex3_N250g1r = {'N': 250, 'prim':'hex3', 'centobs':True, 'secobs':'X', 'thick':'025', 'gap':1, 'edge':'round'}\n",
    "#fpm_params = {'R0': 4., 'R1': 10., 'openang':180, 'fpmres': 10}\n",
    "fpm_90deg_H = {'R0': 4., 'R1': 10., 'openang':90, 'orient':'H', 'fpmres': 10}\n",
    "fpm_90deg_V = {'R0': 4., 'R1': 10., 'openang':90, 'orient':'V', 'fpmres': 10}\n",
    "ls_N050 = {'N': 50, 'obscure':0, 'id':20, 'od':80}\n",
    "image_params = {'c': 10., 'dR':-0.5, 'bw':0.10, 'Nlam':5}\n",
    "image_params_mono = {'c': 10., 'dR':-0.5, 'bw':0.00, 'Nlam':1}"
   ]
  },
  {
   "cell_type": "code",
   "execution_count": 3,
   "metadata": {
    "collapsed": false
   },
   "outputs": [],
   "source": [
    "#input_dir = os.path.expanduser(\"~/Box Sync/scda/InputMasks\")\n",
    "#work_dir = os.path.expanduser(\"~/Box Sync/scda/scda_qpsplc_tests/\")\n",
    "input_dir = \"/astro/opticslab1/SCDA/Apertures/InputMasks_v4\" # location of input TelAp, FPM, and LS arrays\n",
    "work_dir = \"/astro/opticslab1/SCDA/Scripts/AMPL/qpsplc_june/\"\n",
    "if not os.path.exists(os.path.normpath(work_dir)):\n",
    "    os.mkdir(work_dir)\n",
    "TelAp_dir = os.path.join(input_dir, \"TelAp\")\n",
    "FPM_dir = os.path.join(input_dir, \"FPM\")\n",
    "LS_dir = os.path.join(input_dir, \"LS\")"
   ]
  },
  {
   "cell_type": "code",
   "execution_count": 8,
   "metadata": {
    "collapsed": false
   },
   "outputs": [],
   "source": [
    "design_params_N125g2r_fpmH90 = {'Pupil': hex3_N125g2r, 'FPM': fpm_90deg_H,\n",
    "                             'LS': ls_N050, 'Image': image_params}\n",
    "design_params_N125g2r_fpmV90 = {'Pupil': hex3_N125g2r, 'FPM': fpm_90deg_V,\n",
    "                             'LS': ls_N050, 'Image': image_params}\n",
    "design_params_N125g2r_fpmH90_mono = {'Pupil': hex3_N125g2r, 'FPM': fpm_90deg_H,\n",
    "                                  'LS': ls_N050, 'Image': image_params_mono}\n",
    "design_params_N125g2r_fpmV90_mono = {'Pupil': hex3_N125g2r, 'FPM': fpm_90deg_V,\n",
    "                                  'LS': ls_N050, 'Image': image_params_mono}\n",
    "\n",
    "design_params_N250g1r_fpmH90 = {'Pupil': hex3_N250g1r, 'FPM': fpm_90deg_H,\n",
    "                                'LS': ls_N050, 'Image': image_params}\n",
    "\n",
    "fileorg = {'work dir': work_dir, 'TelAp dir': TelAp_dir,\n",
    "           'FPM dir': FPM_dir, 'LS dir': LS_dir}\n",
    "bar = {'method': 'bar'}\n",
    "barhompre0 = {'method': 'barhom', 'presolve': False}\n",
    "barhom = {'method': 'barhom', 'presolve': True}\n",
    "barhomconvtol = {'method': 'barhom', 'convtol':8.}"
   ]
  },
  {
   "cell_type": "markdown",
   "metadata": {},
   "source": [
    "## Initiate the coronagraph objects"
   ]
  },
  {
   "cell_type": "code",
   "execution_count": 9,
   "metadata": {
    "collapsed": false
   },
   "outputs": [],
   "source": [
    "hex3_splc_N125g2r_H90 = scda.QuarterplaneSPLC(design=design_params_N125g2r_fpmH90, fileorg=fileorg, solver=barhom)\n",
    "hex3_splc_N250g1r_H90 = scda.QuarterplaneSPLC(design=design_params_N250g1r_fpmH90, fileorg=fileorg, solver=barhom)\n",
    "\n",
    "#hex3_splc_N125_H90_pre0 = scda.QuarterplaneSPLC(design=design_params_N125_fpmH90, fileorg=fileorg, solver=barhompre0)\n",
    "#hex3_splc_N125_H90_pre1 = scda.QuarterplaneSPLC(design=design_params_N125_fpmH90, fileorg=fileorg, solver=barhom)\n",
    "#hex3_splc_N125_V90_pre0 = scda.QuarterplaneSPLC(design=design_params_N125_fpmV90, fileorg=fileorg, solver=barhompre0)\n",
    "#hex3_splc_N125_H90_pre0_mono = scda.QuarterplaneSPLC(design=design_params_N125_fpmH90_mono, fileorg=fileorg, solver=barhompre0)\n",
    "#hex3_splc_N125_H90_pre1_mono = scda.QuarterplaneSPLC(design=design_params_N125_fpmH90_mono, fileorg=fileorg, solver=barhom)\n",
    "#hex3_splc_N125_V90_pre0_mono = scda.QuarterplaneSPLC(design=design_params_N125_fpmV90_mono, fileorg=fileorg, solver=barhompre0)\n",
    "\n",
    "#hexap_splc_N250_pre0 = scda.QuarterplaneSPLC(design=design_params_N250, fileorg=fileorg, solver=barhompre0)\n",
    "#hexap_splc_N250_pre1 = scda.QuarterplaneSPLC(design=design_params_N250, fileorg=fileorg, solver=barhom)\n",
    "#hexap_splc_N250_pre0_mono = scda.QuarterplaneSPLC(design=design_params_N250_mono, fileorg=fileorg, solver=barhompre0)"
   ]
  },
  {
   "cell_type": "code",
   "execution_count": 11,
   "metadata": {
    "collapsed": false
   },
   "outputs": [
    {
     "data": {
      "text/plain": [
       "True"
      ]
     },
     "execution_count": 11,
     "metadata": {},
     "output_type": "execute_result"
    }
   ],
   "source": [
    "hex3_splc_N125g2r_H90.check_ampl_input_files()"
   ]
  },
  {
   "cell_type": "code",
   "execution_count": 12,
   "metadata": {
    "collapsed": false
   },
   "outputs": [
    {
     "data": {
      "text/plain": [
       "True"
      ]
     },
     "execution_count": 12,
     "metadata": {},
     "output_type": "execute_result"
    }
   ],
   "source": [
    "hex3_splc_N250g1r_H90.check_ampl_input_files()"
   ]
  },
  {
   "cell_type": "code",
   "execution_count": 13,
   "metadata": {
    "collapsed": false
   },
   "outputs": [
    {
     "name": "stdout",
     "output_type": "stream",
     "text": [
      "INFO:root:Wrote /astro/opticslab1/SCDA/Scripts/AMPL/qpsplc_june/SPLC_quart_hex3X025cobs1gap2_N0125r_FPM40R100H090res10_LSann20D80clearN0050_ImgC100BW10Nlam05dR5res2_linbarhompre1.mod\n",
      "INFO:root:Wrote /astro/opticslab1/SCDA/Scripts/AMPL/qpsplc_june/SPLC_quart_hex3X025cobs1gap1_N0250r_FPM40R100H090res10_LSann20D80clearN0050_ImgC100BW10Nlam05dR5res2_linbarhompre1.mod\n"
     ]
    },
    {
     "data": {
      "text/plain": [
       "0"
      ]
     },
     "execution_count": 13,
     "metadata": {},
     "output_type": "execute_result"
    }
   ],
   "source": [
    "hex3_splc_N125g2r_H90.write_ampl(overwrite=True)\n",
    "hex3_splc_N250g1r_H90.write_ampl(overwrite=True)"
   ]
  },
  {
   "cell_type": "code",
   "execution_count": 14,
   "metadata": {
    "collapsed": false
   },
   "outputs": [
    {
     "data": {
      "text/plain": [
       "['FPM_quart_occspot_M060.fits',\n",
       " 'FPM_quart_occspot_M060.dat',\n",
       " 'FPM_quart_diaphragm_040M100_H090deg.fits',\n",
       " 'FPM_quart_diaphragm_040M100_H090deg.dat']"
      ]
     },
     "execution_count": 14,
     "metadata": {},
     "output_type": "execute_result"
    }
   ],
   "source": [
    "os.listdir(os.path.join(input_dir,'FPM'))"
   ]
  },
  {
   "cell_type": "code",
   "execution_count": 15,
   "metadata": {
    "collapsed": false
   },
   "outputs": [
    {
     "name": "stdout",
     "output_type": "stream",
     "text": [
      "INFO:root:Wrote ./SPLC_quart_hex3X025cobs1gap2_N0125r_FPM40R100H090res10_LSann20D80clearN0050_ImgC100BW10Nlam05dR5res2_linbarhompre1.mod\n",
      "INFO:root:Wrote ./SPLC_quart_hex3X025cobs1gap1_N0250r_FPM40R100H090res10_LSann20D80clearN0050_ImgC100BW10Nlam05dR5res2_linbarhompre1.mod\n"
     ]
    },
    {
     "data": {
      "text/plain": [
       "['FPM_quart_diaphragm_040M100_H090deg.dat',\n",
       " 'LS_quart_ann20D80_clear_N0050.dat',\n",
       " 'run_qpsplc_june_t1.sh',\n",
       " 'SPLC_quart_hex3X025cobs1gap1_N0250r_FPM40R100H090res10_LSann20D80clearN0050_ImgC100BW10Nlam05dR5res2_linbarhompre1.mod',\n",
       " 'SPLC_quart_hex3X025cobs1gap1_N0250r_FPM40R100H090res10_LSann20D80clearN0050_ImgC100BW10Nlam05dR5res2_linbarhompre1.sh',\n",
       " 'SPLC_quart_hex3X025cobs1gap2_N0125r_FPM40R100H090res10_LSann20D80clearN0050_ImgC100BW10Nlam05dR5res2_linbarhompre1.mod',\n",
       " 'SPLC_quart_hex3X025cobs1gap2_N0125r_FPM40R100H090res10_LSann20D80clearN0050_ImgC100BW10Nlam05dR5res2_linbarhompre1.sh',\n",
       " 'TelAp_quart_hex3X025cobs1gap1_N0250.dat',\n",
       " 'TelAp_quart_hex3X025cobs1gap2_N0125.dat']"
      ]
     },
     "execution_count": 15,
     "metadata": {},
     "output_type": "execute_result"
    }
   ],
   "source": [
    "bundled_dir = os.path.expanduser(\"~/Box Sync/scda/qpsplc_june/qpsplc_june_t1/\")\n",
    "bundled_coron_list = scda.make_ampl_bundle([hex3_splc_N125g2r_H90, hex3_splc_N250g1r_H90],\n",
    "                                           bundled_dir, queue_spec='12h',\n",
    "                                           email=None, arch='hasw')\n",
    "os.listdir(bundled_dir)"
   ]
  },
  {
   "cell_type": "code",
   "execution_count": null,
   "metadata": {
    "collapsed": false
   },
   "outputs": [],
   "source": [
    "test_coron = hex3_splc_N125_H90_pre1_mono\n",
    "#test_coron = hex3_splc_N125_H90_pre1"
   ]
  },
  {
   "cell_type": "code",
   "execution_count": null,
   "metadata": {
    "collapsed": false
   },
   "outputs": [],
   "source": [
    "test_coron.get_metrics()"
   ]
  },
  {
   "cell_type": "code",
   "execution_count": null,
   "metadata": {
    "collapsed": false
   },
   "outputs": [],
   "source": [
    "TelAp_qp = np.loadtxt(test_coron.fileorg['TelAp fname'])\n",
    "TelAp = np.concatenate((np.concatenate((TelAp_qp[::-1,::-1], TelAp_qp[:,::-1]),axis=0),\n",
    "                        np.concatenate((TelAp_qp[::-1,:], TelAp_qp),axis=0)), axis=1)\n",
    "\n",
    "A_col = np.loadtxt(test_coron.fileorg['sol fname'])[:,-1]\n",
    "A_qp = A_col.reshape(TelAp_qp.shape)\n",
    "A = np.concatenate((np.concatenate((A_qp[::-1,::-1], A_qp[:,::-1]),axis=0),\n",
    "                    np.concatenate((A_qp[::-1,:], A_qp),axis=0)), axis=1)\n",
    "\n",
    "plt.figure(figsize=(10,10))\n",
    "plt.imshow(A*TelAp)\n",
    "plt.title('Apodizer')"
   ]
  },
  {
   "cell_type": "code",
   "execution_count": null,
   "metadata": {
    "collapsed": false,
    "scrolled": true
   },
   "outputs": [],
   "source": [
    "Nlam = 3\n",
    "intens_polychrom, seps, radial_intens_polychrom, ang_mask = test_coron.get_onax_psf(Nlam=Nlam)"
   ]
  },
  {
   "cell_type": "code",
   "execution_count": null,
   "metadata": {
    "collapsed": false
   },
   "outputs": [],
   "source": [
    "plt.imshow(ang_mask)"
   ]
  },
  {
   "cell_type": "code",
   "execution_count": null,
   "metadata": {
    "collapsed": false
   },
   "outputs": [],
   "source": [
    "plt.figure(figsize=(7,6))\n",
    "plt.plot(seps,np.log10(radial_intens_polychrom[0]),'b')\n",
    "plt.plot(seps,np.log10(radial_intens_polychrom[Nlam/2]),'g')\n",
    "plt.plot(seps,np.log10(radial_intens_polychrom[Nlam-1]),'r')\n",
    "#plt.legend([r'$\\lambda$ min',r'$\\lambda$ cent','$\\lambda$ max'],loc='upper left')\n",
    "plt.ylabel(r'log$_{10}(I/I_0)$',fontsize=15)\n",
    "plt.xlabel(r'Separation ($\\lambda/D$)',fontsize=15)"
   ]
  },
  {
   "cell_type": "code",
   "execution_count": null,
   "metadata": {
    "collapsed": false
   },
   "outputs": [],
   "source": [
    "plt.figure(figsize=(10,8))\n",
    "plt.imshow(np.log10(intens_polychrom[1]), cmap='CMRmap',vmin=-12,vmax=-7)\n",
    "plt.colorbar()\n",
    "p=plt.axis('off')"
   ]
  },
  {
   "cell_type": "code",
   "execution_count": null,
   "metadata": {
    "collapsed": true
   },
   "outputs": [],
   "source": []
  }
 ],
 "metadata": {
  "kernelspec": {
   "display_name": "Python 2",
   "language": "python",
   "name": "python2"
  },
  "language_info": {
   "codemirror_mode": {
    "name": "ipython",
    "version": 2
   },
   "file_extension": ".py",
   "mimetype": "text/x-python",
   "name": "python",
   "nbconvert_exporter": "python",
   "pygments_lexer": "ipython2",
   "version": "2.7.5"
  }
 },
 "nbformat": 4,
 "nbformat_minor": 0
}

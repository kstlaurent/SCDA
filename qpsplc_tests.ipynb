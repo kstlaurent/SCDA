{
 "cells": [
  {
   "cell_type": "code",
   "execution_count": 1,
   "metadata": {
    "collapsed": false
   },
   "outputs": [
    {
     "name": "stdout",
     "output_type": "stream",
     "text": [
      "Populating the interactive namespace from numpy and matplotlib\n",
      "Imported scda module from /Users/neil/STScI/SCDA/SCDA/scda.py\n"
     ]
    }
   ],
   "source": [
    "import scda\n",
    "import os\n",
    "import sys\n",
    "import shutil\n",
    "import numpy as np\n",
    "\n",
    "import matplotlib.pyplot as plt\n",
    "%pylab inline --no-import-all\n",
    "matplotlib.rcParams['image.origin'] = 'lower'\n",
    "matplotlib.rcParams['image.interpolation'] = 'nearest'\n",
    "matplotlib.rcParams['image.cmap'] = 'gray'\n",
    "matplotlib.rcParams['axes.linewidth'] = 1.\n",
    "matplotlib.rcParams['lines.linewidth'] = 2.5\n",
    "matplotlib.rcParams['font.size'] = 11\n",
    "\n",
    "import logging\n",
    "scda.configure_log()\n",
    "# The following two lines are a temporary fix for ipykernel's broken stderr output; \n",
    "# See https://github.com/ipython/ipykernel/issues/111\n",
    "logger = logging.getLogger() \n",
    "logger.handlers[0].stream = sys.stdout\n",
    "\n",
    "print(\"Imported scda module from {0:s}\".format(os.path.abspath(scda.__file__)))"
   ]
  },
  {
   "cell_type": "markdown",
   "metadata": {},
   "source": [
    "## Set the design parameters"
   ]
  },
  {
   "cell_type": "code",
   "execution_count": 2,
   "metadata": {
    "collapsed": true
   },
   "outputs": [],
   "source": [
    "pupil_params = {'N': 125, 'prim':'hex3', 'centobs':True, 'secobs':'X', 'thick':'025'}\n",
    "fpm_params = {'R0': 4., 'R1': 10., 'openang':180, 'fpmres': 10}\n",
    "ls_params = {'N': 125, 'obscure':0, 'id':25, 'od':80}\n",
    "image_params = {'c': 10., 'dR':-0.5, 'bw':0.10, 'Nlam':5}"
   ]
  },
  {
   "cell_type": "code",
   "execution_count": 3,
   "metadata": {
    "collapsed": false
   },
   "outputs": [],
   "source": [
    "#work_dir = \"/astro/opticslab1/SCDA/Scripts/AMPL/scda_qpsplc_tests/\"\n",
    "work_dir = os.path.expanduser(\"~/Box Sync/scda/scda_qpsplc_tests/\")\n",
    "if not os.path.exists(os.path.normpath(work_dir)):\n",
    "    os.mkdir(work_dir)\n",
    "#input_dir = \"/astro/opticslab1/SCDA/Apertures/InputMasks\" # location of input TelAp, FPM, and LS arrays\n",
    "input_dir = os.path.expanduser(\"~/Box Sync/scda/InputMasks\")\n",
    "TelAp_dir = os.path.join(input_dir, \"TelAp\")\n",
    "FPM_dir = os.path.join(input_dir, \"FPM\")\n",
    "LS_dir = os.path.join(input_dir, \"LS\")"
   ]
  },
  {
   "cell_type": "code",
   "execution_count": 4,
   "metadata": {
    "collapsed": true
   },
   "outputs": [],
   "source": [
    "design_params = {'Pupil': pupil_params, 'FPM': fpm_params,\n",
    "                 'LS': ls_params, 'Image': image_params}\n",
    "fileorg = {'work dir': work_dir, 'TelAp dir': TelAp_dir,\n",
    "           'FPM dir': FPM_dir, 'LS dir': LS_dir}\n",
    "bar = {'method': 'bar'}\n",
    "barhom = {'method': 'barhom'}\n",
    "barhomconvtol = {'method': 'barhom', 'convtol':8.}"
   ]
  },
  {
   "cell_type": "markdown",
   "metadata": {},
   "source": [
    "## Initiate the coronagraph objects"
   ]
  },
  {
   "cell_type": "code",
   "execution_count": 5,
   "metadata": {
    "collapsed": false
   },
   "outputs": [],
   "source": [
    "hexap_splc = scda.QuarterplaneSPLC(design=design_params, fileorg=fileorg, solver=barhom)"
   ]
  },
  {
   "cell_type": "code",
   "execution_count": 6,
   "metadata": {
    "collapsed": false
   },
   "outputs": [
    {
     "data": {
      "text/plain": [
       "{'FPM dir': '/Users/neil/Box Sync/scda/InputMasks/FPM',\n",
       " 'FPM fname': '/Users/neil/Box Sync/scda/InputMasks/FPM/FPM_quart_diaphragm_040M100_H180deg.dat',\n",
       " 'LS dir': '/Users/neil/Box Sync/scda/InputMasks/LS',\n",
       " 'LS fname': '/Users/neil/Box Sync/scda/InputMasks/LS/LS_quart_ann25D80_clear_N0125.dat',\n",
       " 'TelAp dir': '/Users/neil/Box Sync/scda/InputMasks/TelAp',\n",
       " 'TelAp fname': '/Users/neil/Box Sync/scda/InputMasks/TelAp/TelAp_quart_hex3X025cobs1_N0125.dat',\n",
       " 'ampl src dir': '/Users/neil/Box Sync/scda/scda_qpsplc_tests/',\n",
       " 'ampl src fname': '/Users/neil/Box Sync/scda/scda_qpsplc_tests/SPLC_quart_hex3X025cobs1_N0125_FPM40R100H180res10_LSann25D80clear_Img100C_BW10Nlam05dR5res2_linbarhompre1.mod',\n",
       " 'eval dir': '/Users/neil/Box Sync/scda/scda_qpsplc_tests/',\n",
       " 'job name': 'SPLC_quart_hex3X025cobs1_N0125_FPM40R100H180res10_LSann25D80clear_Img100C_BW10Nlam05dR5res2_linbarhompre1',\n",
       " 'log dir': '/Users/neil/Box Sync/scda/scda_qpsplc_tests/',\n",
       " 'log fname': '/Users/neil/Box Sync/scda/scda_qpsplc_tests/SPLC_quart_hex3X025cobs1_N0125_FPM40R100H180res10_LSann25D80clear_Img100C_BW10Nlam05dR5res2_linbarhompre1.log',\n",
       " 'slurm dir': '/Users/neil/Box Sync/scda/scda_qpsplc_tests/',\n",
       " 'slurm fname': '/Users/neil/Box Sync/scda/scda_qpsplc_tests/SPLC_quart_hex3X025cobs1_N0125_FPM40R100H180res10_LSann25D80clear_Img100C_BW10Nlam05dR5res2_linbarhompre1.sh',\n",
       " 'sol dir': '/Users/neil/Box Sync/scda/scda_qpsplc_tests/',\n",
       " 'sol fname': '/Users/neil/Box Sync/scda/scda_qpsplc_tests/ApodSol_SPLC_quart_hex3X025cobs1_N0125_FPM40R100H180res10_LSann25D80clear_Img100C_BW10Nlam05dR5res2_linbarhompre1.dat',\n",
       " 'work dir': '/Users/neil/Box Sync/scda/scda_qpsplc_tests/'}"
      ]
     },
     "execution_count": 6,
     "metadata": {},
     "output_type": "execute_result"
    }
   ],
   "source": [
    "hexap_splc.fileorg"
   ]
  },
  {
   "cell_type": "code",
   "execution_count": 7,
   "metadata": {
    "collapsed": false
   },
   "outputs": [
    {
     "data": {
      "text/plain": [
       "{'ampl_infile_status': True,\n",
       " 'ampl_submission_status': None,\n",
       " 'amplname_coron': 'SPLC_quart',\n",
       " 'amplname_fpm': 'FPM40R100H180res10',\n",
       " 'amplname_image': 'Img100C_BW10Nlam05dR5res2',\n",
       " 'amplname_ls': 'LSann25D80clear',\n",
       " 'amplname_pupil': 'hex3X025cobs1_N0125',\n",
       " 'amplname_solver': 'linbarhompre1',\n",
       " 'design': {'FPM': {'M': 100,\n",
       "   'R0': 4.0,\n",
       "   'R1': 10.0,\n",
       "   'fpmres': 10,\n",
       "   'openang': 180,\n",
       "   'orient': 'H'},\n",
       "  'Image': {'Nimg': 22,\n",
       "   'Nlam': 5,\n",
       "   'bw': 0.1,\n",
       "   'bw+': 0.1142857142857143,\n",
       "   'c': 10.0,\n",
       "   'dR': -0.5,\n",
       "   'fpres': 2},\n",
       "  'LS': {'N': 125,\n",
       "   'aligntol': None,\n",
       "   'aligntolcon': 3.0,\n",
       "   'id': 25,\n",
       "   'obscure': 0,\n",
       "   'od': 80,\n",
       "   'ppad': 0,\n",
       "   'shape': 'ann',\n",
       "   'spad': 0},\n",
       "  'Pupil': {'N': 125,\n",
       "   'centobs': True,\n",
       "   'prim': 'hex3',\n",
       "   'secobs': 'X',\n",
       "   'thick': '025'}},\n",
       " 'eval_metrics': {'airy thrupt': None,\n",
       "  'apod nb res ratio': None,\n",
       "  'fwhm area': None},\n",
       " 'fileorg': {'FPM dir': '/Users/neil/Box Sync/scda/InputMasks/FPM',\n",
       "  'FPM fname': '/Users/neil/Box Sync/scda/InputMasks/FPM/FPM_quart_diaphragm_040M100_H180deg.dat',\n",
       "  'LS dir': '/Users/neil/Box Sync/scda/InputMasks/LS',\n",
       "  'LS fname': '/Users/neil/Box Sync/scda/InputMasks/LS/LS_quart_ann25D80_clear_N0125.dat',\n",
       "  'TelAp dir': '/Users/neil/Box Sync/scda/InputMasks/TelAp',\n",
       "  'TelAp fname': '/Users/neil/Box Sync/scda/InputMasks/TelAp/TelAp_quart_hex3X025cobs1_N0125.dat',\n",
       "  'ampl src dir': '/Users/neil/Box Sync/scda/scda_qpsplc_tests/',\n",
       "  'ampl src fname': '/Users/neil/Box Sync/scda/scda_qpsplc_tests/SPLC_quart_hex3X025cobs1_N0125_FPM40R100H180res10_LSann25D80clear_Img100C_BW10Nlam05dR5res2_linbarhompre1.mod',\n",
       "  'eval dir': '/Users/neil/Box Sync/scda/scda_qpsplc_tests/',\n",
       "  'job name': 'SPLC_quart_hex3X025cobs1_N0125_FPM40R100H180res10_LSann25D80clear_Img100C_BW10Nlam05dR5res2_linbarhompre1',\n",
       "  'log dir': '/Users/neil/Box Sync/scda/scda_qpsplc_tests/',\n",
       "  'log fname': '/Users/neil/Box Sync/scda/scda_qpsplc_tests/SPLC_quart_hex3X025cobs1_N0125_FPM40R100H180res10_LSann25D80clear_Img100C_BW10Nlam05dR5res2_linbarhompre1.log',\n",
       "  'slurm dir': '/Users/neil/Box Sync/scda/scda_qpsplc_tests/',\n",
       "  'slurm fname': '/Users/neil/Box Sync/scda/scda_qpsplc_tests/SPLC_quart_hex3X025cobs1_N0125_FPM40R100H180res10_LSann25D80clear_Img100C_BW10Nlam05dR5res2_linbarhompre1.sh',\n",
       "  'sol dir': '/Users/neil/Box Sync/scda/scda_qpsplc_tests/',\n",
       "  'sol fname': '/Users/neil/Box Sync/scda/scda_qpsplc_tests/ApodSol_SPLC_quart_hex3X025cobs1_N0125_FPM40R100H180res10_LSann25D80clear_Img100C_BW10Nlam05dR5res2_linbarhompre1.dat',\n",
       "  'work dir': '/Users/neil/Box Sync/scda/scda_qpsplc_tests/'},\n",
       " 'solver': {'constr': 'lin',\n",
       "  'convtol': None,\n",
       "  'method': 'barhom',\n",
       "  'presolve': True,\n",
       "  'solver': 'gurobi',\n",
       "  'threads': None}}"
      ]
     },
     "execution_count": 7,
     "metadata": {},
     "output_type": "execute_result"
    }
   ],
   "source": [
    "hexap_splc.__dict__"
   ]
  },
  {
   "cell_type": "code",
   "execution_count": 8,
   "metadata": {
    "collapsed": false
   },
   "outputs": [
    {
     "name": "stdout",
     "output_type": "stream",
     "text": [
      "WARNING:root:Warning: Overwriting the existing copy of /Users/neil/Box Sync/scda/scda_qpsplc_tests/SPLC_quart_hex3X025cobs1_N0125_FPM40R100H180res10_LSann25D80clear_Img100C_BW10Nlam05dR5res2_linbarhompre1.mod\n",
      "INFO:root:Wrote /Users/neil/Box Sync/scda/scda_qpsplc_tests/SPLC_quart_hex3X025cobs1_N0125_FPM40R100H180res10_LSann25D80clear_Img100C_BW10Nlam05dR5res2_linbarhompre1.mod\n"
     ]
    },
    {
     "data": {
      "text/plain": [
       "0"
      ]
     },
     "execution_count": 8,
     "metadata": {},
     "output_type": "execute_result"
    }
   ],
   "source": [
    "hexap_splc.write_ampl(overwrite=True)"
   ]
  },
  {
   "cell_type": "code",
   "execution_count": 9,
   "metadata": {
    "collapsed": false
   },
   "outputs": [
    {
     "data": {
      "text/plain": [
       "['FPM_quart_diaphragm_040M100_H090deg.dat',\n",
       " 'FPM_quart_diaphragm_040M100_H090deg.fits',\n",
       " 'FPM_quart_diaphragm_040M100_H180deg.dat',\n",
       " 'FPM_quart_diaphragm_040M100_H180deg.fits',\n",
       " 'FPM_quart_diaphragm_040M100_V090deg.dat',\n",
       " 'FPM_quart_diaphragm_040M100_V090deg.fits',\n",
       " 'FPM_quart_occspot_M050.dat',\n",
       " 'FPM_quart_occspot_M050.fits',\n",
       " 'FPM_quart_occspot_M060.dat',\n",
       " 'FPM_quart_occspot_M060.fits',\n",
       " 'FPM_quart_occspot_M070.dat',\n",
       " 'FPM_quart_occspot_M070.fits']"
      ]
     },
     "execution_count": 9,
     "metadata": {},
     "output_type": "execute_result"
    }
   ],
   "source": [
    "os.listdir(os.path.join(input_dir,'FPM'))"
   ]
  },
  {
   "cell_type": "code",
   "execution_count": 10,
   "metadata": {
    "collapsed": false
   },
   "outputs": [
    {
     "data": {
      "text/plain": [
       "16331239353195.371"
      ]
     },
     "execution_count": 10,
     "metadata": {},
     "output_type": "execute_result"
    }
   ],
   "source": [
    "np.tan(np.pi/2)*0.001"
   ]
  },
  {
   "cell_type": "code",
   "execution_count": 11,
   "metadata": {
    "collapsed": false
   },
   "outputs": [
    {
     "name": "stdout",
     "output_type": "stream",
     "text": [
      "WARNING:root:Warning: Overwriting the existing copy of ./SPLC_quart_hex3X025cobs1_N0125_FPM40R100H180res10_LSann25D80clear_Img100C_BW10Nlam05dR5res2_linbarhompre1.mod\n",
      "INFO:root:Wrote ./SPLC_quart_hex3X025cobs1_N0125_FPM40R100H180res10_LSann25D80clear_Img100C_BW10Nlam05dR5res2_linbarhompre1.mod\n"
     ]
    },
    {
     "data": {
      "text/plain": [
       "['FPM_quart_diaphragm_040M100_H180deg.dat',\n",
       " 'LS_quart_ann25D80_clear_N0125.dat',\n",
       " 'run_qpsplc_test_bundle.sh',\n",
       " 'SPLC_quart_hex3X025cobs1_N0125_FPM40R100H180res10_LSann25D80clear_Img100C_BW10Nlam05dR5res2_linbarhompre1.mod',\n",
       " 'SPLC_quart_hex3X025cobs1_N0125_FPM40R100H180res10_LSann25D80clear_Img100C_BW10Nlam05dR5res2_linbarhompre1.sh',\n",
       " 'TelAp_quart_hex3X025cobs1_N0125.dat']"
      ]
     },
     "execution_count": 11,
     "metadata": {},
     "output_type": "execute_result"
    }
   ],
   "source": [
    "bundled_dir = os.path.expanduser(\"~/Box Sync/scda/qpsplc_test_bundle/\")\n",
    "bundled_coron_list = scda.make_ampl_bundle([hexap_splc], bundled_dir, queue_spec='12h',\n",
    "                                           email='ntz@stsci.edu', arch='hasw')\n",
    "os.listdir(bundled_dir)"
   ]
  },
  {
   "cell_type": "code",
   "execution_count": null,
   "metadata": {
    "collapsed": true
   },
   "outputs": [],
   "source": []
  }
 ],
 "metadata": {
  "kernelspec": {
   "display_name": "Python 2",
   "language": "python",
   "name": "python2"
  },
  "language_info": {
   "codemirror_mode": {
    "name": "ipython",
    "version": 2
   },
   "file_extension": ".py",
   "mimetype": "text/x-python",
   "name": "python",
   "nbconvert_exporter": "python",
   "pygments_lexer": "ipython2",
   "version": "2.7.5"
  }
 },
 "nbformat": 4,
 "nbformat_minor": 0
}

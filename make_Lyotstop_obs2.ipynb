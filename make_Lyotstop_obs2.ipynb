{
 "cells": [
  {
   "cell_type": "code",
   "execution_count": 148,
   "metadata": {
    "collapsed": false
   },
   "outputs": [
    {
     "name": "stdout",
     "output_type": "stream",
     "text": [
      "Populating the interactive namespace from numpy and matplotlib\n"
     ]
    }
   ],
   "source": [
    "import numpy as np\n",
    "import skimage.transform\n",
    "import astropy.io.fits as fits\n",
    "import matplotlib.pyplot as plt\n",
    "import os\n",
    "%pylab inline --no-import-all\n",
    "matplotlib.rcParams['image.origin'] = 'lower'\n",
    "matplotlib.rcParams['image.interpolation'] = 'nearest' \n",
    "matplotlib.rcParams['image.cmap'] = 'gray'"
   ]
  },
  {
   "cell_type": "markdown",
   "metadata": {},
   "source": [
    "## Dictionary to map file keys from STScI to Krist"
   ]
  },
  {
   "cell_type": "code",
   "execution_count": 149,
   "metadata": {
    "collapsed": true
   },
   "outputs": [],
   "source": [
    "prim_key_map = {'hex1':'hex1', 'hex2':'hex2', 'hex3':'hex3', 'hex4':'hex4',\n",
    "                'key24':'keystone24', 'pie08':'piewedge8', 'pie12':'piewedge12'}\n",
    "secobs_key_map = {'Cross':'cross', 'X':'x'}"
   ]
  },
  {
   "cell_type": "markdown",
   "metadata": {},
   "source": [
    "## Set basic parameters"
   ]
  },
  {
   "cell_type": "code",
   "execution_count": 186,
   "metadata": {
    "collapsed": true
   },
   "outputs": [],
   "source": [
    "overwrite = False\n",
    "N = 250 # pupil array quadrant width after binning\n",
    "iD = 20\n",
    "oD = 110\n",
    "aligntol = 2 # units of thousandths of pupil diameter\n",
    "pad = 5 # units of thousandths of pupil diameter\n",
    "prim_key = \"hex1\"\n",
    "secobs_key = \"X\"\n",
    "D = 1000\n",
    "symm = 'quart' # set to either 'quart' or 'half'"
   ]
  },
  {
   "cell_type": "code",
   "execution_count": 187,
   "metadata": {
    "collapsed": false
   },
   "outputs": [
    {
     "name": "stdout",
     "output_type": "stream",
     "text": [
      "Destination /astro/opticslab1/SCDA/Apertures/InputMasks_v3/LS already exists\n"
     ]
    }
   ],
   "source": [
    "#LS_dir = os.path.abspath(\"../InputMasks/LS\")\n",
    "#LS_dir = os.path.normpath(\"/astro/opticslab1/SCDA/Apertures/InputMasks/LS\")\n",
    "#LS_dir = os.path.normpath(\"/astro/opticslab1/SCDA/Apertures/InputMasks_v2/LS\")\n",
    "LS_dir = os.path.normpath(\"/astro/opticslab1/SCDA/Apertures/InputMasks_v3/LS\")\n",
    "if not os.path.exists(LS_dir):\n",
    "    os.mkdir(LS_dir)\n",
    "    print(\"created {:s} for LS arrays\".format(LS_dir))\n",
    "else:\n",
    "    print(\"Destination {:s} already exists\".format(LS_dir))"
   ]
  },
  {
   "cell_type": "markdown",
   "metadata": {},
   "source": [
    "## Load primary mirror and secondary obscuration"
   ]
  },
  {
   "cell_type": "code",
   "execution_count": 188,
   "metadata": {
    "collapsed": false
   },
   "outputs": [],
   "source": [
    "#telap_dir = os.path.abspath('../Apertures/JPL/offset_masks')\n",
    "telap_dir = os.path.normpath('/astro/opticslab1/SCDA/Apertures/JPL/offset_masks')\n",
    "prim_fname = os.path.join(telap_dir, \"{0:s}_{1:04d}pix_offset.fits\".format(prim_key_map[prim_key], D))\n",
    "secobs_fname = os.path.join(telap_dir, \"{0:s}_spiders_{1:04d}pix_2.5cm_offset.fits\".format(\n",
    "                                       secobs_key_map[secobs_key], D))\n",
    "prim_hdulist = fits.open(prim_fname, \"readonly\")\n",
    "prim = prim_hdulist[0].data\n",
    "prim_hdulist.close()\n",
    "secobs_hdulist = fits.open(secobs_fname, \"readonly\")\n",
    "secobs = secobs_hdulist[0].data\n",
    "secobs_hdulist.close()\n",
    "telap = prim*secobs"
   ]
  },
  {
   "cell_type": "code",
   "execution_count": 189,
   "metadata": {
    "collapsed": false
   },
   "outputs": [
    {
     "data": {
      "text/plain": [
       "<matplotlib.image.AxesImage at 0x12111c650>"
      ]
     },
     "execution_count": 189,
     "metadata": {},
     "output_type": "execute_result"
    },
    {
     "data": {
      "image/png": "[encoded data removed]",
      "text/plain": [
       "<matplotlib.figure.Figure at 0x118178090>"
      ]
     },
     "metadata": {},
     "output_type": "display_data"
    }
   ],
   "source": [
    "plt.figure(figsize=(10,10))\n",
    "plt.imshow(telap[500:700,500:700])"
   ]
  },
  {
   "cell_type": "markdown",
   "metadata": {},
   "source": [
    "## Pad the secondary obscuration"
   ]
  },
  {
   "cell_type": "code",
   "execution_count": 190,
   "metadata": {
    "collapsed": false
   },
   "outputs": [],
   "source": [
    "max_shift = int(round(D*float(pad)/1000))\n",
    "shift_range = range(-max_shift,max_shift+1,1)"
   ]
  },
  {
   "cell_type": "code",
   "execution_count": 191,
   "metadata": {
    "collapsed": false
   },
   "outputs": [],
   "source": [
    "[Xshifts, Yshifts] = np.meshgrid(shift_range, shift_range)"
   ]
  },
  {
   "cell_type": "code",
   "execution_count": 192,
   "metadata": {
    "collapsed": true
   },
   "outputs": [],
   "source": [
    "allowed_shifts = np.less_equal(Xshifts**2 + Yshifts**2, max_shift**2)"
   ]
  },
  {
   "cell_type": "code",
   "execution_count": 193,
   "metadata": {
    "collapsed": false
   },
   "outputs": [
    {
     "data": {
      "text/plain": [
       "(11, 11)"
      ]
     },
     "execution_count": 193,
     "metadata": {},
     "output_type": "execute_result"
    }
   ],
   "source": [
    "allowed_shifts.shape"
   ]
  },
  {
   "cell_type": "code",
   "execution_count": 194,
   "metadata": {
    "collapsed": true
   },
   "outputs": [],
   "source": [
    "XYshifts_allowed = zip(Xshifts[allowed_shifts], Yshifts[allowed_shifts])"
   ]
  },
  {
   "cell_type": "code",
   "execution_count": 195,
   "metadata": {
    "collapsed": false
   },
   "outputs": [
    {
     "data": {
      "text/plain": [
       "81"
      ]
     },
     "execution_count": 195,
     "metadata": {},
     "output_type": "execute_result"
    }
   ],
   "source": [
    "len(XYshifts_allowed)"
   ]
  },
  {
   "cell_type": "code",
   "execution_count": 196,
   "metadata": {
    "collapsed": false
   },
   "outputs": [],
   "source": [
    "padded_telap_accum = np.ones(telap.shape)\n",
    "for (xshift,yshift) in XYshifts_allowed:\n",
    "    telap_shifted = np.roll(np.roll(telap, yshift, 0), xshift, 1) \n",
    "    padded_telap_accum *= telap_shifted"
   ]
  },
  {
   "cell_type": "code",
   "execution_count": 197,
   "metadata": {
    "collapsed": false
   },
   "outputs": [
    {
     "data": {
      "text/plain": [
       "<matplotlib.image.AxesImage at 0x11d22c610>"
      ]
     },
     "execution_count": 197,
     "metadata": {},
     "output_type": "execute_result"
    },
    {
     "data": {
      "image/png": "[encoded data removed]",
      "text/plain": [
       "<matplotlib.figure.Figure at 0x11d204450>"
      ]
     },
     "metadata": {},
     "output_type": "display_data"
    }
   ],
   "source": [
    "plt.figure(figsize=(10,10))\n",
    "plt.imshow(padded_telap_accum)"
   ]
  },
  {
   "cell_type": "markdown",
   "metadata": {},
   "source": [
    "## Combine with annular stop"
   ]
  },
  {
   "cell_type": "code",
   "execution_count": 198,
   "metadata": {
    "collapsed": false
   },
   "outputs": [],
   "source": [
    "L = secobs.shape[0]\n",
    "inD = float(iD)/100\n",
    "outD = float(oD)/100\n",
    "xs = np.linspace(-L/2 + 0.5, L/2 - 0.5, L)\n",
    "[Xs, Ys] = np.meshgrid(xs, xs)\n",
    "inside_ann = np.less_equal(Xs**2 + Ys**2, (inD*D/2)**2)\n",
    "outside_ann = np.greater_equal(Xs**2 + Ys**2, (outD*D/2)**2)\n",
    "Lyot_stop = np.round(padded_telap_accum)\n",
    "Lyot_stop[inside_ann] = 0.\n",
    "Lyot_stop[outside_ann] = 0."
   ]
  },
  {
   "cell_type": "code",
   "execution_count": 199,
   "metadata": {
    "collapsed": false
   },
   "outputs": [
    {
     "data": {
      "text/plain": [
       "<matplotlib.image.AxesImage at 0x11d2c4b50>"
      ]
     },
     "execution_count": 199,
     "metadata": {},
     "output_type": "execute_result"
    },
    {
     "data": {
      "image/png": "[encoded data removed]",
      "text/plain": [
       "<matplotlib.figure.Figure at 0x11d2149d0>"
      ]
     },
     "metadata": {},
     "output_type": "display_data"
    }
   ],
   "source": [
    "plt.figure(figsize=(12,12))\n",
    "plt.imshow(Lyot_stop)"
   ]
  },
  {
   "cell_type": "markdown",
   "metadata": {},
   "source": [
    "## Bin to final array resolution, crop"
   ]
  },
  {
   "cell_type": "code",
   "execution_count": 200,
   "metadata": {
    "collapsed": false
   },
   "outputs": [
    {
     "name": "stdout",
     "output_type": "stream",
     "text": [
      "Binning the original LS array 2x\n"
     ]
    }
   ],
   "source": [
    "#scalefac = float(N)/(D/2)\n",
    "#Lyot_stop_binned = scipy.ndimage.zoom(Lyot_stop, scalefac, order=1)\n",
    "\n",
    "N_orig = D/2\n",
    "scalefac = int(N_orig/N)\n",
    "print(\"Binning the original LS array {0:d}x\".format(scalefac))\n",
    "Lyot_stop_binned = np.reshape(Lyot_stop, (Lyot_stop.shape[0]/scalefac, scalefac, \n",
    "                                          Lyot_stop.shape[1]/scalefac, scalefac)).mean(1).mean(2)\n",
    "telap_binned = np.reshape(telap, (telap.shape[0]/scalefac, scalefac, \n",
    "                                  telap.shape[1]/scalefac, scalefac)).mean(1).mean(2)"
   ]
  },
  {
   "cell_type": "code",
   "execution_count": 201,
   "metadata": {
    "collapsed": false
   },
   "outputs": [
    {
     "name": "stdout",
     "output_type": "stream",
     "text": [
      "(250, 250)\n"
     ]
    }
   ],
   "source": [
    "L_bin = Lyot_stop_binned.shape[0]\n",
    "if symm is 'half':\n",
    "    Lyot_stop_binned_crop = Lyot_stop_binned[L_bin/2-N:L_bin/2+N,L_bin/2:L_bin/2+N]\n",
    "    Lyot_stop_binned_crop_binary = np.round(Lyot_stop_binned_half).astype(int)\n",
    "    print Lyot_stop_binned_crop.shape\n",
    "else:\n",
    "    Lyot_stop_binned_crop = Lyot_stop_binned[L_bin/2:L_bin/2+N,L_bin/2:L_bin/2+N]\n",
    "    Lyot_stop_binned_crop_binary = np.round(Lyot_stop_binned_crop).astype(int)\n",
    "    print Lyot_stop_binned_crop.shape"
   ]
  },
  {
   "cell_type": "code",
   "execution_count": 202,
   "metadata": {
    "collapsed": false
   },
   "outputs": [
    {
     "data": {
      "image/png": "[encoded data removed]",
      "text/plain": [
       "<matplotlib.figure.Figure at 0x11d2ab110>"
      ]
     },
     "metadata": {},
     "output_type": "display_data"
    }
   ],
   "source": [
    "if symm is 'half':\n",
    "    plt.figure(figsize=(20,10))\n",
    "    plt.imshow(Lyot_stop_binned_crop_binary)\n",
    "    #plt.imshow(Lyot_stop_binned_crop)\n",
    "else:\n",
    "    plt.figure(figsize=(10,10))\n",
    "    #plt.imshow(Lyot_stop_binned_crop)\n",
    "    plt.imshow(Lyot_stop_binned_crop_binary)"
   ]
  },
  {
   "cell_type": "markdown",
   "metadata": {},
   "source": [
    "## Write the binned, cropped Lyot stop to a dat (ASCII) file "
   ]
  },
  {
   "cell_type": "code",
   "execution_count": 203,
   "metadata": {
    "collapsed": false
   },
   "outputs": [
    {
     "name": "stdout",
     "output_type": "stream",
     "text": [
      "Wrote binned, cropped LS array to /astro/opticslab1/SCDA/Apertures/InputMasks_v3/LS/LS_quart_ann20D110_hex1X025cobs1Pad05_N0250.dat\n"
     ]
    }
   ],
   "source": [
    "if symm is 'half':\n",
    "    LS_dat_fname_tail = \"LS_half_ann{0:02d}D{1:02d}_{2:s}{3:s}025cobs1Pad{4:02d}_N{5:04d}.dat\".format(\n",
    "                         int(round(100*inD)), int(round(100*outD)), prim_key, secobs_key, pad, N)\n",
    "else:\n",
    "    LS_dat_fname_tail = \"LS_quart_ann{0:02d}D{1:02d}_{2:s}{3:s}025cobs1Pad{4:02d}_N{5:04d}.dat\".format(\n",
    "                         int(round(100*inD)), int(round(100*outD)), prim_key, secobs_key, pad, N)\n",
    "\n",
    "LS_dat_fname = os.path.join(LS_dir, LS_dat_fname_tail)\n",
    "\n",
    "if not os.path.exists(LS_dat_fname) or overwrite==True:\n",
    "    #np.savetxt(LS_dat_fname, Lyot_stop_binned_crop, fmt='%.6f', delimiter=\" \")\n",
    "    np.savetxt(LS_dat_fname, Lyot_stop_binned_crop_binary, fmt='%d', delimiter=\" \")\n",
    "    print(\"Wrote binned, cropped LS array to {0:s}\".format(LS_dat_fname))\n",
    "else:\n",
    "    print(\"LS array {0:s} already exists, will not overwrite\".format(LS_dat_fname))"
   ]
  },
  {
   "cell_type": "code",
   "execution_count": 204,
   "metadata": {
    "collapsed": false
   },
   "outputs": [
    {
     "data": {
      "text/plain": [
       "['LS_quart_ann20D76_hex1X025cobs1Pad05_N0250.dat',\n",
       " 'LDZ_quart_ann20D76_hex1X025cobs1Pad05_Tol02_N0250.dat',\n",
       " 'LS_quart_ann20D110_hex1X025cobs1Pad05_N0250.dat']"
      ]
     },
     "execution_count": 204,
     "metadata": {},
     "output_type": "execute_result"
    }
   ],
   "source": [
    "os.listdir(LS_dir)"
   ]
  },
  {
   "cell_type": "code",
   "execution_count": 205,
   "metadata": {
    "collapsed": true
   },
   "outputs": [],
   "source": [
    "# os.remove(LS_dat_fname)"
   ]
  },
  {
   "cell_type": "markdown",
   "metadata": {},
   "source": [
    "# Define Lyot plane dark zone"
   ]
  },
  {
   "cell_type": "code",
   "execution_count": 206,
   "metadata": {
    "collapsed": false
   },
   "outputs": [
    {
     "name": "stdout",
     "output_type": "stream",
     "text": [
      "Lyot plane dark zone width in binned array: +/- 1 pixels\n"
     ]
    }
   ],
   "source": [
    "orig_LS = np.round(Lyot_stop_binned[L_bin/2-N:L_bin/2+N,L_bin/2-N:L_bin/2+N]).astype(int)\n",
    "orig_telap = telap_binned[L_bin/2-N:L_bin/2+N,L_bin/2-N:L_bin/2+N]\n",
    "dz_width_fac = float(aligntol)/1000              # dark zone is +/- this fraction of pupil diameter\n",
    "dz_width = np.ceil(2*N*dz_width_fac).astype(int) # dark zone is +/- this number of pixels in binned pupil array\n",
    "print(\"Lyot plane dark zone width in binned array: +/- {:d} pixels\".format(dz_width))"
   ]
  },
  {
   "cell_type": "code",
   "execution_count": 207,
   "metadata": {
    "collapsed": true
   },
   "outputs": [],
   "source": [
    "max_shift = dz_width\n",
    "shift_range = range(-max_shift,max_shift+1,1)\n",
    "[Xshifts, Yshifts] = np.meshgrid(shift_range, shift_range)\n",
    "allowed_shifts = np.less_equal(Xshifts**2 + Yshifts**2, max_shift**2)"
   ]
  },
  {
   "cell_type": "code",
   "execution_count": 208,
   "metadata": {
    "collapsed": false
   },
   "outputs": [
    {
     "data": {
      "text/plain": [
       "array([[False,  True, False],\n",
       "       [ True,  True,  True],\n",
       "       [False,  True, False]], dtype=bool)"
      ]
     },
     "execution_count": 208,
     "metadata": {},
     "output_type": "execute_result"
    }
   ],
   "source": [
    "allowed_shifts"
   ]
  },
  {
   "cell_type": "code",
   "execution_count": 209,
   "metadata": {
    "collapsed": false
   },
   "outputs": [
    {
     "data": {
      "text/plain": [
       "5"
      ]
     },
     "execution_count": 209,
     "metadata": {},
     "output_type": "execute_result"
    }
   ],
   "source": [
    "XYshifts_allowed = zip(Xshifts[allowed_shifts], Yshifts[allowed_shifts])\n",
    "len(XYshifts_allowed)"
   ]
  },
  {
   "cell_type": "code",
   "execution_count": 210,
   "metadata": {
    "collapsed": false
   },
   "outputs": [],
   "source": [
    "fat_LS = np.ones(orig_LS.shape)\n",
    "for (xshift,yshift) in XYshifts_allowed:\n",
    "    LS_shifted = np.roll(np.roll(orig_LS, yshift, 0), xshift, 1) \n",
    "    fat_LS *= LS_shifted\n",
    "\n",
    "inv_thin_LS = np.ones(orig_LS.shape)\n",
    "for (xshift,yshift) in XYshifts_allowed:\n",
    "    inv_LS_shifted = 1-np.roll(np.roll(orig_LS, yshift, 0), xshift, 1) \n",
    "    inv_thin_LS *= inv_LS_shifted\n",
    "thin_LS = 1-inv_thin_LS"
   ]
  },
  {
   "cell_type": "code",
   "execution_count": 211,
   "metadata": {
    "collapsed": false
   },
   "outputs": [],
   "source": [
    "Lyot_dz = np.logical_xor(thin_LS, fat_LS)\n",
    "L = Lyot_dz.shape[0]\n",
    "\n",
    "if symm is 'half':\n",
    "    Lyot_dz_crop = Lyot_dz[:,N:]\n",
    "else:\n",
    "    Lyot_dz_crop = Lyot_dz[N:,N:]\n",
    "\n",
    "#plt.figure(figsize=(16,16))\n",
    "#plt.imshow(Lyot_dz)"
   ]
  },
  {
   "cell_type": "code",
   "execution_count": 212,
   "metadata": {
    "collapsed": false
   },
   "outputs": [
    {
     "name": "stdout",
     "output_type": "stream",
     "text": [
      "None of the zero-valued telescope aperture points intersect with the Lyot constraint region? True\n"
     ]
    }
   ],
   "source": [
    "#plt.figure(figsize=(16,16))\n",
    "#plt.imshow(1-np.floor(orig_telap))\n",
    "#plt.imshow(np.logical_and(Lyot_dz,1-np.floor(orig_telap)))\n",
    "\n",
    "print(\"None of the zero-valued telescope aperture points intersect with the Lyot constraint region? {:}\".format(\n",
    "        ~np.any(np.logical_and(Lyot_dz,1-np.floor(orig_telap)))))"
   ]
  },
  {
   "cell_type": "code",
   "execution_count": 213,
   "metadata": {
    "collapsed": false
   },
   "outputs": [
    {
     "data": {
      "text/plain": [
       "<matplotlib.image.AxesImage at 0x11af48c90>"
      ]
     },
     "execution_count": 213,
     "metadata": {},
     "output_type": "execute_result"
    },
    {
     "data": {
      "image/png": "[encoded data removed]",
      "text/plain": [
       "<matplotlib.figure.Figure at 0x11d26f790>"
      ]
     },
     "metadata": {},
     "output_type": "display_data"
    }
   ],
   "source": [
    "plt.figure(figsize=(16,16))\n",
    "#plt.imshow(Lyot_dz*~np.floor(orig_telap).astype(int))\n",
    "plt.imshow(Lyot_dz-(1-np.floor(orig_telap)),cmap='gray')"
   ]
  },
  {
   "cell_type": "markdown",
   "metadata": {},
   "source": [
    "## Alignment tolerance check"
   ]
  },
  {
   "cell_type": "code",
   "execution_count": 214,
   "metadata": {
    "collapsed": false
   },
   "outputs": [
    {
     "name": "stdout",
     "output_type": "stream",
     "text": [
      "The LDZ accomomdates a translation +/-0.2% of D=500 pixels = +/-1.00 pixels, up to +/-1 whole pixels\n",
      "Testing an (x,y) translation of (1, 0) pixels. Beyond the design tolerance? False\n",
      "LDZ encompasses the LS transmission error region? True\n",
      "Total unconstrained \"leak\" area after translation = 0 pixels\n"
     ]
    }
   ],
   "source": [
    "max_shift_tol = 2*N*dz_width_fac\n",
    "max_shift_tol_int = int(np.floor(max_shift_tol))\n",
    "test_shift = (max_shift_tol_int,0)\n",
    "print(\"The LDZ accomomdates a translation +/-{0:.1f}% of D={1:d} pixels = +/-{2:.2f} pixels, up to +/-{3:d} whole pixels\".format(\n",
    "      float(aligntol)/10, 2*N, max_shift_tol, max_shift_tol_int))\n",
    "print(\"Testing an (x,y) translation of {0:} pixels. Beyond the design tolerance? {1:}\".format(\n",
    "      test_shift, test_shift[0]**2 + test_shift[1]**2 > max_shift_tol))\n",
    "shift_LS = np.roll(np.roll(orig_LS, test_shift[0], axis=1), test_shift[1], axis=0)\n",
    "LS_err_mask = np.ceil(np.abs(shift_LS - orig_LS)).astype(bool)\n",
    "\n",
    "LDZ_valid = ~np.any(np.logical_and(LS_err_mask, ~Lyot_dz))\n",
    "print(\"LDZ encompasses the LS transmission error region? {0:}\".format(LDZ_valid))\n",
    "\n",
    "print(\"Total unconstrained \\\"leak\\\" area after translation = {0:d} pixels\".format(\n",
    "      int(np.sum(np.logical_and(LS_err_mask, ~Lyot_dz)))))"
   ]
  },
  {
   "cell_type": "code",
   "execution_count": 215,
   "metadata": {
    "collapsed": false
   },
   "outputs": [
    {
     "data": {
      "image/png": "[encoded data removed]",
      "text/plain": [
       "<matplotlib.figure.Figure at 0x11d2140d0>"
      ]
     },
     "metadata": {},
     "output_type": "display_data"
    }
   ],
   "source": [
    "plt.figure(figsize=(16,6))\n",
    "plt.subplot(131)\n",
    "plt.imshow(LS_err_mask)\n",
    "lims = plt.axis('off')\n",
    "t=plt.title('Lyot transmission error region')\n",
    "plt.subplot(132)\n",
    "plt.imshow(~Lyot_dz)\n",
    "lims = plt.axis('off')\n",
    "t=plt.title('Inverse of LDZ')\n",
    "plt.subplot(133)\n",
    "plt.imshow(np.logical_and(LS_err_mask, ~Lyot_dz))\n",
    "lims = plt.axis('off')\n",
    "t=plt.title('Lyot leak region (black is good)')"
   ]
  },
  {
   "cell_type": "markdown",
   "metadata": {},
   "source": [
    "## Write the Lyot dark zone file"
   ]
  },
  {
   "cell_type": "code",
   "execution_count": 216,
   "metadata": {
    "collapsed": false
   },
   "outputs": [
    {
     "name": "stdout",
     "output_type": "stream",
     "text": [
      "Wrote binned, cropped LDZ array to /astro/opticslab1/SCDA/Apertures/InputMasks_v3/LS/LDZ_quart_ann20D110_hex1X025cobs1Pad05_Tol02_N0250.dat\n"
     ]
    }
   ],
   "source": [
    "if aligntol > 0 and LDZ_valid:\n",
    "    if symm is 'half':\n",
    "        LDZ_dat_fname_tail = \"LDZ_half_ann{0:02d}D{1:02d}_{2:s}{3:s}025cobs1Pad{4:02d}_Tol{5:02d}_N{6:04d}.dat\".format(\n",
    "                              int(round(100*inD)), int(round(100*outD)), prim_key,\n",
    "                              secobs_key, pad, aligntol, N)\n",
    "    else:\n",
    "        LDZ_dat_fname_tail = \"LDZ_quart_ann{0:02d}D{1:02d}_{2:s}{3:s}025cobs1Pad{4:02d}_Tol{5:02d}_N{6:04d}.dat\".format(\n",
    "                              int(round(100*inD)), int(round(100*outD)), prim_key,\n",
    "                              secobs_key, pad, aligntol, N)\n",
    "\n",
    "    LDZ_dat_fname = os.path.join(LS_dir, LDZ_dat_fname_tail)\n",
    "    \n",
    "    if not os.path.exists(LDZ_dat_fname) or overwrite==True:\n",
    "        np.savetxt(LDZ_dat_fname, Lyot_dz_crop, fmt='%d', delimiter=\" \")\n",
    "        print(\"Wrote binned, cropped LDZ array to {0:s}\".format(LDZ_dat_fname))\n",
    "    else:\n",
    "        print(\"LDZ array {0:s} already exists, will not overwrite\".format(LDZ_dat_fname))"
   ]
  },
  {
   "cell_type": "code",
   "execution_count": 217,
   "metadata": {
    "collapsed": false
   },
   "outputs": [
    {
     "data": {
      "text/plain": [
       "(250, 250)"
      ]
     },
     "execution_count": 217,
     "metadata": {},
     "output_type": "execute_result"
    }
   ],
   "source": [
    "Lyot_dz_crop.shape"
   ]
  },
  {
   "cell_type": "code",
   "execution_count": 218,
   "metadata": {
    "collapsed": true
   },
   "outputs": [],
   "source": [
    "# os.remove(LDZ_dat_fname)"
   ]
  },
  {
   "cell_type": "code",
   "execution_count": null,
   "metadata": {
    "collapsed": true
   },
   "outputs": [],
   "source": []
  }
 ],
 "metadata": {
  "kernelspec": {
   "display_name": "Python 2",
   "language": "python",
   "name": "python2"
  },
  "language_info": {
   "codemirror_mode": {
    "name": "ipython",
    "version": 2
   },
   "file_extension": ".py",
   "mimetype": "text/x-python",
   "name": "python",
   "nbconvert_exporter": "python",
   "pygments_lexer": "ipython2",
   "version": "2.7.5"
  }
 },
 "nbformat": 4,
 "nbformat_minor": 0
}

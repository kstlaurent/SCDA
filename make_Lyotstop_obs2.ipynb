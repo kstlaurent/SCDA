{
 "cells": [
  {
   "cell_type": "code",
   "execution_count": 1,
   "metadata": {
    "collapsed": false
   },
   "outputs": [
    {
     "name": "stdout",
     "output_type": "stream",
     "text": [
      "Populating the interactive namespace from numpy and matplotlib\n"
     ]
    }
   ],
   "source": [
    "import numpy as np\n",
    "import skimage.transform\n",
    "import astropy.io.fits as fits\n",
    "import matplotlib.pyplot as plt\n",
    "import os\n",
    "import matplotlib.patches\n",
    "import PIL.ImageDraw\n",
    "import PIL.Image\n",
    "%pylab inline --no-import-all\n",
    "matplotlib.rcParams['image.origin'] = 'lower'\n",
    "matplotlib.rcParams['image.interpolation'] = 'nearest' \n",
    "matplotlib.rcParams['image.cmap'] = 'gray'"
   ]
  },
  {
   "cell_type": "markdown",
   "metadata": {},
   "source": [
    "## Dictionary to map file keys from STScI to Krist"
   ]
  },
  {
   "cell_type": "code",
   "execution_count": 2,
   "metadata": {
    "collapsed": true
   },
   "outputs": [],
   "source": [
    "prim_key_map = {'hex1':'hex1', 'hex2':'hex2', 'hex3':'hex3', 'hex4':'hex4',\n",
    "                'key24':'keystone24', 'pie08':'piewedge8', 'pie12':'piewedge12'}\n",
    "secobs_key_map = {'Cross':'cross', 'X':'x'}"
   ]
  },
  {
   "cell_type": "markdown",
   "metadata": {},
   "source": [
    "## Set basic parameters"
   ]
  },
  {
   "cell_type": "code",
   "execution_count": 151,
   "metadata": {
    "collapsed": true
   },
   "outputs": [],
   "source": [
    "overwrite = False\n",
    "N = 125 # pupil array quadrant width after binning\n",
    "iD = 20\n",
    "oD = 82\n",
    "aligntol = 3 # units of thousandths of pupil diameter\n",
    "pad = 5 # units of thousandths of pupil diameter\n",
    "prim_key = \"hex3\"\n",
    "centobs = True\n",
    "secobs_key = \"X\"\n",
    "gap = 2 # minimum segment gap width, in units of 0.2% diameter, or pixels at N=250\n",
    "D = 1000\n",
    "symm = 'quart' # set to either 'quart' or 'half'\n",
    "shape = 'ann' # set to 'ann' or 'hex'"
   ]
  },
  {
   "cell_type": "code",
   "execution_count": 152,
   "metadata": {
    "collapsed": false
   },
   "outputs": [
    {
     "name": "stdout",
     "output_type": "stream",
     "text": [
      "Destination /astro/opticslab1/SCDA/Apertures/InputMasks_v4/LS already exists\n"
     ]
    }
   ],
   "source": [
    "#LS_dir = os.path.abspath(\"../InputMasks/LS\")\n",
    "#LS_dir = os.path.normpath(\"/astro/opticslab1/SCDA/Apertures/InputMasks/LS\")\n",
    "#LS_dir = os.path.normpath(\"/astro/opticslab1/SCDA/Apertures/InputMasks_v2/LS\")\n",
    "#LS_dir = os.path.normpath(\"/astro/opticslab1/SCDA/Apertures/InputMasks_v3/LS\")\n",
    "LS_dir = os.path.normpath(\"/astro/opticslab1/SCDA/Apertures/InputMasks_v4/LS\")\n",
    "#LS_dir = os.path.normpath(\"/Users/neil/Box Sync/scda/InputMasks/LS\")\n",
    "if not os.path.exists(LS_dir):\n",
    "    os.mkdir(LS_dir)\n",
    "    print(\"created {:s} for LS arrays\".format(LS_dir))\n",
    "else:\n",
    "    print(\"Destination {:s} already exists\".format(LS_dir))"
   ]
  },
  {
   "cell_type": "markdown",
   "metadata": {},
   "source": [
    "## Load primary mirror and secondary obscuration"
   ]
  },
  {
   "cell_type": "code",
   "execution_count": 153,
   "metadata": {
    "collapsed": false
   },
   "outputs": [],
   "source": [
    "#telap_dir = os.path.abspath('../Apertures/JPL/offset_masks')\n",
    "telap_dir = os.path.normpath('/astro/opticslab1/SCDA/Apertures/JPL/offset_masks')\n",
    "opt_telap_dir = os.path.normpath(\"/astro/opticslab1/SCDA/Apertures/InputMasks_v4/TelAp\")\n",
    "prim_fname = os.path.join(telap_dir, \"{0:s}_{1:04d}pix_offset.fits\".format(prim_key_map[prim_key], D))\n",
    "secobs_fname = os.path.join(telap_dir, \"{0:s}_spiders_{1:04d}pix_2.5cm_offset.fits\".format(\n",
    "                                       secobs_key_map[secobs_key], D))\n",
    "prim_hdulist = fits.open(prim_fname, \"readonly\")\n",
    "prim = prim_hdulist[0].data\n",
    "prim_hdulist.close()\n",
    "secobs_hdulist = fits.open(secobs_fname, \"readonly\")\n",
    "secobs = secobs_hdulist[0].data\n",
    "secobs_hdulist.close()\n",
    "telap = prim*secobs"
   ]
  },
  {
   "cell_type": "code",
   "execution_count": 154,
   "metadata": {
    "collapsed": false
   },
   "outputs": [
    {
     "data": {
      "text/plain": [
       "<matplotlib.image.AxesImage at 0x1101ad3d0>"
      ]
     },
     "execution_count": 154,
     "metadata": {},
     "output_type": "execute_result"
    },
    {
     "data": {
      "image/png": "[encoded data removed]",
      "text/plain": [
       "<matplotlib.figure.Figure at 0x112017b50>"
      ]
     },
     "metadata": {},
     "output_type": "display_data"
    }
   ],
   "source": [
    "plt.figure(figsize=(10,10))\n",
    "plt.imshow(telap[500:700,500:700])"
   ]
  },
  {
   "cell_type": "markdown",
   "metadata": {},
   "source": [
    "## Pad the telescope aperture"
   ]
  },
  {
   "cell_type": "code",
   "execution_count": 155,
   "metadata": {
    "collapsed": false
   },
   "outputs": [],
   "source": [
    "max_shift = int(round(D*float(pad)/1000))\n",
    "shift_range = range(-max_shift,max_shift+1,1)"
   ]
  },
  {
   "cell_type": "code",
   "execution_count": 156,
   "metadata": {
    "collapsed": false
   },
   "outputs": [],
   "source": [
    "[Xshifts, Yshifts] = np.meshgrid(shift_range, shift_range)"
   ]
  },
  {
   "cell_type": "code",
   "execution_count": 157,
   "metadata": {
    "collapsed": true
   },
   "outputs": [],
   "source": [
    "allowed_shifts = np.less_equal(Xshifts**2 + Yshifts**2, max_shift**2)"
   ]
  },
  {
   "cell_type": "code",
   "execution_count": 158,
   "metadata": {
    "collapsed": false
   },
   "outputs": [
    {
     "data": {
      "text/plain": [
       "array([[False, False, False, False, False,  True, False, False, False,\n",
       "        False, False],\n",
       "       [False, False,  True,  True,  True,  True,  True,  True,  True,\n",
       "        False, False],\n",
       "       [False,  True,  True,  True,  True,  True,  True,  True,  True,\n",
       "         True, False],\n",
       "       [False,  True,  True,  True,  True,  True,  True,  True,  True,\n",
       "         True, False],\n",
       "       [False,  True,  True,  True,  True,  True,  True,  True,  True,\n",
       "         True, False],\n",
       "       [ True,  True,  True,  True,  True,  True,  True,  True,  True,\n",
       "         True,  True],\n",
       "       [False,  True,  True,  True,  True,  True,  True,  True,  True,\n",
       "         True, False],\n",
       "       [False,  True,  True,  True,  True,  True,  True,  True,  True,\n",
       "         True, False],\n",
       "       [False,  True,  True,  True,  True,  True,  True,  True,  True,\n",
       "         True, False],\n",
       "       [False, False,  True,  True,  True,  True,  True,  True,  True,\n",
       "        False, False],\n",
       "       [False, False, False, False, False,  True, False, False, False,\n",
       "        False, False]], dtype=bool)"
      ]
     },
     "execution_count": 158,
     "metadata": {},
     "output_type": "execute_result"
    }
   ],
   "source": [
    "allowed_shifts"
   ]
  },
  {
   "cell_type": "code",
   "execution_count": 159,
   "metadata": {
    "collapsed": false
   },
   "outputs": [
    {
     "data": {
      "text/plain": [
       "(11, 11)"
      ]
     },
     "execution_count": 159,
     "metadata": {},
     "output_type": "execute_result"
    }
   ],
   "source": [
    "allowed_shifts.shape"
   ]
  },
  {
   "cell_type": "code",
   "execution_count": 160,
   "metadata": {
    "collapsed": true
   },
   "outputs": [],
   "source": [
    "XYshifts_allowed = zip(Xshifts[allowed_shifts], Yshifts[allowed_shifts])"
   ]
  },
  {
   "cell_type": "code",
   "execution_count": 161,
   "metadata": {
    "collapsed": false
   },
   "outputs": [
    {
     "data": {
      "text/plain": [
       "81"
      ]
     },
     "execution_count": 161,
     "metadata": {},
     "output_type": "execute_result"
    }
   ],
   "source": [
    "len(XYshifts_allowed)"
   ]
  },
  {
   "cell_type": "code",
   "execution_count": 162,
   "metadata": {
    "collapsed": false
   },
   "outputs": [],
   "source": [
    "padded_telap_accum = np.ones(telap.shape)\n",
    "for (xshift,yshift) in XYshifts_allowed:\n",
    "    telap_shifted = np.roll(np.roll(telap, yshift, 0), xshift, 1) \n",
    "    padded_telap_accum *= telap_shifted"
   ]
  },
  {
   "cell_type": "code",
   "execution_count": 163,
   "metadata": {
    "collapsed": false
   },
   "outputs": [
    {
     "data": {
      "text/plain": [
       "<matplotlib.image.AxesImage at 0x112042390>"
      ]
     },
     "execution_count": 163,
     "metadata": {},
     "output_type": "execute_result"
    },
    {
     "data": {
      "image/png": "[encoded data removed]",
      "text/plain": [
       "<matplotlib.figure.Figure at 0x1101b9310>"
      ]
     },
     "metadata": {},
     "output_type": "display_data"
    }
   ],
   "source": [
    "plt.figure(figsize=(10,10))\n",
    "plt.imshow(padded_telap_accum)"
   ]
  },
  {
   "cell_type": "markdown",
   "metadata": {},
   "source": [
    "## Combine with annular/hexagonal stop"
   ]
  },
  {
   "cell_type": "code",
   "execution_count": 164,
   "metadata": {
    "collapsed": false
   },
   "outputs": [],
   "source": [
    "L = secobs.shape[0]\n",
    "inD = float(iD)/100\n",
    "outD = float(oD)/100\n",
    "xs = np.linspace(-L/2 + 0.5, L/2 - 0.5, L)\n",
    "[Xs, Ys] = np.meshgrid(xs, xs)\n",
    "\n",
    "if shape is 'hex':\n",
    "    xycent = (L/2-0.5,L/2-0.5)\n",
    "    if prim_key is 'hex1':\n",
    "        hexagon_obj = matplotlib.patches.RegularPolygon(xycent,6,radius=outD*D/2/np.cos(np.pi/6), orientation=np.pi/6)\n",
    "    else:\n",
    "        hexagon_obj = matplotlib.patches.RegularPolygon(xycent,6,radius=outD*D/2/np.cos(np.pi/6))\n",
    "#        hexagon_obj = matplotlib.patches.RegularPolygon(xycent,6,radius=outD*D/2, orientation=np.pi/6)\n",
    "    hexagon_verts = hexagon_obj.get_verts()\n",
    "    hexagon_img = PIL.Image.new('L', secobs.shape, 0)\n",
    "    PIL.ImageDraw.Draw(hexagon_img).polygon(list(hexagon_verts.ravel()), outline=1, fill=1)\n",
    "    hexagon_mask = np.array(hexagon_img)\n",
    "    Lyot_stop = np.logical_and(np.round(padded_telap_accum), hexagon_mask)\n",
    "    inside_ann = np.less_equal(Xs**2 + Ys**2, (inD*D/2)**2)\n",
    "    Lyot_stop[inside_ann] = 0.\n",
    "else:\n",
    "    inside_ann = np.less_equal(Xs**2 + Ys**2, (inD*D/2)**2)\n",
    "    outside_ann = np.greater_equal(Xs**2 + Ys**2, (outD*D/2)**2)\n",
    "    Lyot_stop = np.round(padded_telap_accum)\n",
    "    Lyot_stop[inside_ann] = 0.\n",
    "    Lyot_stop[outside_ann] = 0."
   ]
  },
  {
   "cell_type": "code",
   "execution_count": 165,
   "metadata": {
    "collapsed": false
   },
   "outputs": [
    {
     "data": {
      "text/plain": [
       "<matplotlib.image.AxesImage at 0x113d94890>"
      ]
     },
     "execution_count": 165,
     "metadata": {},
     "output_type": "execute_result"
    },
    {
     "data": {
      "image/png": "[encoded data removed]",
      "text/plain": [
       "<matplotlib.figure.Figure at 0x1101bfcd0>"
      ]
     },
     "metadata": {},
     "output_type": "display_data"
    }
   ],
   "source": [
    "plt.figure(figsize=(12,12))\n",
    "plt.imshow(Lyot_stop)"
   ]
  },
  {
   "cell_type": "markdown",
   "metadata": {},
   "source": [
    "## Bin to final array resolution, crop"
   ]
  },
  {
   "cell_type": "code",
   "execution_count": 166,
   "metadata": {
    "collapsed": false
   },
   "outputs": [
    {
     "name": "stdout",
     "output_type": "stream",
     "text": [
      "Binning the original LS array 4x\n"
     ]
    }
   ],
   "source": [
    "#scalefac = float(N)/(D/2)\n",
    "#Lyot_stop_binned = scipy.ndimage.zoom(Lyot_stop, scalefac, order=1)\n",
    "\n",
    "N_orig = D/2\n",
    "scalefac = int(N_orig/N)\n",
    "print(\"Binning the original LS array {0:d}x\".format(scalefac))\n",
    "Lyot_stop_binned = np.reshape(Lyot_stop, (Lyot_stop.shape[0]/scalefac, scalefac, \n",
    "                                          Lyot_stop.shape[1]/scalefac, scalefac)).mean(1).mean(2)\n",
    "telap_binned = np.reshape(telap, (telap.shape[0]/scalefac, scalefac, \n",
    "                                  telap.shape[1]/scalefac, scalefac)).mean(1).mean(2)"
   ]
  },
  {
   "cell_type": "code",
   "execution_count": 167,
   "metadata": {
    "collapsed": false
   },
   "outputs": [
    {
     "name": "stdout",
     "output_type": "stream",
     "text": [
      "(125, 125)\n"
     ]
    }
   ],
   "source": [
    "L_bin = Lyot_stop_binned.shape[0]\n",
    "if symm is 'half':\n",
    "    Lyot_stop_binned_crop = Lyot_stop_binned[L_bin/2-N:L_bin/2+N,L_bin/2:L_bin/2+N]\n",
    "    Lyot_stop_binned_crop_binary = np.round(Lyot_stop_binned_half).astype(int)\n",
    "    print Lyot_stop_binned_crop.shape\n",
    "else:\n",
    "    Lyot_stop_binned_crop = Lyot_stop_binned[L_bin/2:L_bin/2+N,L_bin/2:L_bin/2+N]\n",
    "    Lyot_stop_binned_crop_binary = np.round(Lyot_stop_binned_crop).astype(int)\n",
    "    print Lyot_stop_binned_crop.shape\n",
    "Lyot_stop_full_binary = np.round(Lyot_stop_binned[L_bin/2-N:L_bin/2+N,L_bin/2-N:L_bin/2+N]).astype(int)"
   ]
  },
  {
   "cell_type": "code",
   "execution_count": 168,
   "metadata": {
    "collapsed": false
   },
   "outputs": [
    {
     "data": {
      "image/png": "[encoded data removed]",
      "text/plain": [
       "<matplotlib.figure.Figure at 0x113d9ced0>"
      ]
     },
     "metadata": {},
     "output_type": "display_data"
    }
   ],
   "source": [
    "if symm is 'half':\n",
    "    plt.figure(figsize=(20,10))\n",
    "    plt.imshow(Lyot_stop_binned_crop_binary)\n",
    "    #plt.imshow(Lyot_stop_binned_crop)\n",
    "else:\n",
    "    plt.figure(figsize=(10,10))\n",
    "    #plt.imshow(Lyot_stop_binned_crop)\n",
    "    plt.imshow(Lyot_stop_binned_crop_binary)"
   ]
  },
  {
   "cell_type": "markdown",
   "metadata": {},
   "source": [
    "## Write the binned, cropped Lyot stop to a dat (ASCII) file "
   ]
  },
  {
   "cell_type": "code",
   "execution_count": 169,
   "metadata": {
    "collapsed": false
   },
   "outputs": [
    {
     "name": "stdout",
     "output_type": "stream",
     "text": [
      "LS array /astro/opticslab1/SCDA/Apertures/InputMasks_v4/LS/LS_quart_ann20D82_hex3X025cobs1Pad05_N0125.dat already exists, will not overwrite\n"
     ]
    }
   ],
   "source": [
    "if symm is 'half':\n",
    "    LS_dat_fname_tail = \"LS_half_{0:s}{1:02d}D{2:02d}_{3:s}{4:s}025cobs1Pad{5:02d}_N{6:04d}.dat\".format(\n",
    "                         shape, int(round(100*inD)), int(round(100*outD)), prim_key, secobs_key, pad, N)\n",
    "else:\n",
    "    LS_dat_fname_tail = \"LS_quart_{0:s}{1:02d}D{2:02d}_{3:s}{4:s}025cobs1Pad{5:02d}_N{6:04d}.dat\".format(\n",
    "                         shape, int(round(100*inD)), int(round(100*outD)), prim_key, secobs_key, pad, N)\n",
    "\n",
    "LS_dat_fname = os.path.join(LS_dir, LS_dat_fname_tail)\n",
    "\n",
    "if not os.path.exists(LS_dat_fname) or overwrite==True:\n",
    "    #np.savetxt(LS_dat_fname, Lyot_stop_binned_crop, fmt='%.6f', delimiter=\" \")\n",
    "    np.savetxt(LS_dat_fname, Lyot_stop_binned_crop_binary, fmt='%d', delimiter=\" \")\n",
    "    print(\"Wrote binned, cropped LS array to {0:s}\".format(LS_dat_fname))\n",
    "else:\n",
    "    print(\"LS array {0:s} already exists, will not overwrite\".format(LS_dat_fname))"
   ]
  },
  {
   "cell_type": "code",
   "execution_count": 170,
   "metadata": {
    "collapsed": false
   },
   "outputs": [
    {
     "data": {
      "text/plain": [
       "['LS_quart_ann20D82_hex3X025cobs1Pad03_N0250.dat',\n",
       " 'LDZ_quart_ann20D82_hex3X025cobs1Pad03_Tol02_N0250.dat',\n",
       " 'LS_quart_ann20D82_hex3X025cobs1Pad03_N0125.dat',\n",
       " 'LS_quart_ann20D82_hex3X025cobs1Pad04_N0125.dat',\n",
       " 'LS_quart_ann20D82_hex3X025cobs1Pad05_N0125.dat',\n",
       " 'LDZ_quart_ann20D82_hex3X025cobs1Pad05_Tol03_N0125.dat',\n",
       " 'LS_full_ann20D82_hex3X025cobs1Pad05_N0125.fits',\n",
       " 'LDZ_full_ann20D82_hex3X025cobs1Pad05_Tol03_N0125.fits',\n",
       " 'LS_full_ann20D82_hex3X025cobs1Pad03_N0250.fits',\n",
       " 'LDZ_full_ann20D82_hex3X025cobs1Pad03_Tol02_N0250.fits',\n",
       " 'LS_full_ann20D82_hex3X025cobs1Pad04_N0125.fits']"
      ]
     },
     "execution_count": 170,
     "metadata": {},
     "output_type": "execute_result"
    }
   ],
   "source": [
    "os.listdir(LS_dir)"
   ]
  },
  {
   "cell_type": "code",
   "execution_count": 171,
   "metadata": {
    "collapsed": true
   },
   "outputs": [],
   "source": [
    "# os.remove(LS_dat_fname)"
   ]
  },
  {
   "cell_type": "markdown",
   "metadata": {},
   "source": [
    "# Define Lyot plane dark zone"
   ]
  },
  {
   "cell_type": "code",
   "execution_count": 172,
   "metadata": {
    "collapsed": false
   },
   "outputs": [],
   "source": [
    "opt_telap_dir = os.path.normpath(\"/astro/opticslab1/SCDA/Apertures/InputMasks_v4/TelAp\")\n",
    "if symm is 'half':\n",
    "    if centobs is True:\n",
    "        telap_bin_dat_fname_tail = \"TelAp_half_{0:s}{1:s}025cobs1gap{2:1d}_N{3:04d}.dat\".format(\n",
    "                                    prim_key, secobs_key, gap, N)\n",
    "        telap_bin_dat_fname = os.path.join(opt_telap_dir, telap_bin_dat_fname_tail)\n",
    "    else:\n",
    "        telap_bin_dat_fname_tail = \"TelAp_half_{0:s}{1:s}025cobs0gap{2:1d}_N{3:04d}.dat\".format(\n",
    "                                    prim_key, secobs_key, gap, N)\n",
    "        telap_bin_dat_fname = os.path.join(opt_telap_dir, telap_bin_dat_fname_tail)\n",
    "    opt_telap_half = np.loadtxt(telap_bin_dat_fname)\n",
    "    opt_telap = np.concatenate((opt_telap_half[:,::-1], opt_telap_half),axis=1)\n",
    "else:\n",
    "    if centobs is True:\n",
    "        telap_bin_dat_fname_tail = \"TelAp_quart_{0:s}{1:s}025cobs1gap{2:1d}_N{3:04d}.dat\".format(\n",
    "                                    prim_key, secobs_key, gap, N)\n",
    "        telap_bin_dat_fname = os.path.join(opt_telap_dir, telap_bin_dat_fname_tail)\n",
    "    else:\n",
    "        telap_bin_dat_fname_tail = \"TelAp_quart_{0:s}{1:s}025cobs1gap{2:1d}_N{3:04d}.dat\".format(\n",
    "                                    prim_key, secobs_key, gap, N)\n",
    "        telap_bin_dat_fname = os.path.join(opt_telap_dir, telap_bin_dat_fname_tail)\n",
    "    opt_telap_quart = np.loadtxt(telap_bin_dat_fname)\n",
    "    opt_telap = np.concatenate((np.concatenate((opt_telap_quart[::-1,::-1], opt_telap_quart[:,::-1]),axis=0),\n",
    "                                np.concatenate((opt_telap_quart[::-1,:], opt_telap_quart),axis=0)), axis=1)"
   ]
  },
  {
   "cell_type": "code",
   "execution_count": 173,
   "metadata": {
    "collapsed": false
   },
   "outputs": [
    {
     "name": "stdout",
     "output_type": "stream",
     "text": [
      "Lyot plane dark zone width in binned array: +/- 1 pixels\n"
     ]
    }
   ],
   "source": [
    "orig_LS = np.round(Lyot_stop_binned[L_bin/2-N:L_bin/2+N,L_bin/2-N:L_bin/2+N]).astype(int)\n",
    "dz_width_fac = float(aligntol)/1000              # dark zone is +/- this fraction of pupil diameter\n",
    "dz_width = np.ceil(2*N*dz_width_fac).astype(int) # dark zone is +/- this number of pixels in binned pupil array\n",
    "print(\"Lyot plane dark zone width in binned array: +/- {:d} pixels\".format(dz_width))"
   ]
  },
  {
   "cell_type": "code",
   "execution_count": 174,
   "metadata": {
    "collapsed": true
   },
   "outputs": [],
   "source": [
    "max_shift = dz_width\n",
    "shift_range = range(-max_shift,max_shift+1,1)\n",
    "[Xshifts, Yshifts] = np.meshgrid(shift_range, shift_range)\n",
    "allowed_shifts = np.less_equal(Xshifts**2 + Yshifts**2, max_shift**2)"
   ]
  },
  {
   "cell_type": "code",
   "execution_count": 175,
   "metadata": {
    "collapsed": false
   },
   "outputs": [
    {
     "data": {
      "text/plain": [
       "array([[False,  True, False],\n",
       "       [ True,  True,  True],\n",
       "       [False,  True, False]], dtype=bool)"
      ]
     },
     "execution_count": 175,
     "metadata": {},
     "output_type": "execute_result"
    }
   ],
   "source": [
    "allowed_shifts"
   ]
  },
  {
   "cell_type": "code",
   "execution_count": 176,
   "metadata": {
    "collapsed": false
   },
   "outputs": [
    {
     "data": {
      "text/plain": [
       "5"
      ]
     },
     "execution_count": 176,
     "metadata": {},
     "output_type": "execute_result"
    }
   ],
   "source": [
    "XYshifts_allowed = zip(Xshifts[allowed_shifts], Yshifts[allowed_shifts])\n",
    "len(XYshifts_allowed)"
   ]
  },
  {
   "cell_type": "code",
   "execution_count": 177,
   "metadata": {
    "collapsed": false
   },
   "outputs": [],
   "source": [
    "fat_LS = np.ones(orig_LS.shape)\n",
    "for (xshift,yshift) in XYshifts_allowed:\n",
    "    LS_shifted = np.roll(np.roll(orig_LS, yshift, 0), xshift, 1)\n",
    "    fat_LS *= LS_shifted\n",
    "\n",
    "inv_thin_LS = np.ones(orig_LS.shape)\n",
    "for (xshift,yshift) in XYshifts_allowed:\n",
    "    inv_LS_shifted = 1-np.roll(np.roll(orig_LS, yshift, 0), xshift, 1)\n",
    "    inv_thin_LS *= inv_LS_shifted\n",
    "thin_LS = 1-inv_thin_LS"
   ]
  },
  {
   "cell_type": "code",
   "execution_count": 178,
   "metadata": {
    "collapsed": false
   },
   "outputs": [],
   "source": [
    "Lyot_dz = np.logical_xor(thin_LS, fat_LS)\n",
    "L = Lyot_dz.shape[0]\n",
    "\n",
    "if symm is 'half':\n",
    "    Lyot_dz_crop = Lyot_dz[:,N:]\n",
    "else:\n",
    "    Lyot_dz_crop = Lyot_dz[N:,N:]\n",
    "\n",
    "#plt.figure(figsize=(16,16))\n",
    "#plt.imshow(Lyot_dz)"
   ]
  },
  {
   "cell_type": "code",
   "execution_count": 179,
   "metadata": {
    "collapsed": false
   },
   "outputs": [
    {
     "name": "stdout",
     "output_type": "stream",
     "text": [
      "None of the zero-valued telescope aperture points intersect with the Lyot constraint region? True\n"
     ]
    }
   ],
   "source": [
    "#plt.figure(figsize=(16,16))\n",
    "#plt.imshow(1-np.floor(orig_telap))\n",
    "#plt.imshow(np.logical_and(Lyot_dz,1-np.floor(orig_telap)))\n",
    "\n",
    "print(\"None of the zero-valued telescope aperture points intersect with the Lyot constraint region? {:}\".format(\n",
    "        ~np.any(np.logical_and(Lyot_dz,1-np.round(opt_telap)))))"
   ]
  },
  {
   "cell_type": "code",
   "execution_count": 180,
   "metadata": {
    "collapsed": false
   },
   "outputs": [
    {
     "data": {
      "text/plain": [
       "<matplotlib.image.AxesImage at 0x114aa06d0>"
      ]
     },
     "execution_count": 180,
     "metadata": {},
     "output_type": "execute_result"
    },
    {
     "data": {
      "image/png": "[encoded data removed]",
      "text/plain": [
       "<matplotlib.figure.Figure at 0x113dcf190>"
      ]
     },
     "metadata": {},
     "output_type": "display_data"
    }
   ],
   "source": [
    "plt.figure(figsize=(16,16))\n",
    "#plt.imshow(orig_telap)\n",
    "#plt.imshow(np.floor(orig_telap).astype(int))\n",
    "#plt.imshow(Lyot_dz-(1-np.floor(orig_telap)),cmap='gray')\n",
    "plt.imshow(Lyot_dz-(1-np.round(opt_telap)),cmap='gray')"
   ]
  },
  {
   "cell_type": "markdown",
   "metadata": {},
   "source": [
    "## Alignment tolerance check"
   ]
  },
  {
   "cell_type": "code",
   "execution_count": 181,
   "metadata": {
    "collapsed": false
   },
   "outputs": [
    {
     "name": "stdout",
     "output_type": "stream",
     "text": [
      "The LDZ accomomdates a translation +/-0.3% of D=250 pixels = +/-0.75 pixels, up to +/-1 whole pixels\n",
      "Testing an (x,y) translation of (1, 0) pixels. Within the design tolerance? False\n",
      "LDZ encompasses the LS transmission error region and does not overlap with tel pupil obscurations? True\n",
      "Total unconstrained \"leak\" area after translation = 0 pixels\n"
     ]
    }
   ],
   "source": [
    "max_shift_tol = 2*N*dz_width_fac\n",
    "max_shift_tol_int = int(np.round(max_shift_tol))\n",
    "test_shift = (max_shift_tol_int,0)\n",
    "print(\"The LDZ accomomdates a translation +/-{0:.1f}% of D={1:d} pixels = +/-{2:.2f} pixels, up to +/-{3:d} whole pixels\".format(\n",
    "      float(aligntol)/10, 2*N, max_shift_tol, max_shift_tol_int))\n",
    "print(\"Testing an (x,y) translation of {0:} pixels. Within the design tolerance? {1:}\".format(\n",
    "      test_shift, test_shift[0]**2 + test_shift[1]**2 <= max_shift_tol))\n",
    "shift_LS = np.roll(np.roll(orig_LS, test_shift[0], axis=1), test_shift[1], axis=0)\n",
    "LS_err_mask = np.ceil(np.abs(shift_LS - orig_LS)).astype(bool)\n",
    "\n",
    "LDZ_valid = ~np.any(np.logical_and(LS_err_mask, ~Lyot_dz)) and ~np.any(np.logical_and(Lyot_dz,1-np.round(opt_telap)))\n",
    "print(\"LDZ encompasses the LS transmission error region and does not overlap with tel pupil obscurations? {0:}\".format(LDZ_valid))\n",
    "\n",
    "print(\"Total unconstrained \\\"leak\\\" area after translation = {0:d} pixels\".format(\n",
    "      int(np.sum(np.logical_and(LS_err_mask, ~Lyot_dz)))))"
   ]
  },
  {
   "cell_type": "code",
   "execution_count": 182,
   "metadata": {
    "collapsed": false
   },
   "outputs": [
    {
     "data": {
      "image/png": "[encoded data removed]",
      "text/plain": [
       "<matplotlib.figure.Figure at 0x114aaa350>"
      ]
     },
     "metadata": {},
     "output_type": "display_data"
    }
   ],
   "source": [
    "plt.figure(figsize=(16,6))\n",
    "plt.subplot(131)\n",
    "plt.imshow(LS_err_mask)\n",
    "lims = plt.axis('off')\n",
    "t=plt.title('Lyot transmission error region')\n",
    "plt.subplot(132)\n",
    "plt.imshow(~Lyot_dz)\n",
    "lims = plt.axis('off')\n",
    "t=plt.title('Inverse of LDZ')\n",
    "plt.subplot(133)\n",
    "plt.imshow(np.logical_and(LS_err_mask, ~Lyot_dz))\n",
    "lims = plt.axis('off')\n",
    "t=plt.title('Lyot leak region (black is good)')"
   ]
  },
  {
   "cell_type": "markdown",
   "metadata": {},
   "source": [
    "## Write the Lyot dark zone file"
   ]
  },
  {
   "cell_type": "code",
   "execution_count": 183,
   "metadata": {
    "collapsed": false
   },
   "outputs": [
    {
     "name": "stdout",
     "output_type": "stream",
     "text": [
      "LDZ array /astro/opticslab1/SCDA/Apertures/InputMasks_v4/LS/LDZ_quart_ann20D82_hex3X025cobs1Pad05_Tol03_N0125.dat already exists, will not overwrite\n"
     ]
    }
   ],
   "source": [
    "if aligntol > 0 and LDZ_valid:\n",
    "    if symm is 'half':\n",
    "        LDZ_dat_fname_tail = \"LDZ_half_{0:s}{1:02d}D{2:02d}_{3:s}{4:s}025cobs1Pad{5:02d}_Tol{6:02d}_N{7:04d}.dat\".format(\n",
    "                              shape, int(round(100*inD)), int(round(100*outD)), prim_key,\n",
    "                              secobs_key, pad, aligntol, N)\n",
    "    else:\n",
    "        LDZ_dat_fname_tail = \"LDZ_quart_{0:s}{1:02d}D{2:02d}_{3:s}{4:s}025cobs1Pad{5:02d}_Tol{6:02d}_N{7:04d}.dat\".format(\n",
    "                              shape, int(round(100*inD)), int(round(100*outD)), prim_key,\n",
    "                              secobs_key, pad, aligntol, N)\n",
    "\n",
    "    LDZ_dat_fname = os.path.join(LS_dir, LDZ_dat_fname_tail)\n",
    "    \n",
    "    if not os.path.exists(LDZ_dat_fname) or overwrite==True:\n",
    "        np.savetxt(LDZ_dat_fname, Lyot_dz_crop, fmt='%d', delimiter=\" \")\n",
    "        print(\"Wrote binned, cropped LDZ array to {0:s}\".format(LDZ_dat_fname))\n",
    "    else:\n",
    "        print(\"LDZ array {0:s} already exists, will not overwrite\".format(LDZ_dat_fname))"
   ]
  },
  {
   "cell_type": "code",
   "execution_count": 184,
   "metadata": {
    "collapsed": false
   },
   "outputs": [
    {
     "data": {
      "text/plain": [
       "(125, 125)"
      ]
     },
     "execution_count": 184,
     "metadata": {},
     "output_type": "execute_result"
    }
   ],
   "source": [
    "Lyot_dz_crop.shape"
   ]
  },
  {
   "cell_type": "code",
   "execution_count": 185,
   "metadata": {
    "collapsed": true
   },
   "outputs": [],
   "source": [
    "# os.remove(LDZ_dat_fname)"
   ]
  },
  {
   "cell_type": "code",
   "execution_count": 186,
   "metadata": {
    "collapsed": false
   },
   "outputs": [
    {
     "data": {
      "text/plain": [
       "['LS_quart_ann20D82_hex3X025cobs1Pad03_N0250.dat',\n",
       " 'LDZ_quart_ann20D82_hex3X025cobs1Pad03_Tol02_N0250.dat',\n",
       " 'LS_quart_ann20D82_hex3X025cobs1Pad03_N0125.dat',\n",
       " 'LS_quart_ann20D82_hex3X025cobs1Pad04_N0125.dat',\n",
       " 'LS_quart_ann20D82_hex3X025cobs1Pad05_N0125.dat',\n",
       " 'LDZ_quart_ann20D82_hex3X025cobs1Pad05_Tol03_N0125.dat',\n",
       " 'LS_full_ann20D82_hex3X025cobs1Pad05_N0125.fits',\n",
       " 'LDZ_full_ann20D82_hex3X025cobs1Pad05_Tol03_N0125.fits',\n",
       " 'LS_full_ann20D82_hex3X025cobs1Pad03_N0250.fits',\n",
       " 'LDZ_full_ann20D82_hex3X025cobs1Pad03_Tol02_N0250.fits',\n",
       " 'LS_full_ann20D82_hex3X025cobs1Pad04_N0125.fits']"
      ]
     },
     "execution_count": 186,
     "metadata": {},
     "output_type": "execute_result"
    }
   ],
   "source": [
    "os.listdir(LS_dir)"
   ]
  },
  {
   "cell_type": "markdown",
   "metadata": {},
   "source": [
    "## Write full-plane, binary FITS versions"
   ]
  },
  {
   "cell_type": "code",
   "execution_count": 187,
   "metadata": {
    "collapsed": false
   },
   "outputs": [],
   "source": [
    "LS_full_fits_fname = LS_dat_fname_tail.replace(\"quart\", \"full\")\n",
    "LS_full_fits_fname = LS_full_fits_fname.replace(\"half\", \"full\")\n",
    "LS_full_fits_fname = LS_full_fits_fname.replace(\".dat\", \".fits\")\n",
    "LS_full_fits_fname = os.path.join(LS_dir, LS_full_fits_fname)\n",
    "\n",
    "if not os.path.exists(LS_full_fits_fname) or overwrite==True:\n",
    "    LS_full_hdu = fits.PrimaryHDU(Lyot_stop_full_binary)\n",
    "    LS_full_hdu.writeto(LS_full_fits_fname, clobber=True)\n",
    "    print(\"Wrote full, rounded Lyot stop to {:s}\".format(LS_full_fits_fname))\n",
    "\n",
    "LDZ_full_fits_fname = LDZ_dat_fname_tail.replace(\"quart\", \"full\")\n",
    "LDZ_full_fits_fname = LDZ_full_fits_fname.replace(\"half\", \"full\")\n",
    "LDZ_full_fits_fname = LDZ_full_fits_fname.replace(\".dat\", \".fits\")\n",
    "LDZ_full_fits_fname = os.path.join(LS_dir, LDZ_full_fits_fname)\n",
    "\n",
    "if not os.path.exists(LDZ_full_fits_fname) or overwrite==True:\n",
    "    LDZ_full_hdu = fits.PrimaryHDU(Lyot_dz.astype(int))\n",
    "    LDZ_full_hdu.writeto(LDZ_full_fits_fname, clobber=True)\n",
    "    print(\"Wrote full, rounded Lyot dark zone to {:s}\".format(LDZ_full_fits_fname))"
   ]
  }
 ],
 "metadata": {
  "kernelspec": {
   "display_name": "Python 2",
   "language": "python",
   "name": "python2"
  },
  "language_info": {
   "codemirror_mode": {
    "name": "ipython",
    "version": 2
   },
   "file_extension": ".py",
   "mimetype": "text/x-python",
   "name": "python",
   "nbconvert_exporter": "python",
   "pygments_lexer": "ipython2",
   "version": "2.7.5"
  }
 },
 "nbformat": 4,
 "nbformat_minor": 0
}

{
 "cells": [
  {
   "cell_type": "code",
   "execution_count": 16,
   "metadata": {
    "collapsed": false
   },
   "outputs": [
    {
     "name": "stdout",
     "output_type": "stream",
     "text": [
      "Populating the interactive namespace from numpy and matplotlib\n"
     ]
    }
   ],
   "source": [
    "import numpy as np\n",
    "#import skimage.transform\n",
    "import astropy.io.fits as fits\n",
    "import matplotlib.pyplot as plt\n",
    "import os\n",
    "%pylab inline --no-import-all\n",
    "matplotlib.rcParams['image.origin'] = 'lower'\n",
    "matplotlib.rcParams['image.interpolation'] = 'nearest' \n",
    "matplotlib.rcParams['image.cmap'] = 'gray'"
   ]
  },
  {
   "cell_type": "markdown",
   "metadata": {},
   "source": [
    "## Set basic parameters"
   ]
  },
  {
   "cell_type": "code",
   "execution_count": 35,
   "metadata": {
    "collapsed": true
   },
   "outputs": [],
   "source": [
    "N = 125 # pupil array quadrant width after binning\n",
    "iD = 25\n",
    "oD = 80\n",
    "aligntol = 3 # units of thousandths of pupil diameter\n",
    "L = 1000 # starting array width\n",
    "D = 1000 # starting pupil diameter\n",
    "symm = 'half'"
   ]
  },
  {
   "cell_type": "code",
   "execution_count": 36,
   "metadata": {
    "collapsed": false
   },
   "outputs": [
    {
     "name": "stdout",
     "output_type": "stream",
     "text": [
      "Destination /astro/opticslab1/SCDA/Apertures/InputMasks/LS already exists\n"
     ]
    }
   ],
   "source": [
    "#LS_dir = os.path.abspath(\"../InputMasks/LS\")\n",
    "LS_dir = os.path.normpath(\"/astro/opticslab1/SCDA/Apertures/InputMasks/LS\")\n",
    "if not os.path.exists(LS_dir):\n",
    "    os.mkdir(LS_dir)\n",
    "    print(\"created {:s} for LS arrays\".format(LS_dir))\n",
    "else:\n",
    "    print(\"Destination {:s} already exists\".format(LS_dir))"
   ]
  },
  {
   "cell_type": "markdown",
   "metadata": {},
   "source": [
    "## Define annular stop"
   ]
  },
  {
   "cell_type": "code",
   "execution_count": 37,
   "metadata": {
    "collapsed": false
   },
   "outputs": [],
   "source": [
    "inD = float(iD)/100\n",
    "outD = float(oD)/100\n",
    "xs = np.linspace(-L/2 + 0.5, L/2 - 0.5, L)\n",
    "[Xs, Ys] = np.meshgrid(xs, xs)\n",
    "inside_ann = np.less_equal(Xs**2 + Ys**2, (inD*D/2)**2)\n",
    "outside_ann = np.greater_equal(Xs**2 + Ys**2, (outD*D/2)**2)\n",
    "Lyot_stop = np.ones((L,L))\n",
    "Lyot_stop[inside_ann] = 0.\n",
    "Lyot_stop[outside_ann] = 0."
   ]
  },
  {
   "cell_type": "code",
   "execution_count": 38,
   "metadata": {
    "collapsed": false
   },
   "outputs": [
    {
     "data": {
      "text/plain": [
       "<matplotlib.image.AxesImage at 0x115a64d50>"
      ]
     },
     "execution_count": 38,
     "metadata": {},
     "output_type": "execute_result"
    },
    {
     "data": {
      "image/png": "[encoded data removed]",
      "text/plain": [
       "<matplotlib.figure.Figure at 0x1152c21d0>"
      ]
     },
     "metadata": {},
     "output_type": "display_data"
    }
   ],
   "source": [
    "plt.figure(figsize=(12,12))\n",
    "plt.imshow(Lyot_stop)"
   ]
  },
  {
   "cell_type": "markdown",
   "metadata": {},
   "source": [
    "## Bin to final array resolution, crop"
   ]
  },
  {
   "cell_type": "code",
   "execution_count": 39,
   "metadata": {
    "collapsed": false
   },
   "outputs": [],
   "source": [
    "#scalefac = float(N)/(D/2)\n",
    "#Lyot_stop_binned = skimage.transform.rescale(Lyot_stop, scalefac, order=1)"
   ]
  },
  {
   "cell_type": "code",
   "execution_count": 40,
   "metadata": {
    "collapsed": false
   },
   "outputs": [
    {
     "name": "stdout",
     "output_type": "stream",
     "text": [
      "Binning the original LS array 4x\n"
     ]
    }
   ],
   "source": [
    "N_orig = D/2\n",
    "scalefac = int(N_orig/N)\n",
    "print(\"Binning the original LS array {0:d}x\".format(scalefac))\n",
    "Lyot_stop_binned = np.reshape(Lyot_stop, (Lyot_stop.shape[0]/scalefac, scalefac, \n",
    "                                          Lyot_stop.shape[1]/scalefac, scalefac)).mean(1).mean(2)"
   ]
  },
  {
   "cell_type": "code",
   "execution_count": 41,
   "metadata": {
    "collapsed": false
   },
   "outputs": [
    {
     "data": {
      "text/plain": [
       "(1000, 1000)"
      ]
     },
     "execution_count": 41,
     "metadata": {},
     "output_type": "execute_result"
    }
   ],
   "source": [
    "Lyot_stop.shape"
   ]
  },
  {
   "cell_type": "code",
   "execution_count": 42,
   "metadata": {
    "collapsed": false
   },
   "outputs": [
    {
     "name": "stdout",
     "output_type": "stream",
     "text": [
      "(250, 125)\n"
     ]
    }
   ],
   "source": [
    "L_bin = Lyot_stop_binned.shape[0]\n",
    "if symm is 'half':\n",
    "    Lyot_stop_binned_half = Lyot_stop_binned[L_bin/2-N:L_bin/2+N,L_bin/2:L_bin/2+N]\n",
    "    Lyot_stop_binned_half_binary = np.round(Lyot_stop_binned_half).astype(int)\n",
    "    print Lyot_stop_binned_half.shape\n",
    "else:\n",
    "    Lyot_stop_binned_quad = Lyot_stop_binned[L_bin/2:L_bin/2+N,L_bin/2:L_bin/2+N]\n",
    "    Lyot_stop_binned_quad_binary = np.round(Lyot_stop_binned_quad).astype(int)\n",
    "    print Lyot_stop_binned_quad.shape"
   ]
  },
  {
   "cell_type": "code",
   "execution_count": 43,
   "metadata": {
    "collapsed": false
   },
   "outputs": [
    {
     "data": {
      "image/png": "[encoded data removed]",
      "text/plain": [
       "<matplotlib.figure.Figure at 0x115a74b50>"
      ]
     },
     "metadata": {},
     "output_type": "display_data"
    }
   ],
   "source": [
    "if symm is 'half':\n",
    "    plt.figure(figsize=(20,10))\n",
    "    plt.imshow(Lyot_stop_binned_half_binary)\n",
    "else:\n",
    "    plt.figure(figsize=(10,10))\n",
    "    plt.imshow(Lyot_stop_binned_quad_binary)\n",
    "    #plt.imshow(np.floor(Lyot_stop_binned_quad))"
   ]
  },
  {
   "cell_type": "markdown",
   "metadata": {},
   "source": [
    "## Write the binned, cropped Lyot stop to a dat (ASCII) file "
   ]
  },
  {
   "cell_type": "code",
   "execution_count": 44,
   "metadata": {
    "collapsed": false
   },
   "outputs": [
    {
     "name": "stdout",
     "output_type": "stream",
     "text": [
      "Wrote binned, cropped LS array to /astro/opticslab1/SCDA/Apertures/InputMasks/LS/LS_half_ann25D80_clear_N0125.dat\n"
     ]
    }
   ],
   "source": [
    "if symm is 'half':\n",
    "    LS_dat_fname_tail = \"LS_half_ann{0:02d}D{1:02d}_clear_N{2:04d}.dat\".format(\n",
    "                         int(round(100*inD)), int(round(100*outD)), N)\n",
    "else:\n",
    "    LS_dat_fname_tail = \"LS_quart_ann{0:02d}D{1:02d}_clear_N{2:04d}.dat\".format(\n",
    "                         int(round(100*inD)), int(round(100*outD)), N)\n",
    "\n",
    "LS_dat_fname = os.path.join(LS_dir, LS_dat_fname_tail)\n",
    "\n",
    "if not os.path.exists(LS_dat_fname):\n",
    "    #np.savetxt(LS_quart_dat_fname, Lyot_stop_binned_quad, fmt='%.6f', delimiter=\" \")\n",
    "    np.savetxt(LS_dat_fname, Lyot_stop_binned_quad_binary, fmt='%d', delimiter=\" \")\n",
    "    print(\"Wrote binned, cropped LS array to {0:s}\".format(LS_dat_fname))\n",
    "else:\n",
    "    print(\"LS array {0:s} already exists, will not overwrite\".format(LS_dat_fname))"
   ]
  },
  {
   "cell_type": "code",
   "execution_count": 27,
   "metadata": {
    "collapsed": true
   },
   "outputs": [],
   "source": [
    "#os.remove(LS_dat_fname)"
   ]
  },
  {
   "cell_type": "code",
   "execution_count": 45,
   "metadata": {
    "collapsed": false
   },
   "outputs": [
    {
     "data": {
      "text/plain": [
       "['LDZ_quart_ann20D78_clear_Tol05_N0125.dat',\n",
       " 'LDZ_quart_ann20D76_clear_Tol05_N0125.dat',\n",
       " 'LDZ_quart_ann20D82_clear_Tol05_N0125.dat',\n",
       " 'LDZ_quart_ann20D80_clear_Tol05_N0125.dat',\n",
       " 'LDZ_quart_ann25D78_clear_Tol05_N0125.dat',\n",
       " 'LDZ_quart_ann25D76_clear_Tol05_N0125.dat',\n",
       " 'LDZ_quart_ann25D80_clear_Tol05_N0250.dat',\n",
       " 'LDZ_quart_ann25D80_clear_Tol05_N0125.dat',\n",
       " 'LDZ_quart_ann28D83_clear_Tol05_N0500.dat',\n",
       " 'LDZ_quart_ann25D82_clear_Tol05_N0125.dat',\n",
       " 'LS_quart_ann25D82_clear_N0125.dat',\n",
       " 'LDZ_quart_ann25D80_clear_Tol03_N0250.dat',\n",
       " 'LDZ_quart_ann30D76_clear_Tol05_N0125.dat',\n",
       " 'LDZ_quart_ann30D78_clear_Tol05_N0125.dat',\n",
       " 'LDZ_quart_ann30D80_clear_Tol05_N0125.dat',\n",
       " 'LS_quart_ann25D80_clear_N0250.dat',\n",
       " 'LDZ_quart_ann30D82_clear_Tol05_N0125.dat',\n",
       " 'LS_quart_ann20D76_clear_N0125.dat',\n",
       " 'LS_quart_ann20D78_clear_N0125.dat',\n",
       " 'LS_quart_ann20D80_clear_N0125.dat',\n",
       " 'LS_quart_ann20D82_clear_N0125.dat',\n",
       " 'LS_quart_ann25D76_clear_N0125.dat',\n",
       " 'LS_quart_ann25D78_clear_N0125.dat',\n",
       " 'LS_quart_ann25D80_clear_N0125.dat',\n",
       " 'LS_quart_ann28D83_clear_N0500.dat',\n",
       " 'LS_quart_ann30D76_clear_N0125.dat',\n",
       " 'LS_quart_ann30D78_clear_N0125.dat',\n",
       " 'LS_quart_ann30D80_clear_N0125.dat',\n",
       " 'LS_quart_ann30D82_clear_N0125.dat',\n",
       " 'LS_quart_ann20D70_clear_N0125.dat',\n",
       " 'LDZ_quart_ann20D70_clear_Tol05_N0125.dat',\n",
       " 'LS_quart_ann20D72_clear_N0125.dat',\n",
       " 'LDZ_quart_ann20D72_clear_Tol05_N0125.dat',\n",
       " 'LS_quart_ann20D74_clear_N0125.dat',\n",
       " 'LDZ_quart_ann20D74_clear_Tol05_N0125.dat',\n",
       " 'LS_quart_ann25D74_clear_N0125.dat',\n",
       " 'LDZ_quart_ann25D74_clear_Tol05_N0125.dat',\n",
       " 'LS_quart_ann25D72_clear_N0125.dat',\n",
       " 'LDZ_quart_ann25D72_clear_Tol05_N0125.dat',\n",
       " 'LS_quart_ann25D70_clear_N0125.dat',\n",
       " 'LDZ_quart_ann25D70_clear_Tol05_N0125.dat',\n",
       " 'LS_quart_ann30D70_clear_N0125.dat',\n",
       " 'LDZ_quart_ann30D70_clear_Tol05_N0125.dat',\n",
       " 'LS_quart_ann30D72_clear_N0125.dat',\n",
       " 'LDZ_quart_ann30D72_clear_Tol05_N0125.dat',\n",
       " 'LS_quart_ann30D74_clear_N0125.dat',\n",
       " 'LDZ_quart_ann30D74_clear_Tol05_N0125.dat',\n",
       " 'LS_quart_ann26D79_clear_N0250.dat',\n",
       " 'LDZ_quart_ann26D79_clear_Tol03_N0250.dat',\n",
       " 'LS_quart_ann25D80_clear_N0050.dat',\n",
       " 'LS_quart_ann26D79_clear_N0050.dat',\n",
       " 'LS_quart_ann30D35_clear_N0125.dat',\n",
       " 'LDZ_quart_ann30D35_clear_Tol05_N0125.dat',\n",
       " 'LS_quart_ann35D70_clear_N0125.dat',\n",
       " 'LDZ_quart_ann35D70_clear_Tol05_N0125.dat',\n",
       " 'LS_quart_ann40D70_clear_N0125.dat',\n",
       " 'LDZ_quart_ann40D70_clear_Tol05_N0125.dat',\n",
       " 'LS_quart_ann40D75_clear_N0125.dat',\n",
       " 'LDZ_quart_ann40D75_clear_Tol05_N0125.dat',\n",
       " 'LS_quart_ann35D75_clear_N0125.dat',\n",
       " 'LDZ_quart_ann35D75_clear_Tol05_N0125.dat',\n",
       " 'LS_quart_ann35D80_clear_N0125.dat',\n",
       " 'LDZ_quart_ann35D80_clear_Tol05_N0125.dat',\n",
       " 'LS_quart_ann40D80_clear_N0125.dat',\n",
       " 'LDZ_quart_ann40D80_clear_Tol05_N0125.dat',\n",
       " 'LS_quart_ann20D75_clear_N0125.dat',\n",
       " 'LDZ_quart_ann20D75_clear_Tol05_N0125.dat',\n",
       " 'LS_quart_ann25D75_clear_N0125.dat',\n",
       " 'LDZ_quart_ann25D75_clear_Tol05_N0125.dat',\n",
       " 'LS_quart_ann30D75_clear_N0125.dat',\n",
       " 'LDZ_quart_ann30D75_clear_Tol05_N0125.dat',\n",
       " 'LS_half_ann25D80_clear_N0125.dat']"
      ]
     },
     "execution_count": 45,
     "metadata": {},
     "output_type": "execute_result"
    }
   ],
   "source": [
    "os.listdir(LS_dir)"
   ]
  },
  {
   "cell_type": "markdown",
   "metadata": {},
   "source": [
    "# Define Lyot plane dark zone"
   ]
  },
  {
   "cell_type": "code",
   "execution_count": 12,
   "metadata": {
    "collapsed": false
   },
   "outputs": [
    {
     "name": "stdout",
     "output_type": "stream",
     "text": [
      "Lyot plane dark zone width in binned array: +/- 2 pixels\n"
     ]
    }
   ],
   "source": [
    "dz_width_fac = float(aligntol)/1000              # dark zone is +/- this fraction of pupil diameter\n",
    "dz_width = np.ceil(2*N*dz_width_fac).astype(int) # dark zone is +/- this number of pixels in binned pupil array\n",
    "print(\"Lyot plane dark zone width in binned array: +/- {:d} pixels\".format(dz_width))"
   ]
  },
  {
   "cell_type": "markdown",
   "metadata": {},
   "source": [
    "## Annular component"
   ]
  },
  {
   "cell_type": "code",
   "execution_count": 13,
   "metadata": {
    "collapsed": false
   },
   "outputs": [],
   "source": [
    "L = Lyot_stop.shape[0]\n",
    "xs = np.linspace(-L/2 + 0.5, L/2 - 0.5, L)\n",
    "[Xs, Ys] = np.meshgrid(xs, xs)\n",
    "\n",
    "ann_outer_bound = np.ones(Lyot_stop.shape).astype(int)\n",
    "inside = np.less_equal(Xs**2 + Ys**2, ((inD - 2*dz_width_fac)*D/2)**2)\n",
    "outside = np.greater_equal(Xs**2 + Ys**2, ((outD + 2*dz_width_fac)*D/2)**2)\n",
    "ann_outer_bound[inside] = 0\n",
    "ann_outer_bound[outside] = 0\n",
    "\n",
    "ann_inner_bound = np.ones(Lyot_stop.shape).astype(int)\n",
    "inside = np.less_equal(Xs**2 + Ys**2, ((inD + 2*dz_width_fac)*D/2)**2)\n",
    "outside = np.greater_equal(Xs**2 + Ys**2, ((outD - 2*dz_width_fac)*D/2)**2)\n",
    "ann_inner_bound[inside] = 0\n",
    "ann_inner_bound[outside] = 0\n",
    "\n",
    "ann_stop = np.ones(Lyot_stop.shape).astype(int)\n",
    "inside_stop = np.less_equal(Xs**2 + Ys**2, (inD*D/2)**2)\n",
    "outside_stop = np.greater_equal(Xs**2 + Ys**2, (outD*D/2)**2)\n",
    "ann_stop[inside] = 0\n",
    "ann_stop[outside] = 0"
   ]
  },
  {
   "cell_type": "code",
   "execution_count": 14,
   "metadata": {
    "collapsed": false
   },
   "outputs": [
    {
     "data": {
      "text/plain": [
       "<matplotlib.image.AxesImage at 0x111fa97d0>"
      ]
     },
     "execution_count": 14,
     "metadata": {},
     "output_type": "execute_result"
    },
    {
     "data": {
      "image/png": "[encoded data removed]",
      "text/plain": [
       "<matplotlib.figure.Figure at 0x108dabb10>"
      ]
     },
     "metadata": {},
     "output_type": "display_data"
    }
   ],
   "source": [
    "Lyot_dz = np.logical_xor(ann_outer_bound, ann_inner_bound)\n",
    "plt.figure(figsize=(6,6))\n",
    "plt.imshow(Lyot_dz)"
   ]
  },
  {
   "cell_type": "code",
   "execution_count": 15,
   "metadata": {
    "collapsed": false
   },
   "outputs": [
    {
     "name": "stdout",
     "output_type": "stream",
     "text": [
      "Binning the original LDZ array 2x\n"
     ]
    },
    {
     "data": {
      "text/plain": [
       "(250, 250)"
      ]
     },
     "execution_count": 15,
     "metadata": {},
     "output_type": "execute_result"
    }
   ],
   "source": [
    "#Lyot_dz_binned = skimage.transform.rescale(Lyot_dz, scalefac, order=1)\n",
    "\n",
    "print(\"Binning the original LDZ array {0:d}x\".format(scalefac))\n",
    "Lyot_dz_binned = np.reshape(Lyot_dz, (Lyot_dz.shape[0]/scalefac, scalefac, \n",
    "                                      Lyot_dz.shape[1]/scalefac, scalefac)).mean(1).mean(2)\n",
    "\n",
    "L_bin = Lyot_dz_binned.shape[0]\n",
    "Lyot_dz_binned_quad = Lyot_dz_binned[L_bin/2:L_bin/2+N,L_bin/2:L_bin/2+N]\n",
    "Lyot_dz_binned_quad_binary = np.round(Lyot_dz_binned_quad).astype(int)\n",
    "Lyot_dz_binned_quad.shape"
   ]
  },
  {
   "cell_type": "code",
   "execution_count": 16,
   "metadata": {
    "collapsed": false
   },
   "outputs": [
    {
     "data": {
      "image/png": "[encoded data removed]",
      "text/plain": [
       "<matplotlib.figure.Figure at 0x108dc8590>"
      ]
     },
     "metadata": {},
     "output_type": "display_data"
    }
   ],
   "source": [
    "plt.figure(figsize=(12,12))\n",
    "plt.subplot(221)\n",
    "plt.title('Dark zone')\n",
    "plt.imshow(Lyot_dz_binned_quad_binary)\n",
    "plt.axis('off')\n",
    "plt.subplot(222)\n",
    "plt.title('Lyot stop')\n",
    "plt.imshow(Lyot_stop_binned_quad_binary)\n",
    "plt.axis('off')\n",
    "plt.subplot(223)\n",
    "plt.title('Dark zone off the Lyot stop')\n",
    "plt.imshow(Lyot_stop_binned_quad_binary & Lyot_dz_binned_quad_binary)\n",
    "plt.subplot(224)\n",
    "plt.title('Dark zone on the Lyot stop')\n",
    "plt.imshow(~Lyot_stop_binned_quad_binary & Lyot_dz_binned_quad_binary)\n",
    "t=plt.axis('off')"
   ]
  },
  {
   "cell_type": "markdown",
   "metadata": {},
   "source": [
    "## Alignment tolerance check"
   ]
  },
  {
   "cell_type": "code",
   "execution_count": 17,
   "metadata": {
    "collapsed": false
   },
   "outputs": [
    {
     "name": "stdout",
     "output_type": "stream",
     "text": [
      "The LDZ accomomdates a translation 0.3% of D=500 pixels = 1.50 pixels, up to 1 whole pixels\n",
      "Testing an (x,y) translation of (1, 0) pixels. Beyond the design tolerance? False\n",
      "LDZ encompasses the LS transmission error region? True\n",
      "Total unconstrained \"leak\" area after translation = 0 pixels\n"
     ]
    }
   ],
   "source": [
    "max_shift_tol = 2*N*dz_width_fac\n",
    "max_shift_tol_int = int(np.floor(max_shift_tol))\n",
    "test_shift = (1,0)\n",
    "print(\"The LDZ accomomdates a translation {0:.1f}% of D={1:d} pixels = {2:.2f} pixels, up to {3:d} whole pixels\".format(\n",
    "      float(aligntol)/10, 2*N, max_shift_tol, max_shift_tol_int))\n",
    "print(\"Testing an (x,y) translation of {0:} pixels. Beyond the design tolerance? {1:}\".format(\n",
    "      test_shift, test_shift[0]**2 + test_shift[1]**2 > max_shift_tol))\n",
    "LS_halfplane = np.concatenate((Lyot_stop_binned_quad_binary[::-1,:], Lyot_stop_binned_quad_binary), axis=0)\n",
    "LS_full = np.concatenate((LS_halfplane[:,::-1], LS_halfplane), axis=1)\n",
    "LS_full_shift = np.roll(np.roll(LS_full, test_shift[0], axis=1), test_shift[1], axis=0)\n",
    "LS_err_mask = np.ceil(np.abs(LS_full_shift - LS_full)).astype(bool)\n",
    "\n",
    "LDZ_halfplane = np.concatenate((Lyot_dz_binned_quad_binary[::-1,:], Lyot_dz_binned_quad_binary), axis=0)\n",
    "LDZ_full = np.concatenate((LDZ_halfplane[:,::-1], LDZ_halfplane), axis=1).astype(bool)\n",
    "\n",
    "print(\"LDZ encompasses the LS transmission error region? {0:}\".format(\n",
    "        ~np.any(np.logical_and(LS_err_mask, ~LDZ_full))))\n",
    "\n",
    "print(\"Total unconstrained \\\"leak\\\" area after translation = {0:d} pixels\".format(\n",
    "      int(np.sum(np.logical_and(LS_err_mask, ~LDZ_full)))))"
   ]
  },
  {
   "cell_type": "code",
   "execution_count": 18,
   "metadata": {
    "collapsed": false
   },
   "outputs": [
    {
     "data": {
      "image/png": "[encoded data removed]",
      "text/plain": [
       "<matplotlib.figure.Figure at 0x108de5850>"
      ]
     },
     "metadata": {},
     "output_type": "display_data"
    }
   ],
   "source": [
    "plt.figure(figsize=(16,6))\n",
    "plt.subplot(131)\n",
    "plt.imshow(LS_err_mask)\n",
    "lims = plt.axis('off')\n",
    "t=plt.title('Lyot transmission error region')\n",
    "plt.subplot(132)\n",
    "plt.imshow(~LDZ_full)\n",
    "lims = plt.axis('off')\n",
    "t=plt.title('Inverse of LDZ')\n",
    "plt.subplot(133)\n",
    "plt.imshow(np.logical_and(LS_err_mask, ~LDZ_full))\n",
    "lims = plt.axis('off')\n",
    "t=plt.title('Lyot leak region')"
   ]
  },
  {
   "cell_type": "markdown",
   "metadata": {},
   "source": [
    "## Write the Lyot dark zone file"
   ]
  },
  {
   "cell_type": "code",
   "execution_count": 19,
   "metadata": {
    "collapsed": false
   },
   "outputs": [
    {
     "name": "stdout",
     "output_type": "stream",
     "text": [
      "Wrote binned, cropped LDZ array to /astro/opticslab1/SCDA/Apertures/InputMasks/LS/LDZ_quart_ann26D79_clear_Tol03_N0250.dat\n"
     ]
    }
   ],
   "source": [
    "if aligntol > 0:\n",
    "    LDZ_quart_dat_fname_tail = \"LDZ_quart_ann{0:02d}D{1:02d}_clear_Tol{2:02d}_N{3:04d}.dat\".format(\n",
    "                                int(round(100*inD)), int(round(100*outD)), aligntol, N)\n",
    "    LDZ_quart_dat_fname = os.path.join(LS_dir, LDZ_quart_dat_fname_tail)\n",
    "    np.savetxt(LDZ_quart_dat_fname, Lyot_dz_binned_quad_binary, fmt='%d', delimiter=\" \")\n",
    "    print(\"Wrote binned, cropped LDZ array to {0:s}\".format(LDZ_quart_dat_fname))"
   ]
  },
  {
   "cell_type": "code",
   "execution_count": 20,
   "metadata": {
    "collapsed": false
   },
   "outputs": [
    {
     "data": {
      "text/plain": [
       "['LDZ_quart_ann20D78_clear_Tol05_N0125.dat',\n",
       " 'LDZ_quart_ann20D76_clear_Tol05_N0125.dat',\n",
       " 'LDZ_quart_ann20D82_clear_Tol05_N0125.dat',\n",
       " 'LDZ_quart_ann20D80_clear_Tol05_N0125.dat',\n",
       " 'LDZ_quart_ann25D78_clear_Tol05_N0125.dat',\n",
       " 'LDZ_quart_ann25D76_clear_Tol05_N0125.dat',\n",
       " 'LDZ_quart_ann25D80_clear_Tol05_N0250.dat',\n",
       " 'LDZ_quart_ann25D80_clear_Tol05_N0125.dat',\n",
       " 'LDZ_quart_ann28D83_clear_Tol05_N0500.dat',\n",
       " 'LDZ_quart_ann25D82_clear_Tol05_N0125.dat',\n",
       " 'LS_quart_ann25D82_clear_N0125.dat',\n",
       " 'LDZ_quart_ann25D80_clear_Tol03_N0250.dat',\n",
       " 'LDZ_quart_ann30D76_clear_Tol05_N0125.dat',\n",
       " 'LDZ_quart_ann30D78_clear_Tol05_N0125.dat',\n",
       " 'LDZ_quart_ann30D80_clear_Tol05_N0125.dat',\n",
       " 'LS_quart_ann25D80_clear_N0250.dat',\n",
       " 'LDZ_quart_ann30D82_clear_Tol05_N0125.dat',\n",
       " 'LS_quart_ann20D76_clear_N0125.dat',\n",
       " 'LS_quart_ann20D78_clear_N0125.dat',\n",
       " 'LS_quart_ann20D80_clear_N0125.dat',\n",
       " 'LS_quart_ann20D82_clear_N0125.dat',\n",
       " 'LS_quart_ann25D76_clear_N0125.dat',\n",
       " 'LS_quart_ann25D78_clear_N0125.dat',\n",
       " 'LS_quart_ann25D80_clear_N0125.dat',\n",
       " 'LS_quart_ann28D83_clear_N0500.dat',\n",
       " 'LS_quart_ann30D76_clear_N0125.dat',\n",
       " 'LS_quart_ann30D78_clear_N0125.dat',\n",
       " 'LS_quart_ann30D80_clear_N0125.dat',\n",
       " 'LS_quart_ann30D82_clear_N0125.dat',\n",
       " 'LS_quart_ann20D70_clear_N0125.dat',\n",
       " 'LDZ_quart_ann20D70_clear_Tol05_N0125.dat',\n",
       " 'LS_quart_ann20D72_clear_N0125.dat',\n",
       " 'LDZ_quart_ann20D72_clear_Tol05_N0125.dat',\n",
       " 'LS_quart_ann20D74_clear_N0125.dat',\n",
       " 'LDZ_quart_ann20D74_clear_Tol05_N0125.dat',\n",
       " 'LS_quart_ann25D74_clear_N0125.dat',\n",
       " 'LDZ_quart_ann25D74_clear_Tol05_N0125.dat',\n",
       " 'LS_quart_ann25D72_clear_N0125.dat',\n",
       " 'LDZ_quart_ann25D72_clear_Tol05_N0125.dat',\n",
       " 'LS_quart_ann25D70_clear_N0125.dat',\n",
       " 'LDZ_quart_ann25D70_clear_Tol05_N0125.dat',\n",
       " 'LS_quart_ann30D70_clear_N0125.dat',\n",
       " 'LDZ_quart_ann30D70_clear_Tol05_N0125.dat',\n",
       " 'LS_quart_ann30D72_clear_N0125.dat',\n",
       " 'LDZ_quart_ann30D72_clear_Tol05_N0125.dat',\n",
       " 'LS_quart_ann30D74_clear_N0125.dat',\n",
       " 'LDZ_quart_ann30D74_clear_Tol05_N0125.dat',\n",
       " 'LS_quart_ann26D79_clear_N0250.dat',\n",
       " 'LDZ_quart_ann26D79_clear_Tol03_N0250.dat']"
      ]
     },
     "execution_count": 20,
     "metadata": {},
     "output_type": "execute_result"
    }
   ],
   "source": [
    "os.listdir(LS_dir)"
   ]
  },
  {
   "cell_type": "code",
   "execution_count": null,
   "metadata": {
    "collapsed": true
   },
   "outputs": [],
   "source": []
  }
 ],
 "metadata": {
  "kernelspec": {
   "display_name": "Python 2",
   "language": "python",
   "name": "python2"
  },
  "language_info": {
   "codemirror_mode": {
    "name": "ipython",
    "version": 2
   },
   "file_extension": ".py",
   "mimetype": "text/x-python",
   "name": "python",
   "nbconvert_exporter": "python",
   "pygments_lexer": "ipython2",
   "version": "2.7.5"
  }
 },
 "nbformat": 4,
 "nbformat_minor": 0
}

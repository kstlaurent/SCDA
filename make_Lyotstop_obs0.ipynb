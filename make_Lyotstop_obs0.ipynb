{
 "cells": [
  {
   "cell_type": "code",
   "execution_count": 1,
   "metadata": {
    "collapsed": false
   },
   "outputs": [
    {
     "name": "stdout",
     "output_type": "stream",
     "text": [
      "Populating the interactive namespace from numpy and matplotlib\n"
     ]
    }
   ],
   "source": [
    "import numpy as np\n",
    "#import skimage.transform\n",
    "import astropy.io.fits as fits\n",
    "import matplotlib.pyplot as plt\n",
    "import os\n",
    "import PIL.ImageDraw\n",
    "import PIL.Image\n",
    "%pylab inline --no-import-all\n",
    "matplotlib.rcParams['image.origin'] = 'lower'\n",
    "matplotlib.rcParams['image.interpolation'] = 'nearest'\n",
    "matplotlib.rcParams['image.cmap'] = 'gray'"
   ]
  },
  {
   "cell_type": "markdown",
   "metadata": {},
   "source": [
    "## Set basic parameters"
   ]
  },
  {
   "cell_type": "code",
   "execution_count": 66,
   "metadata": {
    "collapsed": true
   },
   "outputs": [],
   "source": [
    "overwrite = False\n",
    "N = 250 # pupil array quadrant width after binning\n",
    "iD = 25\n",
    "oD = 81\n",
    "aligntol = 2 # units of thousandths of pupil diameter\n",
    "L = 1000 # starting array width\n",
    "D = 1000 # starting pupil diameter\n",
    "symm = 'quart' # set to either 'quart' or 'half'\n",
    "shape = 'ann' # set to 'ann' or 'hex'\n",
    "edge = 'round' # set to 'gray' or 'round'"
   ]
  },
  {
   "cell_type": "code",
   "execution_count": 67,
   "metadata": {
    "collapsed": false
   },
   "outputs": [
    {
     "name": "stdout",
     "output_type": "stream",
     "text": [
      "Destination /astro/opticslab1/SCDA/Apertures/InputMasks/LS already exists\n"
     ]
    }
   ],
   "source": [
    "#LS_dir = os.path.abspath(\"../InputMasks/LS\")\n",
    "LS_dir = os.path.normpath(\"/astro/opticslab1/SCDA/Apertures/InputMasks/LS\")\n",
    "#LS_dir = os.path.normpath(\"/astro/opticslab1/SCDA/Apertures/InputMasks_v3/LS\")\n",
    "#LS_dir = os.path.normpath(\"/astro/opticslab1/SCDA/Apertures/InputMasks_v4/LS\")\n",
    "#LS_dir = os.path.normpath(os.path.expanduser(\"~/Box Sync/scda/InputMasks_v4/LS\"))\n",
    "if not os.path.exists(LS_dir):\n",
    "    os.mkdir(LS_dir)\n",
    "    print(\"created {:s} for LS arrays\".format(LS_dir))\n",
    "else:\n",
    "    print(\"Destination {:s} already exists\".format(LS_dir))"
   ]
  },
  {
   "cell_type": "markdown",
   "metadata": {},
   "source": [
    "## Define annular stop"
   ]
  },
  {
   "cell_type": "code",
   "execution_count": 68,
   "metadata": {
    "collapsed": false
   },
   "outputs": [],
   "source": [
    "inD = float(iD)/100\n",
    "outD = float(oD)/100\n",
    "xs = np.linspace(-L/2 + 0.5, L/2 - 0.5, L)\n",
    "[Xs, Ys] = np.meshgrid(xs, xs)\n",
    "inside_ann = np.less_equal(Xs**2 + Ys**2, (inD*D/2)**2)\n",
    "outside_ann = np.greater_equal(Xs**2 + Ys**2, (outD*D/2)**2)\n",
    "Lyot_stop = np.ones((L,L))\n",
    "Lyot_stop[inside_ann] = 0.\n",
    "Lyot_stop[outside_ann] = 0."
   ]
  },
  {
   "cell_type": "code",
   "execution_count": 69,
   "metadata": {
    "collapsed": false
   },
   "outputs": [],
   "source": [
    "inD = float(iD)/100\n",
    "outD = float(oD)/100\n",
    "xs = np.linspace(-L/2 + 0.5, L/2 - 0.5, L)\n",
    "[Xs, Ys] = np.meshgrid(xs, xs)\n",
    "\n",
    "if shape is 'hex':\n",
    "    xycent = (L/2-0.5,L/2-0.5)\n",
    "    hexagon_obj = matplotlib.patches.RegularPolygon(xycent,6,radius=outD*D/2/np.cos(np.pi/6))\n",
    "    hexagon_verts = hexagon_obj.get_verts()\n",
    "    hexagon_img = PIL.Image.new('L', (L,L), 0)\n",
    "    PIL.ImageDraw.Draw(hexagon_img).polygon(list(hexagon_verts.ravel()), outline=1, fill=1)\n",
    "    hexagon_mask = np.array(hexagon_img)\n",
    "    Lyot_stop = hexagon_mask\n",
    "    inside_ann = np.less_equal(Xs**2 + Ys**2, (inD*D/2)**2)\n",
    "    Lyot_stop[inside_ann] = 0.\n",
    "else:\n",
    "    inside_ann = np.less_equal(Xs**2 + Ys**2, (inD*D/2)**2)\n",
    "    outside_ann = np.greater_equal(Xs**2 + Ys**2, (outD*D/2)**2)\n",
    "    Lyot_stop = np.ones((L,L))\n",
    "    Lyot_stop[inside_ann] = 0.\n",
    "    Lyot_stop[outside_ann] = 0."
   ]
  },
  {
   "cell_type": "code",
   "execution_count": 70,
   "metadata": {
    "collapsed": false
   },
   "outputs": [
    {
     "data": {
      "text/plain": [
       "<matplotlib.image.AxesImage at 0x11169e290>"
      ]
     },
     "execution_count": 70,
     "metadata": {},
     "output_type": "execute_result"
    },
    {
     "data": {
      "image/png": "[encoded data removed]",
      "text/plain": [
       "<matplotlib.figure.Figure at 0x115e11d50>"
      ]
     },
     "metadata": {},
     "output_type": "display_data"
    }
   ],
   "source": [
    "plt.figure(figsize=(12,12))\n",
    "plt.imshow(Lyot_stop)"
   ]
  },
  {
   "cell_type": "markdown",
   "metadata": {},
   "source": [
    "## Bin to final array resolution, crop"
   ]
  },
  {
   "cell_type": "code",
   "execution_count": 71,
   "metadata": {
    "collapsed": false
   },
   "outputs": [],
   "source": [
    "#scalefac = float(N)/(D/2)\n",
    "#Lyot_stop_binned = skimage.transform.rescale(Lyot_stop, scalefac, order=1)"
   ]
  },
  {
   "cell_type": "code",
   "execution_count": 72,
   "metadata": {
    "collapsed": false
   },
   "outputs": [
    {
     "name": "stdout",
     "output_type": "stream",
     "text": [
      "Binning the original LS array 2x\n"
     ]
    }
   ],
   "source": [
    "N_orig = D/2\n",
    "scalefac = int(N_orig/N)\n",
    "print(\"Binning the original LS array {0:d}x\".format(scalefac))\n",
    "Lyot_stop_binned = np.reshape(Lyot_stop, (Lyot_stop.shape[0]/scalefac, scalefac, \n",
    "                                          Lyot_stop.shape[1]/scalefac, scalefac)).mean(1).mean(2)"
   ]
  },
  {
   "cell_type": "code",
   "execution_count": 73,
   "metadata": {
    "collapsed": false
   },
   "outputs": [
    {
     "data": {
      "text/plain": [
       "(1000, 1000)"
      ]
     },
     "execution_count": 73,
     "metadata": {},
     "output_type": "execute_result"
    }
   ],
   "source": [
    "Lyot_stop.shape"
   ]
  },
  {
   "cell_type": "code",
   "execution_count": 74,
   "metadata": {
    "collapsed": false
   },
   "outputs": [
    {
     "name": "stdout",
     "output_type": "stream",
     "text": [
      "(250, 250)\n"
     ]
    }
   ],
   "source": [
    "L_bin = Lyot_stop_binned.shape[0]\n",
    "if symm is 'half':\n",
    "    Lyot_stop_binned_crop = Lyot_stop_binned[L_bin/2-N:L_bin/2+N,L_bin/2:L_bin/2+N]\n",
    "    Lyot_stop_binned_crop_binary = np.round(Lyot_stop_binned_crop).astype(int)\n",
    "    print Lyot_stop_binned_crop.shape\n",
    "else:\n",
    "    Lyot_stop_binned_crop = Lyot_stop_binned[L_bin/2:L_bin/2+N,L_bin/2:L_bin/2+N]\n",
    "    Lyot_stop_binned_crop_binary = np.round(Lyot_stop_binned_crop).astype(int)\n",
    "    print Lyot_stop_binned_crop.shape"
   ]
  },
  {
   "cell_type": "code",
   "execution_count": 75,
   "metadata": {
    "collapsed": false
   },
   "outputs": [
    {
     "data": {
      "image/png": "[encoded data removed]",
      "text/plain": [
       "<matplotlib.figure.Figure at 0x111689290>"
      ]
     },
     "metadata": {},
     "output_type": "display_data"
    }
   ],
   "source": [
    "if symm is 'half':\n",
    "    plt.figure(figsize=(20,10))\n",
    "    #plt.imshow(Lyot_stop_binned_crop_binary)\n",
    "    plt.imshow(Lyot_stop_binned_crop)\n",
    "else:\n",
    "    plt.figure(figsize=(10,10))\n",
    "    plt.imshow(Lyot_stop_binned_crop)\n",
    "    #plt.imshow(Lyot_stop_binned_crop_binary)"
   ]
  },
  {
   "cell_type": "markdown",
   "metadata": {},
   "source": [
    "## Write the binned, cropped Lyot stop to a dat (ASCII) file "
   ]
  },
  {
   "cell_type": "code",
   "execution_count": 76,
   "metadata": {
    "collapsed": false
   },
   "outputs": [
    {
     "name": "stdout",
     "output_type": "stream",
     "text": [
      "LS array /astro/opticslab1/SCDA/Apertures/InputMasks/LS/LS_quart_ann25D81_clear_N0250.dat already exists, will not overwrite\n"
     ]
    }
   ],
   "source": [
    "if symm is 'half':\n",
    "    LS_dat_fname_tail = \"LS_half_{0:s}{1:02d}D{2:02d}_clear_N{3:04d}.dat\".format(\n",
    "                         shape, int(round(100*inD)), int(round(100*outD)), N)\n",
    "else:\n",
    "    LS_dat_fname_tail = \"LS_quart_{0:s}{1:02d}D{2:02d}_clear_N{3:04d}.dat\".format(\n",
    "                         shape, int(round(100*inD)), int(round(100*outD)), N)\n",
    "\n",
    "LS_dat_fname = os.path.join(LS_dir, LS_dat_fname_tail)\n",
    "\n",
    "if not os.path.exists(LS_dat_fname) or overwrite==True:\n",
    "    if edge is 'gray':\n",
    "        np.savetxt(LS_dat_fname, Lyot_stop_binned_crop, fmt='%.6f', delimiter=\" \")\n",
    "    else: # store version rounded to binary integers\n",
    "        np.savetxt(LS_dat_fname, Lyot_stop_binned_crop_binary, fmt='%d', delimiter=\" \")\n",
    "    print(\"Wrote binned, cropped LS array to {0:s}\".format(LS_dat_fname))\n",
    "else:\n",
    "    print(\"LS array {0:s} already exists, will not overwrite\".format(LS_dat_fname))"
   ]
  },
  {
   "cell_type": "code",
   "execution_count": 77,
   "metadata": {
    "collapsed": true
   },
   "outputs": [],
   "source": [
    "#if os.path.exists(LS_dat_fname): os.remove(LS_dat_fname)"
   ]
  },
  {
   "cell_type": "markdown",
   "metadata": {},
   "source": [
    "# Define Lyot plane dark zone"
   ]
  },
  {
   "cell_type": "code",
   "execution_count": 78,
   "metadata": {
    "collapsed": false
   },
   "outputs": [
    {
     "name": "stdout",
     "output_type": "stream",
     "text": [
      "Lyot plane dark zone width in binned array: +/- 1 pixels\n"
     ]
    }
   ],
   "source": [
    "orig_LS = np.round(Lyot_stop_binned[L_bin/2-N:L_bin/2+N,L_bin/2-N:L_bin/2+N]).astype(int)\n",
    "dz_width_fac = float(aligntol)/1000              # dark zone is +/- this fraction of pupil diameter\n",
    "dz_width = np.ceil(2*N*dz_width_fac).astype(int) # dark zone is +/- this number of pixels in binned pupil array\n",
    "print(\"Lyot plane dark zone width in binned array: +/- {:d} pixels\".format(dz_width))"
   ]
  },
  {
   "cell_type": "code",
   "execution_count": 79,
   "metadata": {
    "collapsed": true
   },
   "outputs": [],
   "source": [
    "max_shift = dz_width\n",
    "shift_range = range(-max_shift,max_shift+1,1)\n",
    "[Xshifts, Yshifts] = np.meshgrid(shift_range, shift_range)\n",
    "allowed_shifts = np.less_equal(Xshifts**2 + Yshifts**2, max_shift**2)"
   ]
  },
  {
   "cell_type": "code",
   "execution_count": 80,
   "metadata": {
    "collapsed": false
   },
   "outputs": [
    {
     "data": {
      "text/plain": [
       "array([[False,  True, False],\n",
       "       [ True,  True,  True],\n",
       "       [False,  True, False]], dtype=bool)"
      ]
     },
     "execution_count": 80,
     "metadata": {},
     "output_type": "execute_result"
    }
   ],
   "source": [
    "allowed_shifts"
   ]
  },
  {
   "cell_type": "code",
   "execution_count": 81,
   "metadata": {
    "collapsed": false
   },
   "outputs": [
    {
     "data": {
      "text/plain": [
       "5"
      ]
     },
     "execution_count": 81,
     "metadata": {},
     "output_type": "execute_result"
    }
   ],
   "source": [
    "XYshifts_allowed = zip(Xshifts[allowed_shifts], Yshifts[allowed_shifts])\n",
    "len(XYshifts_allowed)"
   ]
  },
  {
   "cell_type": "code",
   "execution_count": 82,
   "metadata": {
    "collapsed": true
   },
   "outputs": [],
   "source": [
    "fat_LS = np.ones(orig_LS.shape)\n",
    "for (xshift,yshift) in XYshifts_allowed:\n",
    "    LS_shifted = np.roll(np.roll(orig_LS, yshift, 0), xshift, 1)\n",
    "    fat_LS *= LS_shifted\n",
    "\n",
    "inv_thin_LS = np.ones(orig_LS.shape)\n",
    "for (xshift,yshift) in XYshifts_allowed:\n",
    "    inv_LS_shifted = 1-np.roll(np.roll(orig_LS, yshift, 0), xshift, 1)\n",
    "    inv_thin_LS *= inv_LS_shifted\n",
    "thin_LS = 1-inv_thin_LS"
   ]
  },
  {
   "cell_type": "code",
   "execution_count": 83,
   "metadata": {
    "collapsed": true
   },
   "outputs": [],
   "source": [
    "Lyot_dz = np.logical_xor(thin_LS, fat_LS)\n",
    "L = Lyot_dz.shape[0]\n",
    "\n",
    "if symm is 'half':\n",
    "    Lyot_dz_crop = Lyot_dz[:,N:]\n",
    "else:\n",
    "    Lyot_dz_crop = Lyot_dz[N:,N:]"
   ]
  },
  {
   "cell_type": "code",
   "execution_count": 84,
   "metadata": {
    "collapsed": false
   },
   "outputs": [
    {
     "data": {
      "text/plain": [
       "<matplotlib.image.AxesImage at 0x119eda410>"
      ]
     },
     "execution_count": 84,
     "metadata": {},
     "output_type": "execute_result"
    },
    {
     "data": {
      "image/png": "[encoded data removed]",
      "text/plain": [
       "<matplotlib.figure.Figure at 0x115e05c90>"
      ]
     },
     "metadata": {},
     "output_type": "display_data"
    }
   ],
   "source": [
    "plt.figure(figsize=(16,16))\n",
    "plt.imshow(Lyot_dz)"
   ]
  },
  {
   "cell_type": "markdown",
   "metadata": {},
   "source": [
    "## Alignment tolerance check"
   ]
  },
  {
   "cell_type": "code",
   "execution_count": 85,
   "metadata": {
    "collapsed": false
   },
   "outputs": [
    {
     "name": "stdout",
     "output_type": "stream",
     "text": [
      "The LDZ accomomdates a translation +/-0.2% of D=500 pixels = +/-1.00 pixels, up to +/-1 whole pixels\n",
      "Testing an (x,y) translation of (1, 0) pixels. Within the design tolerance? True\n",
      "LDZ encompasses the LS transmission error region and does not overlap with tel pupil obscurations? True\n",
      "Total unconstrained \"leak\" area after translation = 0 pixels\n"
     ]
    }
   ],
   "source": [
    "max_shift_tol = 2*N*dz_width_fac\n",
    "max_shift_tol_int = int(np.round(max_shift_tol))\n",
    "test_shift = (max_shift_tol_int,0)\n",
    "print(\"The LDZ accomomdates a translation +/-{0:.1f}% of D={1:d} pixels = +/-{2:.2f} pixels, up to +/-{3:d} whole pixels\".format(\n",
    "      float(aligntol)/10, 2*N, max_shift_tol, max_shift_tol_int))\n",
    "print(\"Testing an (x,y) translation of {0:} pixels. Within the design tolerance? {1:}\".format(\n",
    "      test_shift, test_shift[0]**2 + test_shift[1]**2 <= max_shift_tol))\n",
    "shift_LS = np.roll(np.roll(orig_LS, test_shift[0], axis=1), test_shift[1], axis=0)\n",
    "LS_err_mask = np.ceil(np.abs(shift_LS - orig_LS)).astype(bool)\n",
    "\n",
    "LDZ_valid = ~np.any(np.logical_and(LS_err_mask, ~Lyot_dz))\n",
    "print(\"LDZ encompasses the LS transmission error region and does not overlap with tel pupil obscurations? {0:}\".format(LDZ_valid))\n",
    "\n",
    "print(\"Total unconstrained \\\"leak\\\" area after translation = {0:d} pixels\".format(\n",
    "      int(np.sum(np.logical_and(LS_err_mask, ~Lyot_dz)))))"
   ]
  },
  {
   "cell_type": "markdown",
   "metadata": {},
   "source": [
    "## Write the Lyot dark zone file"
   ]
  },
  {
   "cell_type": "code",
   "execution_count": 86,
   "metadata": {
    "collapsed": false
   },
   "outputs": [
    {
     "name": "stdout",
     "output_type": "stream",
     "text": [
      "Wrote binned, cropped LDZ array to /astro/opticslab1/SCDA/Apertures/InputMasks/LS/LDZ_quart_ann25D81_clear_Tol02_N0250.dat\n"
     ]
    }
   ],
   "source": [
    "if aligntol > 0 and LDZ_valid:\n",
    "    if symm is 'half':\n",
    "        LDZ_dat_fname_tail = \"LDZ_half_{0:s}{1:02d}D{2:02d}_clear_Tol{3:02d}_N{4:04d}.dat\".format(\n",
    "                              shape, int(round(100*inD)), int(round(100*outD)), aligntol, N)\n",
    "    else:\n",
    "        LDZ_dat_fname_tail = \"LDZ_quart_{0:s}{1:02d}D{2:02d}_clear_Tol{3:02d}_N{4:04d}.dat\".format(\n",
    "                              shape, int(round(100*inD)), int(round(100*outD)), aligntol, N)\n",
    "\n",
    "    LDZ_dat_fname = os.path.join(LS_dir, LDZ_dat_fname_tail)\n",
    "    \n",
    "    if not os.path.exists(LDZ_dat_fname) or overwrite==True:\n",
    "        np.savetxt(LDZ_dat_fname, Lyot_dz_crop, fmt='%d', delimiter=\" \")\n",
    "        print(\"Wrote binned, cropped LDZ array to {0:s}\".format(LDZ_dat_fname))\n",
    "    else:\n",
    "        print(\"LDZ array {0:s} already exists, will not overwrite\".format(LDZ_dat_fname))"
   ]
  }
 ],
 "metadata": {
  "kernelspec": {
   "display_name": "Python 2",
   "language": "python",
   "name": "python2"
  },
  "language_info": {
   "codemirror_mode": {
    "name": "ipython",
    "version": 2
   },
   "file_extension": ".py",
   "mimetype": "text/x-python",
   "name": "python",
   "nbconvert_exporter": "python",
   "pygments_lexer": "ipython2",
   "version": "2.7.5"
  }
 },
 "nbformat": 4,
 "nbformat_minor": 0
}

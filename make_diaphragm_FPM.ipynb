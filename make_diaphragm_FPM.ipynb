{
 "cells": [
  {
   "cell_type": "code",
   "execution_count": 1,
   "metadata": {
    "collapsed": false
   },
   "outputs": [
    {
     "name": "stdout",
     "output_type": "stream",
     "text": [
      "Populating the interactive namespace from numpy and matplotlib\n"
     ]
    }
   ],
   "source": [
    "import numpy as np\n",
    "import astropy.io.fits as fits\n",
    "import matplotlib.pyplot as plt\n",
    "import os\n",
    "%pylab inline --no-import-all\n",
    "matplotlib.rcParams['image.origin'] = 'lower'\n",
    "matplotlib.rcParams['image.interpolation'] = 'nearest' \n",
    "matplotlib.rcParams['image.cmap'] = 'gray'"
   ]
  },
  {
   "cell_type": "code",
   "execution_count": 2,
   "metadata": {
    "collapsed": false
   },
   "outputs": [
    {
     "name": "stdout",
     "output_type": "stream",
     "text": [
      "Destination /astro/opticslab1/SCDA/Apertures/InputMasks/FPM already exists\n"
     ]
    }
   ],
   "source": [
    "FPM_dir = os.path.normpath(\"/astro/opticslab1/SCDA/Apertures/InputMasks/FPM\")\n",
    "if not os.path.exists(FPM_dir):\n",
    "    os.mkdir(FPM_dir)\n",
    "    print(\"created {:s} for FPM arrays\".format(FPM_dir))\n",
    "else:\n",
    "    print(\"Destination {:s} already exists\".format(FPM_dir))"
   ]
  },
  {
   "cell_type": "markdown",
   "metadata": {},
   "source": [
    "## FPM design parameters"
   ]
  },
  {
   "cell_type": "code",
   "execution_count": 3,
   "metadata": {
    "collapsed": true
   },
   "outputs": [],
   "source": [
    "rho_0 = 4. # inner radius, resolution element (lam/D) units\n",
    "rho_1 = 10. # outer radius, resolution element (lam/D) units\n",
    "openang = 95 # azimuthal angle of FPM opening\n",
    "openorient = 'H' # set orientation of FPM opening, either horizontal or vertical\n",
    "fpres = 10. # points per resolution element (lam/D)"
   ]
  },
  {
   "cell_type": "markdown",
   "metadata": {},
   "source": [
    "## Implied array parameters"
   ]
  },
  {
   "cell_type": "code",
   "execution_count": 4,
   "metadata": {
    "collapsed": false
   },
   "outputs": [
    {
     "name": "stdout",
     "output_type": "stream",
     "text": [
      "Final gray-pixel FPM quadrant array width will be 100 pixels\n"
     ]
    }
   ],
   "source": [
    "R_0 = fpres*rho_0 # inner radius on final gray-pixel approx\n",
    "R_1 = fpres*rho_1 # outer radius and array quadrant width of final gray-pixel approx\n",
    "M = int(np.ceil(R_1))\n",
    "binfac = 100 # bin factor between large binary array and gray-pixel approximation. A larger binfac increases memory consumption. \n",
    "L = 2*M*binfac # number of points across large binary array\n",
    "dx = 1./L # step size between samples of large binary array\n",
    "print(\"Final gray-pixel FPM quadrant array width will be {0:d} pixels\".format(M))"
   ]
  },
  {
   "cell_type": "markdown",
   "metadata": {},
   "source": [
    "## Verify integer qualities of parameters to ensure accurate mapping to mask filename"
   ]
  },
  {
   "cell_type": "code",
   "execution_count": 5,
   "metadata": {
    "collapsed": true
   },
   "outputs": [],
   "source": [
    "assert(R_0 == int(R_0))\n",
    "assert(R_1 == int(R_1))\n",
    "assert(openang == int(openang))"
   ]
  },
  {
   "cell_type": "markdown",
   "metadata": {},
   "source": [
    "## Define mask"
   ]
  },
  {
   "cell_type": "code",
   "execution_count": 6,
   "metadata": {
    "collapsed": false
   },
   "outputs": [],
   "source": [
    "xs = np.linspace(-L/2 + 0.5, L/2 - 0.5, L)\n",
    "[Xs, Ys] = np.meshgrid(xs, xs)\n",
    "interior = np.less_equal(Xs**2 + Ys**2, (binfac*R_0)**2)\n",
    "exterior = np.greater_equal(Xs**2 + Ys**2, (binfac*R_1)**2)\n",
    "big_FPM = np.ones((L,L))\n",
    "big_FPM[interior] = 0.\n",
    "big_FPM[exterior] = 0.\n",
    "\n",
    "if openang < 180:\n",
    "    theta_quad = np.rad2deg(np.arctan2(Ys[L/2:,L/2:], Xs[L/2:,L/2:]))\n",
    "    if openorient is 'V':\n",
    "        bowtie_quad_exclude = np.less_equal(theta_quad, openang/2)\n",
    "    else:\n",
    "        bowtie_quad_exclude = np.greater_equal(theta_quad, openang/2)\n",
    "    bowtie_rhs_exclude = np.concatenate((bowtie_quad_exclude[::-1,:], bowtie_quad_exclude), axis=0)\n",
    "    bowtie_full_exclude = np.concatenate((bowtie_rhs_exclude[:,::-1], bowtie_rhs_exclude), axis=1)\n",
    "    big_FPM[bowtie_full_exclude] = 0\n",
    "    big_FPM[bowtie_full_exclude] = 0"
   ]
  },
  {
   "cell_type": "markdown",
   "metadata": {},
   "source": [
    "## Bin to gray-pixel array"
   ]
  },
  {
   "cell_type": "code",
   "execution_count": 7,
   "metadata": {
    "collapsed": false
   },
   "outputs": [],
   "source": [
    "gray_FPM = big_FPM.reshape(big_FPM.shape[0]/binfac, binfac, big_FPM.shape[1]/binfac, binfac).mean(1).mean(2)\n",
    "gray_FPM_quad = gray_FPM[M:,M:]\n",
    "binary_FPM_quad = np.round(gray_FPM_quad).astype(int)"
   ]
  },
  {
   "cell_type": "code",
   "execution_count": 8,
   "metadata": {
    "collapsed": false
   },
   "outputs": [
    {
     "data": {
      "text/plain": [
       "<matplotlib.image.AxesImage at 0x109f1fa50>"
      ]
     },
     "execution_count": 8,
     "metadata": {},
     "output_type": "execute_result"
    },
    {
     "data": {
      "image/png": "[encoded data removed]",
      "text/plain": [
       "<matplotlib.figure.Figure at 0x108d8c210>"
      ]
     },
     "metadata": {},
     "output_type": "display_data"
    }
   ],
   "source": [
    "plt.figure(figsize=(10,10))\n",
    "plt.imshow(gray_FPM)"
   ]
  },
  {
   "cell_type": "markdown",
   "metadata": {},
   "source": [
    "## Store the mask as FITS and ASCII arrays"
   ]
  },
  {
   "cell_type": "code",
   "execution_count": 9,
   "metadata": {
    "collapsed": false
   },
   "outputs": [
    {
     "name": "stdout",
     "output_type": "stream",
     "text": [
      "Wrote FPM ASCII array to /astro/opticslab1/SCDA/Apertures/InputMasks/FPM/FPM_quart_diaphragm_040M100_H095deg.dat\n",
      "Wrote FPM FITS array to /astro/opticslab1/SCDA/Apertures/InputMasks/FPM/FPM_quart_diaphragm_040M100_H095deg.fits\n"
     ]
    }
   ],
   "source": [
    "FPM_quart_fits_fname = os.path.join(FPM_dir, \"FPM_quart_diaphragm_{0:03d}M{1:03d}_{2:s}{3:03d}deg.fits\".format(\n",
    "                                        int(R_0),M,openorient,openang))\n",
    "FPM_quart_hdu = fits.PrimaryHDU(gray_FPM_quad)\n",
    "FPM_quart_hdu.writeto(FPM_quart_fits_fname, clobber=True)\n",
    "FPM_quart_dat_fname = FPM_quart_fits_fname[:-5] + \".dat\"\n",
    "np.savetxt(FPM_quart_dat_fname, gray_FPM_quad, fmt='%.6f', delimiter=\" \")\n",
    "print(\"Wrote FPM ASCII array to {0:s}\".format(FPM_quart_dat_fname))\n",
    "print(\"Wrote FPM FITS array to {0:s}\".format(FPM_quart_fits_fname))"
   ]
  },
  {
   "cell_type": "code",
   "execution_count": null,
   "metadata": {
    "collapsed": true
   },
   "outputs": [],
   "source": []
  }
 ],
 "metadata": {
  "kernelspec": {
   "display_name": "Python 2",
   "language": "python",
   "name": "python2"
  },
  "language_info": {
   "codemirror_mode": {
    "name": "ipython",
    "version": 2
   },
   "file_extension": ".py",
   "mimetype": "text/x-python",
   "name": "python",
   "nbconvert_exporter": "python",
   "pygments_lexer": "ipython2",
   "version": "2.7.5"
  }
 },
 "nbformat": 4,
 "nbformat_minor": 0
}

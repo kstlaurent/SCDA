{
 "cells": [
  {
   "cell_type": "code",
   "execution_count": 1,
   "metadata": {
    "collapsed": false
   },
   "outputs": [
    {
     "name": "stdout",
     "output_type": "stream",
     "text": [
      "Populating the interactive namespace from numpy and matplotlib\n"
     ]
    }
   ],
   "source": [
    "import numpy as np\n",
    "import skimage.transform\n",
    "import astropy.io.fits as fits\n",
    "import matplotlib.pyplot as plt\n",
    "import os\n",
    "%pylab inline --no-import-all\n",
    "matplotlib.rcParams['image.origin'] = 'lower'\n",
    "matplotlib.rcParams['image.interpolation'] = 'nearest' \n",
    "matplotlib.rcParams['image.cmap'] = 'gray'"
   ]
  },
  {
   "cell_type": "markdown",
   "metadata": {},
   "source": [
    "## Dictionary to map file keys from STScI to Krist"
   ]
  },
  {
   "cell_type": "code",
   "execution_count": 2,
   "metadata": {
    "collapsed": true
   },
   "outputs": [],
   "source": [
    "prim_key_map = {'hex1':'hex1', 'hex2':'hex2', 'hex3':'hex3', 'hex4':'hex4',\n",
    "                 'key24':'keystone24', 'pie08':'piewedge8', 'pie12':'piewedge12'}\n",
    "secobs_key_map = {'Cross':'cross', 'X':'x'}"
   ]
  },
  {
   "cell_type": "markdown",
   "metadata": {},
   "source": [
    "## set directory of telescope aperture and list contents"
   ]
  },
  {
   "cell_type": "code",
   "execution_count": 3,
   "metadata": {
    "collapsed": false,
    "scrolled": true
   },
   "outputs": [],
   "source": [
    "#telap_dir = os.path.abspath('../Apertures/JPL/offset_masks')\n",
    "telap_dir = os.path.normpath('/astro/opticslab1/SCDA/Apertures/JPL/offset_masks')\n",
    "#print telap_dir\n",
    "#print(\"Contents:\")\n",
    "#os.listdir(telap_dir)"
   ]
  },
  {
   "cell_type": "code",
   "execution_count": 4,
   "metadata": {
    "collapsed": false
   },
   "outputs": [
    {
     "name": "stdout",
     "output_type": "stream",
     "text": [
      "Destination /astro/opticslab1/SCDA/Apertures/InputMasks_v2/TelAp already exists\n"
     ]
    }
   ],
   "source": [
    "#new_telap_dir = os.path.abspath(\"../InputMasks/TelAp\")\n",
    "new_telap_dir = os.path.normpath(\"/astro/opticslab1/SCDA/Apertures/InputMasks_v2/TelAp\")\n",
    "if not os.path.exists(new_telap_dir):\n",
    "    os.mkdir(new_telap_dir)\n",
    "    print(\"created {:s} for binned aperture arrays\".format(new_telap_dir))\n",
    "else:\n",
    "    print(\"Destination {:s} already exists\".format(new_telap_dir))"
   ]
  },
  {
   "cell_type": "markdown",
   "metadata": {},
   "source": [
    "## Set basic parameters"
   ]
  },
  {
   "cell_type": "code",
   "execution_count": 5,
   "metadata": {
    "collapsed": true
   },
   "outputs": [],
   "source": [
    "overwrite = False\n",
    "prim_key = \"hex1\"\n",
    "secobs_key = \"X\"\n",
    "centobs = True\n",
    "D = 2000\n",
    "N = 250 # quadrant width after binning\n",
    "symm = 'quart' # set to either 'quart' or 'half'"
   ]
  },
  {
   "cell_type": "markdown",
   "metadata": {},
   "source": [
    "## Load an aperture and a secondary obstruction, plot the product"
   ]
  },
  {
   "cell_type": "code",
   "execution_count": 6,
   "metadata": {
    "collapsed": false
   },
   "outputs": [
    {
     "data": {
      "text/plain": [
       "<matplotlib.image.AxesImage at 0x10b746590>"
      ]
     },
     "execution_count": 6,
     "metadata": {},
     "output_type": "execute_result"
    },
    {
     "data": {
      "image/png": "[encoded data removed]",
      "text/plain": [
       "<matplotlib.figure.Figure at 0x109d97850>"
      ]
     },
     "metadata": {},
     "output_type": "display_data"
    }
   ],
   "source": [
    "if centobs is True:\n",
    "    prim_fname = os.path.join(telap_dir, \"{0:s}_{1:04d}pix_offset.fits\".format(prim_key_map[prim_key], D))\n",
    "    secobs_fname = os.path.join(telap_dir, \"{0:s}_spiders_{1:04d}pix_2.5cm_offset.fits\".format(\n",
    "                                            secobs_key_map[secobs_key], D))\n",
    "else:\n",
    "    prim_fname = os.path.join(telap_dir, \"{0:s}_{1:04d}pix_offset_no_central_obsc.fits\".format(prim_key_map[prim_key], D))\n",
    "    secobs_fname = os.path.join(telap_dir, \"{0:s}_spiders_{1:04d}pix_2.5cm_offset.fits\".format(\n",
    "                                            secobs_key_map[secobs_key], D))\n",
    "    \n",
    "prim_hdulist = fits.open(prim_fname, \"readonly\")\n",
    "prim = prim_hdulist[0].data\n",
    "prim_hdulist.close()\n",
    "secobs_hdulist = fits.open(secobs_fname, \"readonly\")\n",
    "secobs = secobs_hdulist[0].data\n",
    "secobs_hdulist.close()\n",
    "telap = prim*secobs\n",
    "plt.figure(figsize=(10,10))\n",
    "plt.imshow(telap)"
   ]
  },
  {
   "cell_type": "markdown",
   "metadata": {},
   "source": [
    "### Test the symmetry"
   ]
  },
  {
   "cell_type": "code",
   "execution_count": 7,
   "metadata": {
    "collapsed": false
   },
   "outputs": [
    {
     "name": "stdout",
     "output_type": "stream",
     "text": [
      "Max absolute left-right difference = 2.90754e-05\n",
      "Max absolute top-bottom difference = 6.04423e-05\n"
     ]
    }
   ],
   "source": [
    "L = telap.shape[0]\n",
    "telap_left = telap[:,:L/2] # left half\n",
    "telap_right = telap[:,L/2:] # right half\n",
    "telap_top = telap[L/2:,:] # left half\n",
    "telap_bot = telap[:L/2,:] # right half\n",
    "leftright_diff = telap_left - telap_right[:,::-1]\n",
    "topbot_diff = telap_top - telap_bot[::-1,:]\n",
    "max_abs_leftright_diff = np.max(np.abs(leftright_diff))\n",
    "max_abs_topbot_diff = np.max(np.abs(topbot_diff))\n",
    "print('Max absolute left-right difference = {:g}'.format(max_abs_leftright_diff))\n",
    "print('Max absolute top-bottom difference = {:g}'.format(max_abs_topbot_diff))"
   ]
  },
  {
   "cell_type": "code",
   "execution_count": 8,
   "metadata": {
    "collapsed": false
   },
   "outputs": [],
   "source": [
    "#plt.figure(figsize=(10,6))\n",
    "#plt.subplot(121)\n",
    "#plt.imshow(leftright_diff)\n",
    "#plt.colorbar()\n",
    "#plt.subplot(122)\n",
    "#plt.imshow(topbot_diff.T)\n",
    "#plt.colorbar()"
   ]
  },
  {
   "cell_type": "markdown",
   "metadata": {},
   "source": [
    "## Bin to abritrary integer size, crop"
   ]
  },
  {
   "cell_type": "code",
   "execution_count": 9,
   "metadata": {
    "collapsed": false
   },
   "outputs": [],
   "source": [
    "#N_orig = 1000 # not 1024\n",
    "#scalefac = float(N)/N_orig\n",
    "#telap_bin = scipy.ndimage.zoom(telap_obs, scalefac, order=1)\n",
    "#telap_bin = skimage.transform.rescale(telap_obs, scalefac, order=1)\n",
    "#L_bin = telap_bin.shape[0]"
   ]
  },
  {
   "cell_type": "code",
   "execution_count": 10,
   "metadata": {
    "collapsed": false
   },
   "outputs": [
    {
     "name": "stdout",
     "output_type": "stream",
     "text": [
      "Binning the original aperture array 4x\n"
     ]
    }
   ],
   "source": [
    "N_orig = D/2\n",
    "scalefac = int(N_orig/N)\n",
    "print(\"Binning the original aperture array {0:d}x\".format(scalefac))\n",
    "telap_bin = np.reshape(telap,(telap.shape[0]/scalefac, scalefac, \n",
    "                              telap.shape[1]/scalefac, scalefac)).mean(1).mean(2)\n",
    "L_bin = telap_bin.shape[0]"
   ]
  },
  {
   "cell_type": "code",
   "execution_count": 11,
   "metadata": {
    "collapsed": false
   },
   "outputs": [
    {
     "data": {
      "text/plain": [
       "(512, 512)"
      ]
     },
     "execution_count": 11,
     "metadata": {},
     "output_type": "execute_result"
    }
   ],
   "source": [
    "telap_bin.shape"
   ]
  },
  {
   "cell_type": "code",
   "execution_count": 12,
   "metadata": {
    "collapsed": false
   },
   "outputs": [
    {
     "name": "stdout",
     "output_type": "stream",
     "text": [
      "(250, 250)\n"
     ]
    }
   ],
   "source": [
    "if symm is 'half':\n",
    "    telap_bin_crop = telap_bin[L_bin/2-N:L_bin/2+N, L_bin/2:L_bin/2+N]\n",
    "    print telap_bin_crop.shape\n",
    "else:\n",
    "    telap_bin_crop = telap_bin[L_bin/2:L_bin/2+N, L_bin/2:L_bin/2+N]\n",
    "    print telap_bin_crop.shape\n",
    "    # Check max value of outer row and outer column\n",
    "    #print np.max(telap_binquad[-1,:])\n",
    "    #print np.max(telap_binquad[:,-1])"
   ]
  },
  {
   "cell_type": "code",
   "execution_count": 13,
   "metadata": {
    "collapsed": false
   },
   "outputs": [
    {
     "data": {
      "text/plain": [
       "(-0.5, 249.5, -0.5, 249.5)"
      ]
     },
     "execution_count": 13,
     "metadata": {},
     "output_type": "execute_result"
    },
    {
     "data": {
      "image/png": "[encoded data removed]",
      "text/plain": [
       "<matplotlib.figure.Figure at 0x10b7635d0>"
      ]
     },
     "metadata": {},
     "output_type": "display_data"
    }
   ],
   "source": [
    "if symm is 'half':\n",
    "    plt.figure(figsize=(16,32))\n",
    "    plt.imshow(telap_bin_crop)\n",
    "else:\n",
    "    plt.figure(figsize=(16,16))\n",
    "    plt.imshow(telap_bin_crop)\n",
    "    #plt.imshow(np.floor(telap_binquad))\n",
    "    #plt.imshow(telap_binquad.astype(int))\n",
    "plt.axis('off')"
   ]
  },
  {
   "cell_type": "markdown",
   "metadata": {},
   "source": [
    "### Form new FITS filename and write"
   ]
  },
  {
   "cell_type": "code",
   "execution_count": 14,
   "metadata": {
    "collapsed": false
   },
   "outputs": [],
   "source": [
    "if symm is 'half':\n",
    "    if centobs is True:\n",
    "        telap_bin_dat_fname_tail = \"TelAp_half_{0:s}{1:s}025cobs1_N{2:04d}.dat\".format(prim_key, secobs_key, N)\n",
    "        telap_bin_dat_fname = os.path.join(new_telap_dir, telap_bin_dat_fname_tail)\n",
    "    else:\n",
    "        telap_bin_dat_fname_tail = \"TelAp_half_{0:s}{1:s}025cobs0_N{2:04d}.dat\".format(prim_key, secobs_key, N)\n",
    "        telap_bin_dat_fname = os.path.join(new_telap_dir, telap_bin_dat_fname_tail)\n",
    "else:\n",
    "    if centobs is True:\n",
    "        telap_bin_dat_fname_tail = \"TelAp_quart_{0:s}{1:s}025cobs1_N{2:04d}.dat\".format(prim_key, secobs_key, N)\n",
    "        telap_bin_dat_fname = os.path.join(new_telap_dir, telap_bin_dat_fname_tail)\n",
    "    else:\n",
    "        telap_bin_dat_fname_tail = \"TelAp_quart_{0:s}{1:s}025cobs0_N{2:04d}.dat\".format(prim_key, secobs_key, N)\n",
    "        telap_bin_dat_fname = os.path.join(new_telap_dir, telap_bin_dat_fname_tail)\n",
    "\n",
    "#telap_binquad_fits_fname_tail = \"TelAp_quart_{0:s}_{1:s}025sm1_N{2:04d}.fits\".format(telap_key, secobs_key, N)\n",
    "#telap_binquad_fits_fname = os.path.join(binned_telap_dir, telap_binquad_fits_fname_tail)"
   ]
  },
  {
   "cell_type": "code",
   "execution_count": 15,
   "metadata": {
    "collapsed": false
   },
   "outputs": [],
   "source": [
    "#telap_binquad_hdu = fits.PrimaryHDU(telap_binquad)\n",
    "#telap_binquad_hdu.writeto(telap_binquad_fits_fname, clobber=True)"
   ]
  },
  {
   "cell_type": "code",
   "execution_count": 16,
   "metadata": {
    "collapsed": false
   },
   "outputs": [
    {
     "name": "stdout",
     "output_type": "stream",
     "text": [
      "Telescope aperture array /astro/opticslab1/SCDA/Apertures/InputMasks_v2/TelAp/TelAp_quart_hex1X025cobs1_N0250.dat already exists, will not overwrite\n"
     ]
    }
   ],
   "source": [
    "if not os.path.exists(telap_bin_dat_fname) or overwrite is True:\n",
    "    np.savetxt(telap_bin_dat_fname, telap_bin_crop, fmt='%.6f', delimiter=\" \")\n",
    "    print(\"Wrote binned, cropped telescope aperture array to {0:s}\".format(telap_bin_dat_fname))\n",
    "else:\n",
    "    print(\"Telescope aperture array {0:s} already exists, will not overwrite\".format(telap_bin_dat_fname))"
   ]
  },
  {
   "cell_type": "code",
   "execution_count": 17,
   "metadata": {
    "collapsed": false
   },
   "outputs": [],
   "source": [
    "#if os.path.exists(telap_bin_dat_fname): os.remove(telap_bin_dat_fname)"
   ]
  },
  {
   "cell_type": "code",
   "execution_count": 18,
   "metadata": {
    "collapsed": false
   },
   "outputs": [
    {
     "data": {
      "text/plain": [
       "['TelAp_half_hex3X025cobs1_N0125.dat',\n",
       " 'TelAp_quart_hex3X025cobs1_N0125.dat',\n",
       " 'TelAp_quart_hex1X025cobs1_N0125.dat',\n",
       " 'TelAp_quart_hex1X025cobs1_N0250.dat']"
      ]
     },
     "execution_count": 18,
     "metadata": {},
     "output_type": "execute_result"
    }
   ],
   "source": [
    "os.listdir(new_telap_dir)"
   ]
  },
  {
   "cell_type": "code",
   "execution_count": 19,
   "metadata": {
    "collapsed": true
   },
   "outputs": [],
   "source": [
    "#telap_load = np.loadtxt(telap_binquad_dat_fname)\n",
    "#plt.figure(figsize=(16,16))\n",
    "#plt.imshow(np.floor(telap_load))"
   ]
  }
 ],
 "metadata": {
  "kernelspec": {
   "display_name": "Python 2",
   "language": "python",
   "name": "python2"
  },
  "language_info": {
   "codemirror_mode": {
    "name": "ipython",
    "version": 2
   },
   "file_extension": ".py",
   "mimetype": "text/x-python",
   "name": "python",
   "nbconvert_exporter": "python",
   "pygments_lexer": "ipython2",
   "version": "2.7.5"
  }
 },
 "nbformat": 4,
 "nbformat_minor": 0
}

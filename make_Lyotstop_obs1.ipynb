{
 "cells": [
  {
   "cell_type": "code",
   "execution_count": 1,
   "metadata": {
    "collapsed": false
   },
   "outputs": [
    {
     "name": "stdout",
     "output_type": "stream",
     "text": [
      "Populating the interactive namespace from numpy and matplotlib\n"
     ]
    }
   ],
   "source": [
    "import numpy as np\n",
    "#import skimage.transform\n",
    "import astropy.io.fits as fits\n",
    "import matplotlib.pyplot as plt\n",
    "import os\n",
    "%pylab inline --no-import-all\n",
    "matplotlib.rcParams['image.origin'] = 'lower'\n",
    "matplotlib.rcParams['image.interpolation'] = 'nearest' \n",
    "matplotlib.rcParams['image.cmap'] = 'gray'"
   ]
  },
  {
   "cell_type": "markdown",
   "metadata": {},
   "source": [
    "## Dictionary to map file keys from STScI to Krist"
   ]
  },
  {
   "cell_type": "code",
   "execution_count": 2,
   "metadata": {
    "collapsed": true
   },
   "outputs": [],
   "source": [
    "telap_key_map = {'hex1':'hex1', 'hex2':'hex2', 'hex3':'hex3', 'hex4':'hex4',\n",
    "                 'key24':'keystone24', 'pie08':'piewedge8', 'pie12':'piewedge12'}\n",
    "secobs_key_map = {'Cross':'cross', 'X':'x'}"
   ]
  },
  {
   "cell_type": "markdown",
   "metadata": {},
   "source": [
    "## Set basic parameters"
   ]
  },
  {
   "cell_type": "code",
   "execution_count": 336,
   "metadata": {
    "collapsed": true
   },
   "outputs": [],
   "source": [
    "overwrite = False\n",
    "N = 250 # pupil array quadrant width after binning\n",
    "iD = 30\n",
    "oD = 76\n",
    "aligntol = 2 # units of thousandths of pupil diameter\n",
    "pad = 0 # units of thousandths of pupil diameter\n",
    "L = 1000 # starting array width\n",
    "D = 1000 # starting pupil diameter\n",
    "symm = 'quart' # set to either 'quart' or 'half'\n",
    "shape = 'ann' # set to 'ann' or 'hex'\n",
    "edge = 'round' # set to 'gray' or 'round'\n",
    "secobs_key = \"X\""
   ]
  },
  {
   "cell_type": "code",
   "execution_count": 337,
   "metadata": {
    "collapsed": false
   },
   "outputs": [
    {
     "name": "stdout",
     "output_type": "stream",
     "text": [
      "Destination /astro/opticslab1/SCDA/Apertures/InputMasks/LS already exists\n"
     ]
    }
   ],
   "source": [
    "#LS_dir = os.path.abspath(\"../InputMasks/LS\")\n",
    "LS_dir = os.path.abspath(\"/astro/opticslab1/SCDA/Apertures/InputMasks/LS\")\n",
    "if not os.path.exists(LS_dir):\n",
    "    os.mkdir(LS_dir)\n",
    "    print(\"created {:s} for LS arrays\".format(LS_dir))\n",
    "else:\n",
    "    print(\"Destination {:s} already exists\".format(LS_dir))"
   ]
  },
  {
   "cell_type": "markdown",
   "metadata": {},
   "source": [
    "## Load secondary obscuration"
   ]
  },
  {
   "cell_type": "code",
   "execution_count": 338,
   "metadata": {
    "collapsed": false
   },
   "outputs": [],
   "source": [
    "#telap_dir = os.path.abspath('../Apertures/JPL/offset_masks')\n",
    "telap_dir = os.path.abspath('/astro/opticslab1/SCDA/Apertures/JPL/offset_masks')\n",
    "\n",
    "secobs_fname = os.path.join(telap_dir, \"{0:s}_spiders_{1:04d}pix_2.5cm_offset.fits\".format(\n",
    "                            secobs_key_map[secobs_key], D))\n",
    "\n",
    "secobs_hdulist = fits.open(secobs_fname, \"readonly\")\n",
    "secobs = secobs_hdulist[0].data\n",
    "secobs_hdulist.close()"
   ]
  },
  {
   "cell_type": "code",
   "execution_count": 339,
   "metadata": {
    "collapsed": false
   },
   "outputs": [
    {
     "data": {
      "text/plain": [
       "<matplotlib.image.AxesImage at 0x145e6c510>"
      ]
     },
     "execution_count": 339,
     "metadata": {},
     "output_type": "execute_result"
    },
    {
     "data": {
      "image/png": "[encoded data removed]",
      "text/plain": [
       "<matplotlib.figure.Figure at 0x145647b50>"
      ]
     },
     "metadata": {},
     "output_type": "display_data"
    }
   ],
   "source": [
    "plt.figure(figsize=(10,10))\n",
    "plt.imshow(secobs)"
   ]
  },
  {
   "cell_type": "markdown",
   "metadata": {},
   "source": [
    "## Pad the secondary obscuration"
   ]
  },
  {
   "cell_type": "code",
   "execution_count": 340,
   "metadata": {
    "collapsed": false
   },
   "outputs": [
    {
     "data": {
      "text/plain": [
       "1"
      ]
     },
     "execution_count": 340,
     "metadata": {},
     "output_type": "execute_result"
    }
   ],
   "source": [
    "max_shift = int(round(D*float(pad)/1000))\n",
    "shift_range = range(-max_shift,max_shift+1,1)\n",
    "[Xshifts, Yshifts] = np.meshgrid(shift_range, shift_range)\n",
    "allowed_shifts = np.less_equal(Xshifts**2 + Yshifts**2, max_shift**2)\n",
    "XYshifts_allowed = zip(Xshifts[allowed_shifts], Yshifts[allowed_shifts])\n",
    "len(XYshifts_allowed)"
   ]
  },
  {
   "cell_type": "code",
   "execution_count": 341,
   "metadata": {
    "collapsed": false
   },
   "outputs": [],
   "source": [
    "padded_secobs_accum = np.ones(secobs.shape)\n",
    "for (xshift,yshift) in XYshifts_allowed:\n",
    "    secobs_shifted = np.roll(np.roll(secobs, yshift, 0), xshift, 1) \n",
    "    padded_secobs_accum *= secobs_shifted"
   ]
  },
  {
   "cell_type": "code",
   "execution_count": 342,
   "metadata": {
    "collapsed": false
   },
   "outputs": [],
   "source": [
    "#plt.figure(figsize=(10,10))\n",
    "#plt.imshow(padded_secobs_accum)"
   ]
  },
  {
   "cell_type": "markdown",
   "metadata": {},
   "source": [
    "## Combine with annular stop"
   ]
  },
  {
   "cell_type": "code",
   "execution_count": 343,
   "metadata": {
    "collapsed": false
   },
   "outputs": [],
   "source": [
    "L = secobs.shape[0]\n",
    "inD = float(iD)/100\n",
    "outD = float(oD)/100\n",
    "xs = np.linspace(-L/2 + 0.5, L/2 - 0.5, L)\n",
    "[Xs, Ys] = np.meshgrid(xs, xs)\n",
    "inside_ann = np.less_equal(Xs**2 + Ys**2, (inD*D/2)**2)\n",
    "outside_ann = np.greater_equal(Xs**2 + Ys**2, (outD*D/2)**2)\n",
    "Lyot_stop = np.round(padded_secobs_accum)\n",
    "Lyot_stop[inside_ann] = 0.\n",
    "Lyot_stop[outside_ann] = 0."
   ]
  },
  {
   "cell_type": "code",
   "execution_count": 344,
   "metadata": {
    "collapsed": false
   },
   "outputs": [
    {
     "data": {
      "text/plain": [
       "<matplotlib.image.AxesImage at 0x14636e390>"
      ]
     },
     "execution_count": 344,
     "metadata": {},
     "output_type": "execute_result"
    },
    {
     "data": {
      "image/png": "[encoded data removed]",
      "text/plain": [
       "<matplotlib.figure.Figure at 0x145f0c690>"
      ]
     },
     "metadata": {},
     "output_type": "display_data"
    }
   ],
   "source": [
    "plt.figure(figsize=(12,12))\n",
    "plt.imshow(Lyot_stop)"
   ]
  },
  {
   "cell_type": "markdown",
   "metadata": {},
   "source": [
    "## Bin to final array resolution, crop"
   ]
  },
  {
   "cell_type": "code",
   "execution_count": 345,
   "metadata": {
    "collapsed": false
   },
   "outputs": [],
   "source": [
    "#scalefac = float(N)/(D/2)\n",
    "#Lyot_stop_binned = skimage.transform.rescale(Lyot_stop, scalefac, order=1)"
   ]
  },
  {
   "cell_type": "code",
   "execution_count": 346,
   "metadata": {
    "collapsed": false
   },
   "outputs": [
    {
     "name": "stdout",
     "output_type": "stream",
     "text": [
      "Binning the original aperture array 2x\n"
     ]
    }
   ],
   "source": [
    "N_orig = D/2\n",
    "scalefac = int(N_orig/N)\n",
    "print(\"Binning the original aperture array {0:d}x\".format(scalefac))\n",
    "Lyot_stop_binned = np.reshape(Lyot_stop, (Lyot_stop.shape[0]/scalefac, scalefac, \n",
    "                                          Lyot_stop.shape[1]/scalefac, scalefac)).mean(1).mean(2)"
   ]
  },
  {
   "cell_type": "code",
   "execution_count": 347,
   "metadata": {
    "collapsed": false
   },
   "outputs": [
    {
     "name": "stdout",
     "output_type": "stream",
     "text": [
      "(250, 250)\n"
     ]
    }
   ],
   "source": [
    "L_bin = Lyot_stop_binned.shape[0]\n",
    "if symm is 'half':\n",
    "    Lyot_stop_binned_crop = Lyot_stop_binned[L_bin/2-N:L_bin/2+N,L_bin/2:L_bin/2+N]\n",
    "    Lyot_stop_binned_crop_binary = np.round(Lyot_stop_binned_crop).astype(int)\n",
    "    print Lyot_stop_binned_crop.shape\n",
    "else:\n",
    "    Lyot_stop_binned_crop = Lyot_stop_binned[L_bin/2:L_bin/2+N,L_bin/2:L_bin/2+N]\n",
    "    Lyot_stop_binned_crop_binary = np.round(Lyot_stop_binned_crop).astype(int)\n",
    "    print Lyot_stop_binned_crop.shape"
   ]
  },
  {
   "cell_type": "code",
   "execution_count": 348,
   "metadata": {
    "collapsed": false
   },
   "outputs": [
    {
     "data": {
      "text/plain": [
       "<matplotlib.image.AxesImage at 0x1463a3a90>"
      ]
     },
     "execution_count": 348,
     "metadata": {},
     "output_type": "execute_result"
    },
    {
     "data": {
      "image/png": "[encoded data removed]",
      "text/plain": [
       "<matplotlib.figure.Figure at 0x145f02950>"
      ]
     },
     "metadata": {},
     "output_type": "display_data"
    }
   ],
   "source": [
    "plt.figure(figsize=(10,10))\n",
    "plt.imshow(Lyot_stop_binned_crop_binary)\n",
    "#plt.imshow(np.floor(Lyot_stop_binned_quad))"
   ]
  },
  {
   "cell_type": "markdown",
   "metadata": {},
   "source": [
    "## Write the binned, cropped Lyot stop to a dat (ASCII) file "
   ]
  },
  {
   "cell_type": "code",
   "execution_count": 349,
   "metadata": {
    "collapsed": false
   },
   "outputs": [
    {
     "name": "stdout",
     "output_type": "stream",
     "text": [
      "Wrote binned, cropped LS array to /astro/opticslab1/SCDA/Apertures/InputMasks/LS/LS_quart_ann30D76_X025Pad00_N0250.dat\n"
     ]
    }
   ],
   "source": [
    "if symm is 'half':\n",
    "    LS_quart_dat_fname_tail = \"LS_half_ann{0:02d}D{1:02d}_{2:s}025Pad{3:02d}_N{4:04d}.dat\".format(\n",
    "                               int(round(100*inD)), int(round(100*outD)), secobs_key, pad, N)\n",
    "else:\n",
    "    LS_quart_dat_fname_tail = \"LS_quart_ann{0:02d}D{1:02d}_{2:s}025Pad{3:02d}_N{4:04d}.dat\".format(\n",
    "                               int(round(100*inD)), int(round(100*outD)), secobs_key, pad, N)\n",
    "    \n",
    "LS_quart_dat_fname = os.path.join(LS_dir, LS_quart_dat_fname_tail)\n",
    "#np.savetxt(LS_quart_dat_fname, Lyot_stop_binned_quad, fmt='%.6f', delimiter=\" \")\n",
    "np.savetxt(LS_quart_dat_fname, Lyot_stop_binned_crop_binary, fmt='%d', delimiter=\" \")\n",
    "print(\"Wrote binned, cropped LS array to {0:s}\".format(LS_quart_dat_fname))"
   ]
  },
  {
   "cell_type": "code",
   "execution_count": 350,
   "metadata": {
    "collapsed": false
   },
   "outputs": [
    {
     "data": {
      "text/plain": [
       "['LS_quart_ann20D99_clear_N0250.dat',\n",
       " 'LS_quart_ann25D90_clear_N0250.dat',\n",
       " 'LS_quart_ann15D90_clear_N0250.dat',\n",
       " 'LS_quart_ann25D99_clear_N0250.dat',\n",
       " 'LS_quart_ann15D99_clear_N0250.dat',\n",
       " 'LS_half_ann25D81_clear_N0250.dat',\n",
       " 'LDZ_half_ann25D81_clear_Tol02_N0250.dat',\n",
       " 'LDZ_quart_ann25D81_clear_Tol02_N0250.dat',\n",
       " 'LS_quart_ann25D81_X025Pad00_N0250.dat',\n",
       " 'LS_quart_ann25D81_X025Pad05_N0250.dat',\n",
       " 'LDZ_quart_ann25D81_X025Pad00_Tol02_N0250.dat',\n",
       " 'LS_quart_ann25D82_X025Pad00_N0250.dat',\n",
       " 'LS_quart_ann25D82_clear_N0250.dat',\n",
       " 'LS_quart_ann25D98_clear_N0250.dat',\n",
       " 'LS_quart_ann20D90_clear_N0250.dat',\n",
       " 'LS_quart_ann20D81_clear_N0250.dat',\n",
       " 'LS_quart_ann20D82_clear_N0250.dat',\n",
       " 'LS_quart_ann25D81_clear_N0250.dat',\n",
       " 'LS_quart_ann20D98_clear_N0250.dat',\n",
       " 'LS_quart_ann20D76_clear_N0250.dat',\n",
       " 'LS_quart_ann15D98_clear_N0250.dat',\n",
       " 'LS_quart_ann15D82_clear_N0250.dat',\n",
       " 'LS_quart_ann15D81_clear_N0250.dat',\n",
       " 'LS_quart_ann15D76_clear_N0250.dat',\n",
       " 'LS_quart_ann25D76_clear_N0250.dat',\n",
       " 'LDZ_quart_ann25D82_X025Pad00_Tol02_N0250.dat',\n",
       " 'LS_quart_ann25D76_X025Pad00_N0250.dat',\n",
       " 'LDZ_quart_ann25D76_X025Pad00_Tol02_N0250.dat',\n",
       " 'LS_quart_ann25D90_X025Pad00_N0250.dat',\n",
       " 'LDZ_quart_ann25D90_X025Pad00_Tol02_N0250.dat',\n",
       " 'LS_quart_ann20D90_X025Pad00_N0250.dat',\n",
       " 'LDZ_quart_ann20D90_X025Pad00_Tol02_N0250.dat',\n",
       " 'LS_quart_ann30D90_X025Pad00_N0250.dat',\n",
       " 'LDZ_quart_ann30D90_X025Pad00_Tol02_N0250.dat',\n",
       " 'LS_quart_ann30D81_X025Pad00_N0250.dat',\n",
       " 'LDZ_quart_ann30D81_X025Pad00_Tol02_N0250.dat',\n",
       " 'LS_quart_ann20D81_X025Pad00_N0250.dat',\n",
       " 'LDZ_quart_ann20D81_X025Pad00_Tol02_N0250.dat',\n",
       " 'LS_quart_ann20D76_X025Pad00_N0250.dat',\n",
       " 'LDZ_quart_ann20D76_X025Pad00_Tol02_N0250.dat',\n",
       " 'LS_quart_ann20D82_X025Pad00_N0250.dat',\n",
       " 'LDZ_quart_ann20D82_X025Pad00_Tol02_N0250.dat',\n",
       " 'LS_quart_ann30D82_X025Pad00_N0250.dat',\n",
       " 'LDZ_quart_ann30D82_X025Pad00_Tol02_N0250.dat',\n",
       " 'LS_quart_ann30D76_X025Pad00_N0250.dat']"
      ]
     },
     "execution_count": 350,
     "metadata": {},
     "output_type": "execute_result"
    }
   ],
   "source": [
    "os.listdir(LS_dir)"
   ]
  },
  {
   "cell_type": "markdown",
   "metadata": {},
   "source": [
    "# Define Lyot plane dark zone"
   ]
  },
  {
   "cell_type": "code",
   "execution_count": 351,
   "metadata": {
    "collapsed": false
   },
   "outputs": [
    {
     "name": "stdout",
     "output_type": "stream",
     "text": [
      "Lyot plane dark zone width in binned array: +/- 1 pixels\n"
     ]
    }
   ],
   "source": [
    "orig_LS = np.round(Lyot_stop_binned[L_bin/2-N:L_bin/2+N,L_bin/2-N:L_bin/2+N]).astype(int)\n",
    "dz_width_fac = float(aligntol)/1000              # dark zone is +/- this fraction of pupil diameter\n",
    "dz_width = np.ceil(2*N*dz_width_fac).astype(int) # dark zone is +/- this number of pixels in binned pupil array\n",
    "print(\"Lyot plane dark zone width in binned array: +/- {:d} pixels\".format(dz_width))"
   ]
  },
  {
   "cell_type": "code",
   "execution_count": 352,
   "metadata": {
    "collapsed": true
   },
   "outputs": [],
   "source": [
    "max_shift = dz_width\n",
    "shift_range = range(-max_shift,max_shift+1,1)\n",
    "[Xshifts, Yshifts] = np.meshgrid(shift_range, shift_range)\n",
    "allowed_shifts = np.less_equal(Xshifts**2 + Yshifts**2, max_shift**2)"
   ]
  },
  {
   "cell_type": "code",
   "execution_count": 353,
   "metadata": {
    "collapsed": false
   },
   "outputs": [
    {
     "data": {
      "text/plain": [
       "array([[False,  True, False],\n",
       "       [ True,  True,  True],\n",
       "       [False,  True, False]], dtype=bool)"
      ]
     },
     "execution_count": 353,
     "metadata": {},
     "output_type": "execute_result"
    }
   ],
   "source": [
    "allowed_shifts"
   ]
  },
  {
   "cell_type": "code",
   "execution_count": 354,
   "metadata": {
    "collapsed": false
   },
   "outputs": [
    {
     "data": {
      "text/plain": [
       "5"
      ]
     },
     "execution_count": 354,
     "metadata": {},
     "output_type": "execute_result"
    }
   ],
   "source": [
    "XYshifts_allowed = zip(Xshifts[allowed_shifts], Yshifts[allowed_shifts])\n",
    "len(XYshifts_allowed)"
   ]
  },
  {
   "cell_type": "code",
   "execution_count": 355,
   "metadata": {
    "collapsed": true
   },
   "outputs": [],
   "source": [
    "fat_LS = np.ones(orig_LS.shape)\n",
    "for (xshift,yshift) in XYshifts_allowed:\n",
    "    LS_shifted = np.roll(np.roll(orig_LS, yshift, 0), xshift, 1)\n",
    "    fat_LS *= LS_shifted\n",
    "\n",
    "inv_thin_LS = np.ones(orig_LS.shape)\n",
    "for (xshift,yshift) in XYshifts_allowed:\n",
    "    inv_LS_shifted = 1-np.roll(np.roll(orig_LS, yshift, 0), xshift, 1)\n",
    "    inv_thin_LS *= inv_LS_shifted\n",
    "thin_LS = 1-inv_thin_LS"
   ]
  },
  {
   "cell_type": "code",
   "execution_count": 356,
   "metadata": {
    "collapsed": true
   },
   "outputs": [],
   "source": [
    "Lyot_dz = np.logical_xor(thin_LS, fat_LS)\n",
    "L = Lyot_dz.shape[0]\n",
    "\n",
    "if symm is 'half':\n",
    "    Lyot_dz_crop = Lyot_dz[:,N:]\n",
    "else:\n",
    "    Lyot_dz_crop = Lyot_dz[N:,N:]"
   ]
  },
  {
   "cell_type": "code",
   "execution_count": 357,
   "metadata": {
    "collapsed": false
   },
   "outputs": [
    {
     "data": {
      "text/plain": [
       "<matplotlib.image.AxesImage at 0x14725fb50>"
      ]
     },
     "execution_count": 357,
     "metadata": {},
     "output_type": "execute_result"
    },
    {
     "data": {
      "image/png": "[encoded data removed]",
      "text/plain": [
       "<matplotlib.figure.Figure at 0x14723a410>"
      ]
     },
     "metadata": {},
     "output_type": "display_data"
    }
   ],
   "source": [
    "plt.figure(figsize=(16,16))\n",
    "plt.imshow(Lyot_dz)"
   ]
  },
  {
   "cell_type": "markdown",
   "metadata": {},
   "source": [
    "## Alignment tolerance check"
   ]
  },
  {
   "cell_type": "code",
   "execution_count": 358,
   "metadata": {
    "collapsed": false
   },
   "outputs": [
    {
     "name": "stdout",
     "output_type": "stream",
     "text": [
      "The LDZ accomomdates a translation +/-0.2% of D=500 pixels = +/-1.00 pixels, up to +/-1 whole pixels\n",
      "Testing an (x,y) translation of (1, 0) pixels. Within the design tolerance? True\n",
      "LDZ encompasses the LS transmission error region and does not overlap with tel pupil obscurations? True\n",
      "Total unconstrained \"leak\" area after translation = 0 pixels\n"
     ]
    }
   ],
   "source": [
    "max_shift_tol = 2*N*dz_width_fac\n",
    "max_shift_tol_int = int(np.round(max_shift_tol))\n",
    "test_shift = (max_shift_tol_int,0)\n",
    "print(\"The LDZ accomomdates a translation +/-{0:.1f}% of D={1:d} pixels = +/-{2:.2f} pixels, up to +/-{3:d} whole pixels\".format(\n",
    "      float(aligntol)/10, 2*N, max_shift_tol, max_shift_tol_int))\n",
    "print(\"Testing an (x,y) translation of {0:} pixels. Within the design tolerance? {1:}\".format(\n",
    "      test_shift, test_shift[0]**2 + test_shift[1]**2 <= max_shift_tol))\n",
    "shift_LS = np.roll(np.roll(orig_LS, test_shift[0], axis=1), test_shift[1], axis=0)\n",
    "LS_err_mask = np.ceil(np.abs(shift_LS - orig_LS)).astype(bool)\n",
    "\n",
    "LDZ_valid = ~np.any(np.logical_and(LS_err_mask, ~Lyot_dz))\n",
    "print(\"LDZ encompasses the LS transmission error region and does not overlap with tel pupil obscurations? {0:}\".format(LDZ_valid))\n",
    "\n",
    "print(\"Total unconstrained \\\"leak\\\" area after translation = {0:d} pixels\".format(\n",
    "      int(np.sum(np.logical_and(LS_err_mask, ~Lyot_dz)))))"
   ]
  },
  {
   "cell_type": "markdown",
   "metadata": {},
   "source": [
    "## Write the Lyot dark zone file"
   ]
  },
  {
   "cell_type": "code",
   "execution_count": 359,
   "metadata": {
    "collapsed": false
   },
   "outputs": [
    {
     "name": "stdout",
     "output_type": "stream",
     "text": [
      "Wrote binned, cropped LDZ array to /astro/opticslab1/SCDA/Apertures/InputMasks/LS/LDZ_quart_ann30D76_X025Pad00_Tol02_N0250.dat\n"
     ]
    }
   ],
   "source": [
    "if aligntol > 0 and LDZ_valid:\n",
    "    if symm is 'half':\n",
    "        LDZ_dat_fname_tail = \"LDZ_half_{0:s}{1:02d}D{2:02d}_{3:s}025Pad{4:02d}_Tol{5:02d}_N{6:04d}.dat\".format(\n",
    "                              shape, int(round(100*inD)), int(round(100*outD)), secobs_key, pad, aligntol, N)\n",
    "    else:\n",
    "        LDZ_dat_fname_tail = \"LDZ_quart_{0:s}{1:02d}D{2:02d}_{3:s}025Pad{4:02d}_Tol{5:02d}_N{6:04d}.dat\".format(\n",
    "                              shape, int(round(100*inD)), int(round(100*outD)), secobs_key, pad, aligntol, N)\n",
    "\n",
    "    LDZ_dat_fname = os.path.join(LS_dir, LDZ_dat_fname_tail)\n",
    "    \n",
    "    if not os.path.exists(LDZ_dat_fname) or overwrite==True:\n",
    "        np.savetxt(LDZ_dat_fname, Lyot_dz_crop, fmt='%d', delimiter=\" \")\n",
    "        print(\"Wrote binned, cropped LDZ array to {0:s}\".format(LDZ_dat_fname))\n",
    "    else:\n",
    "        print(\"LDZ array {0:s} already exists, will not overwrite\".format(LDZ_dat_fname))"
   ]
  },
  {
   "cell_type": "code",
   "execution_count": 360,
   "metadata": {
    "collapsed": false
   },
   "outputs": [
    {
     "data": {
      "text/plain": [
       "['LS_quart_ann20D99_clear_N0250.dat',\n",
       " 'LS_quart_ann25D90_clear_N0250.dat',\n",
       " 'LS_quart_ann15D90_clear_N0250.dat',\n",
       " 'LS_quart_ann25D99_clear_N0250.dat',\n",
       " 'LS_quart_ann15D99_clear_N0250.dat',\n",
       " 'LS_half_ann25D81_clear_N0250.dat',\n",
       " 'LDZ_half_ann25D81_clear_Tol02_N0250.dat',\n",
       " 'LDZ_quart_ann25D81_clear_Tol02_N0250.dat',\n",
       " 'LS_quart_ann25D81_X025Pad00_N0250.dat',\n",
       " 'LS_quart_ann25D81_X025Pad05_N0250.dat',\n",
       " 'LDZ_quart_ann25D81_X025Pad00_Tol02_N0250.dat',\n",
       " 'LS_quart_ann25D82_X025Pad00_N0250.dat',\n",
       " 'LS_quart_ann25D82_clear_N0250.dat',\n",
       " 'LS_quart_ann25D98_clear_N0250.dat',\n",
       " 'LS_quart_ann20D90_clear_N0250.dat',\n",
       " 'LS_quart_ann20D81_clear_N0250.dat',\n",
       " 'LS_quart_ann20D82_clear_N0250.dat',\n",
       " 'LS_quart_ann25D81_clear_N0250.dat',\n",
       " 'LS_quart_ann20D98_clear_N0250.dat',\n",
       " 'LS_quart_ann20D76_clear_N0250.dat',\n",
       " 'LS_quart_ann15D98_clear_N0250.dat',\n",
       " 'LS_quart_ann15D82_clear_N0250.dat',\n",
       " 'LS_quart_ann15D81_clear_N0250.dat',\n",
       " 'LS_quart_ann15D76_clear_N0250.dat',\n",
       " 'LS_quart_ann25D76_clear_N0250.dat',\n",
       " 'LDZ_quart_ann25D82_X025Pad00_Tol02_N0250.dat',\n",
       " 'LS_quart_ann25D76_X025Pad00_N0250.dat',\n",
       " 'LDZ_quart_ann25D76_X025Pad00_Tol02_N0250.dat',\n",
       " 'LS_quart_ann25D90_X025Pad00_N0250.dat',\n",
       " 'LDZ_quart_ann25D90_X025Pad00_Tol02_N0250.dat',\n",
       " 'LS_quart_ann20D90_X025Pad00_N0250.dat',\n",
       " 'LDZ_quart_ann20D90_X025Pad00_Tol02_N0250.dat',\n",
       " 'LS_quart_ann30D90_X025Pad00_N0250.dat',\n",
       " 'LDZ_quart_ann30D90_X025Pad00_Tol02_N0250.dat',\n",
       " 'LS_quart_ann30D81_X025Pad00_N0250.dat',\n",
       " 'LDZ_quart_ann30D81_X025Pad00_Tol02_N0250.dat',\n",
       " 'LS_quart_ann20D81_X025Pad00_N0250.dat',\n",
       " 'LDZ_quart_ann20D81_X025Pad00_Tol02_N0250.dat',\n",
       " 'LS_quart_ann20D76_X025Pad00_N0250.dat',\n",
       " 'LDZ_quart_ann20D76_X025Pad00_Tol02_N0250.dat',\n",
       " 'LS_quart_ann20D82_X025Pad00_N0250.dat',\n",
       " 'LDZ_quart_ann20D82_X025Pad00_Tol02_N0250.dat',\n",
       " 'LS_quart_ann30D82_X025Pad00_N0250.dat',\n",
       " 'LDZ_quart_ann30D82_X025Pad00_Tol02_N0250.dat',\n",
       " 'LS_quart_ann30D76_X025Pad00_N0250.dat',\n",
       " 'LDZ_quart_ann30D76_X025Pad00_Tol02_N0250.dat']"
      ]
     },
     "execution_count": 360,
     "metadata": {},
     "output_type": "execute_result"
    }
   ],
   "source": [
    "os.listdir(LS_dir)"
   ]
  },
  {
   "cell_type": "code",
   "execution_count": null,
   "metadata": {
    "collapsed": true
   },
   "outputs": [],
   "source": []
  }
 ],
 "metadata": {
  "kernelspec": {
   "display_name": "Python 2",
   "language": "python",
   "name": "python2"
  },
  "language_info": {
   "codemirror_mode": {
    "name": "ipython",
    "version": 2
   },
   "file_extension": ".py",
   "mimetype": "text/x-python",
   "name": "python",
   "nbconvert_exporter": "python",
   "pygments_lexer": "ipython2",
   "version": "2.7.5"
  }
 },
 "nbformat": 4,
 "nbformat_minor": 0
}

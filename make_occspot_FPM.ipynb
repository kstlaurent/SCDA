{
 "cells": [
  {
   "cell_type": "code",
   "execution_count": 14,
   "metadata": {
    "collapsed": false
   },
   "outputs": [
    {
     "name": "stdout",
     "output_type": "stream",
     "text": [
      "Populating the interactive namespace from numpy and matplotlib\n"
     ]
    }
   ],
   "source": [
    "import numpy as np\n",
    "import scipy.ndimage\n",
    "import astropy.io.fits as fits\n",
    "import matplotlib.pyplot as plt\n",
    "import os\n",
    "%pylab inline --no-import-all\n",
    "matplotlib.rcParams['image.origin'] = 'lower'\n",
    "matplotlib.rcParams['image.interpolation'] = 'nearest' \n",
    "matplotlib.rcParams['image.cmap'] = 'gray'"
   ]
  },
  {
   "cell_type": "code",
   "execution_count": 15,
   "metadata": {
    "collapsed": false
   },
   "outputs": [
    {
     "name": "stdout",
     "output_type": "stream",
     "text": [
      "Destination /astro/opticslab1/SCDA/Apertures/InputMasks_v2/FPM already exists\n"
     ]
    }
   ],
   "source": [
    "#FPM_dir = os.path.normpath(\"/astro/opticslab1/SCDA/Apertures/InputMasks/FPM\")\n",
    "FPM_dir = os.path.normpath(\"/astro/opticslab1/SCDA/Apertures/InputMasks_v2/FPM\")\n",
    "if not os.path.exists(FPM_dir):\n",
    "    os.mkdir(FPM_dir)\n",
    "    print(\"created {:s} for FPM arrays\".format(FPM_dir))\n",
    "else:\n",
    "    print(\"Destination {:s} already exists\".format(FPM_dir))"
   ]
  },
  {
   "cell_type": "code",
   "execution_count": 25,
   "metadata": {
    "collapsed": true
   },
   "outputs": [],
   "source": [
    "overwrite = True\n",
    "M = 60 # array quadrant width of final gray-pixel approximation\n",
    "binfac = 100 # bin factor between large binary array and gray-pixel approximation\n",
    "L = 2*M*binfac # number of points across large binary array\n",
    "dx = 1./L # step size between samples of large binary array "
   ]
  },
  {
   "cell_type": "code",
   "execution_count": 26,
   "metadata": {
    "collapsed": true
   },
   "outputs": [],
   "source": [
    "xs = np.linspace(-L/2 + 0.5, L/2 - 0.5, L)/L"
   ]
  },
  {
   "cell_type": "code",
   "execution_count": 27,
   "metadata": {
    "collapsed": false
   },
   "outputs": [
    {
     "data": {
      "text/plain": [
       "(12000, 12000)"
      ]
     },
     "execution_count": 27,
     "metadata": {},
     "output_type": "execute_result"
    }
   ],
   "source": [
    "[Xs, Ys] = np.meshgrid(xs, xs)\n",
    "Xs.shape"
   ]
  },
  {
   "cell_type": "code",
   "execution_count": 28,
   "metadata": {
    "collapsed": false
   },
   "outputs": [],
   "source": [
    "inside_spot = np.less_equal(Xs**2 + Ys**2, 0.5**2)\n",
    "big_FPM = np.zeros(Xs.shape)\n",
    "big_FPM[inside_spot] = 1."
   ]
  },
  {
   "cell_type": "code",
   "execution_count": 29,
   "metadata": {
    "collapsed": false
   },
   "outputs": [],
   "source": [
    "gray_FPM = big_FPM.reshape(big_FPM.shape[0]/binfac, binfac, big_FPM.shape[1]/binfac, binfac).mean(1).mean(2)\n",
    "gray_FPM_quad = gray_FPM[M:,M:]\n",
    "binary_FPM_quad = np.round(gray_FPM_quad).astype(int)"
   ]
  },
  {
   "cell_type": "code",
   "execution_count": 30,
   "metadata": {
    "collapsed": false
   },
   "outputs": [
    {
     "data": {
      "text/plain": [
       "<matplotlib.image.AxesImage at 0x10af54910>"
      ]
     },
     "execution_count": 30,
     "metadata": {},
     "output_type": "execute_result"
    },
    {
     "data": {
      "image/png": "[encoded data removed]",
      "text/plain": [
       "<matplotlib.figure.Figure at 0x11415f890>"
      ]
     },
     "metadata": {},
     "output_type": "display_data"
    }
   ],
   "source": [
    "plt.figure(figsize=(10,6))\n",
    "plt.subplot(121)\n",
    "plt.imshow(gray_FPM_quad)\n",
    "plt.subplot(122)\n",
    "plt.imshow(binary_FPM_quad)"
   ]
  },
  {
   "cell_type": "code",
   "execution_count": 31,
   "metadata": {
    "collapsed": false
   },
   "outputs": [
    {
     "data": {
      "text/plain": [
       "(60, 60)"
      ]
     },
     "execution_count": 31,
     "metadata": {},
     "output_type": "execute_result"
    }
   ],
   "source": [
    "gray_FPM_quad.shape"
   ]
  },
  {
   "cell_type": "code",
   "execution_count": 34,
   "metadata": {
    "collapsed": false
   },
   "outputs": [
    {
     "name": "stdout",
     "output_type": "stream",
     "text": [
      "Wrote binned, cropped FPM FITS array to /astro/opticslab1/SCDA/Apertures/InputMasks_v2/FPM/FPM_quart_occspot_M060.fits\n"
     ]
    }
   ],
   "source": [
    "FPM_quart_fits_fname = os.path.join(FPM_dir, \"FPM_quart_occspot_M{:03d}.fits\".format(M))\n",
    "FPM_quart_hdu = fits.PrimaryHDU(gray_FPM_quad)\n",
    "\n",
    "if not os.path.exists(FPM_quart_fits_fname) or overwrite is True:\n",
    "    FPM_quart_hdu.writeto(FPM_quart_fits_fname, clobber=True)\n",
    "    print(\"Wrote binned, cropped FPM FITS array to {0:s}\".format(FPM_quart_fits_fname))\n",
    "else:\n",
    "    print(\"FPM FITS array {0:s} already exists, will not overwrite\".format(FPM_quart_fits_fname))"
   ]
  },
  {
   "cell_type": "code",
   "execution_count": 33,
   "metadata": {
    "collapsed": false
   },
   "outputs": [
    {
     "name": "stdout",
     "output_type": "stream",
     "text": [
      "Wrote binned, cropped FPM array to /astro/opticslab1/SCDA/Apertures/InputMasks_v2/FPM/FPM_quart_occspot_M060.dat\n"
     ]
    }
   ],
   "source": [
    "FPM_quart_dat_fname = os.path.join(FPM_dir, \"FPM_quart_occspot_M{:03d}.dat\".format(M))\n",
    "\n",
    "if not os.path.exists(FPM_quart_dat_fname) or overwrite is True:\n",
    "    np.savetxt(FPM_quart_dat_fname, gray_FPM_quad, fmt='%.6f', delimiter=\" \")\n",
    "    #np.savetxt(FPM_quart_dat_fname, binary_FPM_quad, fmt='%d', delimiter=\" \")\n",
    "    print(\"Wrote binned, cropped FPM array to {0:s}\".format(FPM_quart_dat_fname))\n",
    "else:\n",
    "    print(\"FPM array {0:s} already exists, will not overwrite\".format(FPM_quart_dat_fname))"
   ]
  },
  {
   "cell_type": "code",
   "execution_count": 35,
   "metadata": {
    "collapsed": false
   },
   "outputs": [
    {
     "data": {
      "text/plain": [
       "['FPM_quart_occspot_M060.fits', 'FPM_quart_occspot_M060.dat']"
      ]
     },
     "execution_count": 35,
     "metadata": {},
     "output_type": "execute_result"
    }
   ],
   "source": [
    "os.listdir(FPM_dir)"
   ]
  }
 ],
 "metadata": {
  "kernelspec": {
   "display_name": "Python 2",
   "language": "python",
   "name": "python2"
  },
  "language_info": {
   "codemirror_mode": {
    "name": "ipython",
    "version": 2
   },
   "file_extension": ".py",
   "mimetype": "text/x-python",
   "name": "python",
   "nbconvert_exporter": "python",
   "pygments_lexer": "ipython2",
   "version": "2.7.5"
  }
 },
 "nbformat": 4,
 "nbformat_minor": 0
}

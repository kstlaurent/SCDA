{
 "cells": [
  {
   "cell_type": "code",
   "execution_count": 26,
   "metadata": {
    "collapsed": true
   },
   "outputs": [],
   "source": [
    "import scda\n",
    "import pprint\n",
    "import logging\n",
    "import os\n",
    "import numpy as np\n",
    "scda.configure_log()"
   ]
  },
  {
   "cell_type": "code",
   "execution_count": 32,
   "metadata": {
    "collapsed": false
   },
   "outputs": [
    {
     "data": {
      "text/plain": [
       "['amplsrc',\n",
       " 'solutions',\n",
       " 'logs',\n",
       " 'slurmsh',\n",
       " 'april_survey01_10bw_kstlaurent_2016-04-26.csv',\n",
       " 'april_survey01_10bw_kstlaurent_2016-04-26.pkl',\n",
       " 'april_survey01_10bw_kstlaurent_2016-04-25.pkl',\n",
       " 'april_survey01_10bw_ntz_2016-04-21.pkl',\n",
       " 'crontab_april_survey01_10bw_kstlaurent_2016-04-25',\n",
       " 'queuefill.log']"
      ]
     },
     "execution_count": 32,
     "metadata": {},
     "output_type": "execute_result"
    }
   ],
   "source": [
    "survey_dir = os.path.normpath(\"/astro/opticslab1/SCDA/Scripts/AMPL/april_survey01_10bw/\")\n",
    "os.chdir(survey_dir)\n",
    "os.listdir(\".\")"
   ]
  },
  {
   "cell_type": "code",
   "execution_count": 34,
   "metadata": {
    "collapsed": false
   },
   "outputs": [],
   "source": [
    "#os.listdir(\"./solutions/\")"
   ]
  },
  {
   "cell_type": "code",
   "execution_count": 36,
   "metadata": {
    "collapsed": true
   },
   "outputs": [],
   "source": [
    "survey_archive_fname = \"april_survey01_10bw_kstlaurent_2016-04-26.pkl\""
   ]
  },
  {
   "cell_type": "code",
   "execution_count": 37,
   "metadata": {
    "collapsed": false
   },
   "outputs": [],
   "source": [
    "survey_archive = scda.load_design_param_survey(survey_archive_fname)"
   ]
  },
  {
   "cell_type": "code",
   "execution_count": 40,
   "metadata": {
    "collapsed": false
   },
   "outputs": [],
   "source": [
    "survey_archive.eval_metrics(verbose=False)"
   ]
  },
  {
   "cell_type": "code",
   "execution_count": 41,
   "metadata": {
    "collapsed": false
   },
   "outputs": [
    {
     "name": "stderr",
     "output_type": "stream",
     "text": [
      "INFO:root:Wrote design survey spreadsheet to ./april_survey01_10bw_kstlaurent_2016-04-26_ntzeval.csv\n"
     ]
    }
   ],
   "source": [
    "survey_archive.write_spreadsheet(csv_fname=\"april_survey01_10bw_kstlaurent_2016-04-26_ntzeval.csv\")"
   ]
  }
 ],
 "metadata": {
  "kernelspec": {
   "display_name": "Python 2",
   "language": "python",
   "name": "python2"
  },
  "language_info": {
   "codemirror_mode": {
    "name": "ipython",
    "version": 2
   },
   "file_extension": ".py",
   "mimetype": "text/x-python",
   "name": "python",
   "nbconvert_exporter": "python",
   "pygments_lexer": "ipython2",
   "version": "2.7.5"
  }
 },
 "nbformat": 4,
 "nbformat_minor": 0
}

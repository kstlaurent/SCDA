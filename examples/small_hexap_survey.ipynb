{
 "cells": [
  {
   "cell_type": "code",
   "execution_count": 1,
   "metadata": {
    "collapsed": false
   },
   "outputs": [],
   "source": [
    "import scda\n",
    "import pprint\n",
    "import logging\n",
    "import os\n",
    "import numpy as np\n",
    "scda.configure_log()"
   ]
  },
  {
   "cell_type": "markdown",
   "metadata": {},
   "source": [
    "# Prepare a design survey test to run on NCCS Discover"
   ]
  },
  {
   "cell_type": "code",
   "execution_count": 2,
   "metadata": {
    "collapsed": false
   },
   "outputs": [],
   "source": [
    "survey_params = {'Pupil': { 'prim': ['hex1', 'hex2', 'hex3', 'hex4'],\n",
    "                            'secobs': 'X', 'thick': '025', \n",
    "                            'centobs': True, 'N': 125 },\n",
    "                 'FPM': { 'rad': [3.0, 4.0, 5.0], 'M':60 },\n",
    "                 'LS': { 'shape':'ann', 'obscure':0, 'aligntol':5, 'aligntolcon':3., \n",
    "                         'id':[20, 25, 30], 'od':[76, 78, 80, 82] },\n",
    "                 'Image': { 'ida':-0.5, 'bw':0.10, 'Nlam':3}}"
   ]
  },
  {
   "cell_type": "code",
   "execution_count": 3,
   "metadata": {
    "collapsed": false
   },
   "outputs": [
    {
     "name": "stdout",
     "output_type": "stream",
     "text": [
      "Created survey directory /astro/opticslab1/SCDA/Scripts/AMPL/april_survey01_10bw\n"
     ]
    }
   ],
   "source": [
    "survey_dir = os.path.normpath(\"/astro/opticslab1/SCDA/Scripts/AMPL/april_survey01_10bw\")\n",
    "if not os.path.exists(survey_dir):\n",
    "    os.mkdir(survey_dir)\n",
    "    print(\"Created survey directory {:s}\".format(survey_dir))\n",
    "else:\n",
    "    print(\"The survey directory {:s} already exists\".format(survey_dir))\n",
    "\n",
    "os.chdir(survey_dir)\n",
    "survey_fname = os.path.basename(survey_dir)\n",
    "ampl_src_dir = os.path.normpath(\"./amplsrc\")\n",
    "slurm_dir = os.path.normpath(\"./slurmsh\")\n",
    "sol_dir = os.path.normpath(\"./solutions\")\n",
    "log_dir = os.path.normpath(\"./logs\")\n",
    "TelAp_dir = os.path.normpath(\"../InputMasks/TelAp\")\n",
    "LS_dir = os.path.normpath(\"../InputMasks/LS\")\n",
    "FPM_dir = os.path.normpath(\"../InputMasks/FPM\")\n",
    "\n",
    "fileorg = {'work dir':'.', 'ampl src dir':ampl_src_dir, 'slurm dir':slurm_dir,\n",
    "           'log dir':log_dir, 'sol dir':sol_dir,\n",
    "           'TelAp dir':TelAp_dir, 'LS dir':LS_dir, 'FPM dir':FPM_dir}"
   ]
  },
  {
   "cell_type": "code",
   "execution_count": 5,
   "metadata": {
    "collapsed": false
   },
   "outputs": [
    {
     "data": {
      "text/plain": [
       "{'FPM dir': '../InputMasks/FPM',\n",
       " 'LS dir': '../InputMasks/LS',\n",
       " 'TelAp dir': '../InputMasks/TelAp',\n",
       " 'ampl src dir': 'amplsrc',\n",
       " 'log dir': 'logs',\n",
       " 'slurm dir': 'slurmsh',\n",
       " 'sol dir': 'solutions',\n",
       " 'work dir': '.'}"
      ]
     },
     "execution_count": 5,
     "metadata": {},
     "output_type": "execute_result"
    }
   ],
   "source": [
    "fileorg"
   ]
  },
  {
   "cell_type": "markdown",
   "metadata": {},
   "source": [
    "## Initiate a survey object with the above parameter combinations "
   ]
  },
  {
   "cell_type": "code",
   "execution_count": 6,
   "metadata": {
    "collapsed": false
   },
   "outputs": [
    {
     "name": "stderr",
     "output_type": "stream",
     "text": [
      "WARNING:root:Warning: The specified location of 'sol dir', \"solutions\" does not exist\n",
      "WARNING:root:Warning: The specified location of 'ampl src dir', \"amplsrc\" does not exist\n",
      "WARNING:root:Warning: The specified location of 'log dir', \"logs\" does not exist\n",
      "WARNING:root:Warning: The specified location of 'slurm dir', \"slurmsh\" does not exist\n"
     ]
    },
    {
     "name": "stdout",
     "output_type": "stream",
     "text": [
      "This survey has 144 design parameter combinations.\n",
      "4 parameters are varied: (('Pupil', 'prim'), ('FPM', 'rad'), ('LS', 'id'), ('LS', 'od'))\n"
     ]
    }
   ],
   "source": [
    "hexap_survey = scda.DesignParamSurvey(scda.QuarterplaneAPLC, survey_params, fileorg=fileorg)\n",
    "print(\"This survey has {0:d} design parameter combinations.\".format(hexap_survey.N_combos))\n",
    "print(\"{0:d} parameters are varied: {1}\".format(len(hexap_survey.varied_param_index), hexap_survey.varied_param_index))"
   ]
  },
  {
   "cell_type": "code",
   "execution_count": 7,
   "metadata": {
    "collapsed": false
   },
   "outputs": [
    {
     "data": {
      "text/plain": [
       "'/astro/opticslab1/SCDA/Scripts/AMPL/april_survey01_10bw'"
      ]
     },
     "execution_count": 7,
     "metadata": {},
     "output_type": "execute_result"
    }
   ],
   "source": [
    "os.getcwd()"
   ]
  },
  {
   "cell_type": "markdown",
   "metadata": {},
   "source": [
    "## Show the file organization scheme"
   ]
  },
  {
   "cell_type": "code",
   "execution_count": 8,
   "metadata": {
    "collapsed": false
   },
   "outputs": [
    {
     "name": "stdout",
     "output_type": "stream",
     "text": [
      "{'FPM dir': '../InputMasks/FPM',\n",
      " 'LS dir': '../InputMasks/LS',\n",
      " 'TelAp dir': '../InputMasks/TelAp',\n",
      " 'ampl src dir': 'amplsrc',\n",
      " 'eval dir': '.',\n",
      " 'log dir': 'logs',\n",
      " 'slurm dir': 'slurmsh',\n",
      " 'sol dir': 'solutions',\n",
      " 'work dir': '.'}\n"
     ]
    }
   ],
   "source": [
    "pprint.pprint(hexap_survey.fileorg)"
   ]
  },
  {
   "cell_type": "markdown",
   "metadata": {},
   "source": [
    "## Show some attributes of an individual coronagraph object"
   ]
  },
  {
   "cell_type": "code",
   "execution_count": 9,
   "metadata": {
    "collapsed": false
   },
   "outputs": [
    {
     "name": "stdout",
     "output_type": "stream",
     "text": [
      "Telescope aperture file for design #1: ../InputMasks/TelAp/TelAp_quart_hex1X025cobs1_N0125.dat\n",
      "Focal plane mask file for design #1: ../InputMasks/FPM/FPM_quart_occspot_M060.dat\n",
      "Lyot stop file for design #1: ../InputMasks/LS/LS_quart_ann20D76_clear_N0125.dat\n"
     ]
    }
   ],
   "source": [
    "#i = 100\n",
    "i = 0\n",
    "print(\"Telescope aperture file for design #{:d}: {:s}\".format(i+1, hexap_survey.coron_list[i].fileorg['TelAp fname']))\n",
    "print(\"Focal plane mask file for design #{:d}: {:s}\".format(i+1, hexap_survey.coron_list[i].fileorg['FPM fname']))\n",
    "print(\"Lyot stop file for design #{:d}: {:s}\".format(i+1, hexap_survey.coron_list[i].fileorg['LS fname']))"
   ]
  },
  {
   "cell_type": "markdown",
   "metadata": {},
   "source": [
    "### Check the status of input files needed to run the AMPL program"
   ]
  },
  {
   "cell_type": "code",
   "execution_count": 10,
   "metadata": {
    "collapsed": false
   },
   "outputs": [
    {
     "data": {
      "text/plain": [
       "True"
      ]
     },
     "execution_count": 10,
     "metadata": {},
     "output_type": "execute_result"
    }
   ],
   "source": [
    "hexap_survey.check_ampl_input_files()"
   ]
  },
  {
   "cell_type": "markdown",
   "metadata": {},
   "source": [
    "## List the varying parameter combinations"
   ]
  },
  {
   "cell_type": "code",
   "execution_count": 11,
   "metadata": {
    "collapsed": false
   },
   "outputs": [],
   "source": [
    "# pprint.pprint(hexap_survey.varied_param_combos)"
   ]
  },
  {
   "cell_type": "markdown",
   "metadata": {},
   "source": [
    "## Write the batch of AMPL files"
   ]
  },
  {
   "cell_type": "code",
   "execution_count": 12,
   "metadata": {
    "collapsed": false,
    "scrolled": false
   },
   "outputs": [
    {
     "name": "stderr",
     "output_type": "stream",
     "text": [
      "INFO:root:Wrote all 144 of 144 design survey AMPL programs into amplsrc\n"
     ]
    }
   ],
   "source": [
    "hexap_survey.write_ampl_batch(override_infile_status=False, overwrite=True)"
   ]
  },
  {
   "cell_type": "markdown",
   "metadata": {},
   "source": [
    "## Write the batch of queue execution scripts"
   ]
  },
  {
   "cell_type": "code",
   "execution_count": 13,
   "metadata": {
    "collapsed": false,
    "scrolled": false
   },
   "outputs": [
    {
     "name": "stderr",
     "output_type": "stream",
     "text": [
      "INFO:root:Wrote all 144 of 144 design survey slurm scripts into slurmsh\n"
     ]
    }
   ],
   "source": [
    "hexap_survey.write_slurm_batch(overwrite=True, queue_spec='12h')"
   ]
  },
  {
   "cell_type": "markdown",
   "metadata": {
    "collapsed": true
   },
   "source": [
    "## Write tables summarizing the design survey configuration and status to a spreadsheet"
   ]
  },
  {
   "cell_type": "code",
   "execution_count": 14,
   "metadata": {
    "collapsed": false
   },
   "outputs": [
    {
     "name": "stderr",
     "output_type": "stream",
     "text": [
      "INFO:root:Wrote design survey spreadsheet to ./april_survey01_10bw_ntz_2016-04-21.csv\n"
     ]
    }
   ],
   "source": [
    "hexap_survey.write_spreadsheet()"
   ]
  },
  {
   "cell_type": "markdown",
   "metadata": {},
   "source": [
    "## Store the design survey as a serialized python object"
   ]
  },
  {
   "cell_type": "code",
   "execution_count": 15,
   "metadata": {
    "collapsed": false
   },
   "outputs": [
    {
     "name": "stderr",
     "output_type": "stream",
     "text": [
      "INFO:root:Wrote the design parameter survey object to ./april_survey01_10bw_ntz_2016-04-21.pkl\n"
     ]
    }
   ],
   "source": [
    "hexap_survey.write()"
   ]
  },
  {
   "cell_type": "markdown",
   "metadata": {},
   "source": [
    "## Load an existing design survey"
   ]
  },
  {
   "cell_type": "code",
   "execution_count": 16,
   "metadata": {
    "collapsed": false
   },
   "outputs": [
    {
     "data": {
      "text/plain": [
       "['amplsrc',\n",
       " 'solutions',\n",
       " 'logs',\n",
       " 'slurmsh',\n",
       " 'april_survey01_10bw_ntz_2016-04-21.csv',\n",
       " 'april_survey01_10bw_ntz_2016-04-21.pkl']"
      ]
     },
     "execution_count": 16,
     "metadata": {},
     "output_type": "execute_result"
    }
   ],
   "source": [
    "os.listdir('.')"
   ]
  },
  {
   "cell_type": "code",
   "execution_count": 17,
   "metadata": {
    "collapsed": false
   },
   "outputs": [],
   "source": [
    "mysurvey = scda.load_design_param_survey(hexap_survey.fileorg['survey fname'])"
   ]
  },
  {
   "cell_type": "code",
   "execution_count": null,
   "metadata": {
    "collapsed": true
   },
   "outputs": [],
   "source": []
  }
 ],
 "metadata": {
  "kernelspec": {
   "display_name": "Python 2",
   "language": "python",
   "name": "python2"
  },
  "language_info": {
   "codemirror_mode": {
    "name": "ipython",
    "version": 2
   },
   "file_extension": ".py",
   "mimetype": "text/x-python",
   "name": "python",
   "nbconvert_exporter": "python",
   "pygments_lexer": "ipython2",
   "version": "2.7.5"
  }
 },
 "nbformat": 4,
 "nbformat_minor": 0
}

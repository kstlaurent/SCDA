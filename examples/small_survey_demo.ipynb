{
 "cells": [
  {
   "cell_type": "code",
   "execution_count": 19,
   "metadata": {
    "collapsed": false
   },
   "outputs": [],
   "source": [
    "import scda\n",
    "import pprint\n",
    "import logging\n",
    "import os\n",
    "import numpy as np\n",
    "scda.configure_log()\n",
    "import pprint"
   ]
  },
  {
   "cell_type": "markdown",
   "metadata": {},
   "source": [
    "# Small survey demo to run on NCCS Discover"
   ]
  },
  {
   "cell_type": "code",
   "execution_count": 20,
   "metadata": {
    "collapsed": false
   },
   "outputs": [],
   "source": [
    "survey_params = {'Pupil': { 'prim': ['hex3', 'hex4'], 'gap':1, 'edge':'round',\n",
    "                            'secobs': 'X', 'thick': '025',\n",
    "                            'centobs': [False, True], 'N': 250 },\n",
    "                 'FPM': { 'rad': [3.5, 4.0], 'M':60 },\n",
    "                 'LS': { 'shape':'ann', 'obscure':0, 'aligntol':None, \n",
    "                         'id':[20, 25], 'od':[81] },\n",
    "                 'Image': { 'ida':-0.5, 'bw':0.10, 'Nlam':3}}"
   ]
  },
  {
   "cell_type": "code",
   "execution_count": 21,
   "metadata": {
    "collapsed": false
   },
   "outputs": [
    {
     "name": "stdout",
     "output_type": "stream",
     "text": [
      "The survey directory /astro/opticslab1/SCDA/Scripts/AMPL/survey_demo_july2016 already exists\n"
     ]
    }
   ],
   "source": [
    "survey_dir = os.path.normpath(\"/astro/opticslab1/SCDA/Scripts/AMPL/survey_demo_july2016\")\n",
    "if not os.path.exists(survey_dir):\n",
    "    os.mkdir(survey_dir)\n",
    "    print(\"Created survey directory {:s}\".format(survey_dir))\n",
    "else:\n",
    "    print(\"The survey directory {:s} already exists\".format(survey_dir))\n",
    "\n",
    "os.chdir(survey_dir)\n",
    "survey_fname = os.path.basename(survey_dir)\n",
    "ampl_src_dir = os.path.normpath(\"./amplsrc\")\n",
    "slurm_dir = os.path.normpath(\"./slurmsh\")\n",
    "sol_dir = os.path.normpath(\"./solutions\")\n",
    "log_dir = os.path.normpath(\"./logs\")\n",
    "TelAp_dir = os.path.normpath(\"../InputMasks/TelAp\")\n",
    "LS_dir = os.path.normpath(\"../InputMasks/LS\")\n",
    "FPM_dir = os.path.normpath(\"../InputMasks/FPM\")\n",
    "\n",
    "fileorg = {'work dir':'.', 'ampl src dir':ampl_src_dir, 'slurm dir':slurm_dir,\n",
    "           'log dir':log_dir, 'sol dir':sol_dir,\n",
    "           'TelAp dir':TelAp_dir, 'LS dir':LS_dir, 'FPM dir':FPM_dir}"
   ]
  },
  {
   "cell_type": "code",
   "execution_count": 22,
   "metadata": {
    "collapsed": false
   },
   "outputs": [
    {
     "data": {
      "text/plain": [
       "{'FPM dir': '../InputMasks/FPM',\n",
       " 'LS dir': '../InputMasks/LS',\n",
       " 'TelAp dir': '../InputMasks/TelAp',\n",
       " 'ampl src dir': 'amplsrc',\n",
       " 'log dir': 'logs',\n",
       " 'slurm dir': 'slurmsh',\n",
       " 'sol dir': 'solutions',\n",
       " 'work dir': '.'}"
      ]
     },
     "execution_count": 22,
     "metadata": {},
     "output_type": "execute_result"
    }
   ],
   "source": [
    "fileorg"
   ]
  },
  {
   "cell_type": "code",
   "execution_count": 23,
   "metadata": {
    "collapsed": false
   },
   "outputs": [
    {
     "data": {
      "text/plain": [
       "['LS_quart_ann20D70_clear_N0250.dat',\n",
       " 'LS_quart_ann20D80_clear_N0250.dat',\n",
       " 'LS_quart_ann20D90_clear_N0250.dat',\n",
       " 'LS_quart_ann20D81_clear_N0250.dat',\n",
       " 'LDZ_quart_ann20D81_clear_Tol02_N0250.dat',\n",
       " 'LS_quart_ann25D81_clear_N0250.dat',\n",
       " 'LDZ_quart_ann25D81_clear_Tol02_N0250.dat']"
      ]
     },
     "execution_count": 23,
     "metadata": {},
     "output_type": "execute_result"
    }
   ],
   "source": [
    "os.listdir(fileorg['LS dir'])"
   ]
  },
  {
   "cell_type": "markdown",
   "metadata": {},
   "source": [
    "## Initiate a survey object with the above parameter combinations "
   ]
  },
  {
   "cell_type": "code",
   "execution_count": 24,
   "metadata": {
    "collapsed": false
   },
   "outputs": [
    {
     "name": "stdout",
     "output_type": "stream",
     "text": [
      "This survey has 16 design parameter combinations.\n",
      "5 parameters are varied: (('Pupil', 'prim'), ('Pupil', 'centobs'), ('FPM', 'rad'), ('LS', 'id'), ('LS', 'od'))\n"
     ]
    }
   ],
   "source": [
    "small_survey = scda.DesignParamSurvey(scda.QuarterplaneAPLC, survey_params, fileorg=fileorg)\n",
    "print(\"This survey has {0:d} design parameter combinations.\".format(small_survey.N_combos))\n",
    "print(\"{0:d} parameters are varied: {1}\".format(len(small_survey.varied_param_index), small_survey.varied_param_index))"
   ]
  },
  {
   "cell_type": "code",
   "execution_count": 25,
   "metadata": {
    "collapsed": false
   },
   "outputs": [
    {
     "data": {
      "text/plain": [
       "'/astro/opticslab1/SCDA/Scripts/AMPL/survey_demo_july2016'"
      ]
     },
     "execution_count": 25,
     "metadata": {},
     "output_type": "execute_result"
    }
   ],
   "source": [
    "os.getcwd()"
   ]
  },
  {
   "cell_type": "markdown",
   "metadata": {},
   "source": [
    "## Show the file organization scheme"
   ]
  },
  {
   "cell_type": "code",
   "execution_count": 26,
   "metadata": {
    "collapsed": false
   },
   "outputs": [
    {
     "name": "stdout",
     "output_type": "stream",
     "text": [
      "{'FPM dir': '../InputMasks/FPM',\n",
      " 'LS dir': '../InputMasks/LS',\n",
      " 'TelAp dir': '../InputMasks/TelAp',\n",
      " 'ampl src dir': 'amplsrc',\n",
      " 'eval dir': '.',\n",
      " 'log dir': 'logs',\n",
      " 'slurm dir': 'slurmsh',\n",
      " 'sol dir': 'solutions',\n",
      " 'work dir': '.'}\n"
     ]
    }
   ],
   "source": [
    "pprint.pprint(small_survey.fileorg)"
   ]
  },
  {
   "cell_type": "markdown",
   "metadata": {},
   "source": [
    "## Show some attributes of an individual coronagraph object"
   ]
  },
  {
   "cell_type": "code",
   "execution_count": 27,
   "metadata": {
    "collapsed": false
   },
   "outputs": [
    {
     "name": "stdout",
     "output_type": "stream",
     "text": [
      "Telescope aperture file for design #1: ../InputMasks/TelAp/TelAp_quart_hex3X025cobs0gap1_N0250.dat\n",
      "Focal plane mask file for design #1: ../InputMasks/FPM/FPM_quart_occspot_M060.dat\n",
      "Lyot stop file for design #1: ../InputMasks/LS/LS_quart_ann20D81_clear_N0250.dat\n"
     ]
    }
   ],
   "source": [
    "#i = 100\n",
    "i = 0\n",
    "print(\"Telescope aperture file for design #{:d}: {:s}\".format(i+1, small_survey.coron_list[i].fileorg['TelAp fname']))\n",
    "print(\"Focal plane mask file for design #{:d}: {:s}\".format(i+1, small_survey.coron_list[i].fileorg['FPM fname']))\n",
    "print(\"Lyot stop file for design #{:d}: {:s}\".format(i+1, small_survey.coron_list[i].fileorg['LS fname']))"
   ]
  },
  {
   "cell_type": "markdown",
   "metadata": {},
   "source": [
    "### Check the status of input files needed to run the AMPL program"
   ]
  },
  {
   "cell_type": "code",
   "execution_count": 28,
   "metadata": {
    "collapsed": false
   },
   "outputs": [
    {
     "data": {
      "text/plain": [
       "True"
      ]
     },
     "execution_count": 28,
     "metadata": {},
     "output_type": "execute_result"
    }
   ],
   "source": [
    "small_survey.check_ampl_input_files()"
   ]
  },
  {
   "cell_type": "markdown",
   "metadata": {},
   "source": [
    "## List the varying parameter combinations"
   ]
  },
  {
   "cell_type": "code",
   "execution_count": 29,
   "metadata": {
    "collapsed": false
   },
   "outputs": [
    {
     "name": "stdout",
     "output_type": "stream",
     "text": [
      "(('hex3', False, 3.5, 20, 81),\n",
      " ('hex3', False, 3.5, 25, 81),\n",
      " ('hex3', False, 4.0, 20, 81),\n",
      " ('hex3', False, 4.0, 25, 81),\n",
      " ('hex3', True, 3.5, 20, 81),\n",
      " ('hex3', True, 3.5, 25, 81),\n",
      " ('hex3', True, 4.0, 20, 81),\n",
      " ('hex3', True, 4.0, 25, 81),\n",
      " ('hex4', False, 3.5, 20, 81),\n",
      " ('hex4', False, 3.5, 25, 81),\n",
      " ('hex4', False, 4.0, 20, 81),\n",
      " ('hex4', False, 4.0, 25, 81),\n",
      " ('hex4', True, 3.5, 20, 81),\n",
      " ('hex4', True, 3.5, 25, 81),\n",
      " ('hex4', True, 4.0, 20, 81),\n",
      " ('hex4', True, 4.0, 25, 81))\n"
     ]
    }
   ],
   "source": [
    "pprint.pprint(small_survey.varied_param_combos)"
   ]
  },
  {
   "cell_type": "markdown",
   "metadata": {},
   "source": [
    "## Write the batch of AMPL files"
   ]
  },
  {
   "cell_type": "code",
   "execution_count": 30,
   "metadata": {
    "collapsed": false,
    "scrolled": false
   },
   "outputs": [
    {
     "name": "stderr",
     "output_type": "stream",
     "text": [
      "INFO:root:Wrote all 16 of 16 design survey AMPL programs into amplsrc\n"
     ]
    }
   ],
   "source": [
    "small_survey.write_ampl_batch(override_infile_status=False, overwrite=True)"
   ]
  },
  {
   "cell_type": "markdown",
   "metadata": {},
   "source": [
    "## Write the batch of queue execution scripts"
   ]
  },
  {
   "cell_type": "code",
   "execution_count": 31,
   "metadata": {
    "collapsed": false,
    "scrolled": false
   },
   "outputs": [
    {
     "name": "stderr",
     "output_type": "stream",
     "text": [
      "INFO:root:Wrote all 16 of 16 design survey slurm scripts into slurmsh\n"
     ]
    }
   ],
   "source": [
    "small_survey.write_slurm_batch(overwrite=True, queue_spec='12h')"
   ]
  },
  {
   "cell_type": "markdown",
   "metadata": {
    "collapsed": true
   },
   "source": [
    "## Write tables summarizing the design survey configuration and status to a spreadsheet"
   ]
  },
  {
   "cell_type": "code",
   "execution_count": 32,
   "metadata": {
    "collapsed": false
   },
   "outputs": [
    {
     "name": "stderr",
     "output_type": "stream",
     "text": [
      "INFO:root:Wrote design survey spreadsheet to ./survey_demo_july2016_ntz_2016-07-26.csv\n"
     ]
    }
   ],
   "source": [
    "small_survey.write_spreadsheet()"
   ]
  },
  {
   "cell_type": "markdown",
   "metadata": {},
   "source": [
    "## Store the design survey as a serialized python object"
   ]
  },
  {
   "cell_type": "code",
   "execution_count": 33,
   "metadata": {
    "collapsed": false
   },
   "outputs": [
    {
     "name": "stderr",
     "output_type": "stream",
     "text": [
      "INFO:root:Wrote the design parameter survey object to ./survey_demo_july2016_ntz_2016-07-26.pkl\n"
     ]
    }
   ],
   "source": [
    "small_survey.write()"
   ]
  },
  {
   "cell_type": "markdown",
   "metadata": {},
   "source": [
    "## Load an existing design survey"
   ]
  },
  {
   "cell_type": "code",
   "execution_count": 34,
   "metadata": {
    "collapsed": false
   },
   "outputs": [
    {
     "data": {
      "text/plain": [
       "['amplsrc',\n",
       " 'solutions',\n",
       " 'logs',\n",
       " 'slurmsh',\n",
       " 'survey_demo_july2016_ntz_2016-07-26.csv',\n",
       " 'survey_demo_july2016_ntz_2016-07-26.pkl']"
      ]
     },
     "execution_count": 34,
     "metadata": {},
     "output_type": "execute_result"
    }
   ],
   "source": [
    "os.listdir('.')"
   ]
  },
  {
   "cell_type": "code",
   "execution_count": 35,
   "metadata": {
    "collapsed": false
   },
   "outputs": [],
   "source": [
    "mysurvey = scda.load_design_param_survey(small_survey.fileorg['survey fname'])"
   ]
  },
  {
   "cell_type": "code",
   "execution_count": null,
   "metadata": {
    "collapsed": true
   },
   "outputs": [],
   "source": []
  }
 ],
 "metadata": {
  "kernelspec": {
   "display_name": "Python 2",
   "language": "python",
   "name": "python2"
  },
  "language_info": {
   "codemirror_mode": {
    "name": "ipython",
    "version": 2
   },
   "file_extension": ".py",
   "mimetype": "text/x-python",
   "name": "python",
   "nbconvert_exporter": "python",
   "pygments_lexer": "ipython2",
   "version": "2.7.5"
  }
 },
 "nbformat": 4,
 "nbformat_minor": 0
}

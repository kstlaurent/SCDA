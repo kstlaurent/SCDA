{
 "cells": [
  {
   "cell_type": "code",
   "execution_count": 22,
   "metadata": {
    "collapsed": false
   },
   "outputs": [
    {
     "name": "stdout",
     "output_type": "stream",
     "text": [
      "Populating the interactive namespace from numpy and matplotlib\n"
     ]
    }
   ],
   "source": [
    "import numpy as np\n",
    "import astropy.io.fits as fits\n",
    "import matplotlib.pyplot as plt\n",
    "import os\n",
    "import glob\n",
    "import PIL.ImageDraw\n",
    "import PIL.Image\n",
    "%pylab inline --no-import-all\n",
    "matplotlib.rcParams['image.origin'] = 'lower'\n",
    "matplotlib.rcParams['image.interpolation'] = 'nearest' \n",
    "matplotlib.rcParams['image.cmap'] = 'gray'"
   ]
  },
  {
   "cell_type": "markdown",
   "metadata": {},
   "source": [
    "## Set basic parameters"
   ]
  },
  {
   "cell_type": "code",
   "execution_count": 706,
   "metadata": {
    "collapsed": true
   },
   "outputs": [],
   "source": [
    "overwrite = False\n",
    "secobs_key = \"WFIRST\"\n",
    "iD = 34\n",
    "oD = 90\n",
    "D = 1024\n",
    "N = 128 # quadrant width after binning\n",
    "symm = 'half' # set to either 'quart' or 'half'\n",
    "cobs_diam = 31 # integer central obscuration parameter in range [0, 99]; nominal WFIRST value 31\n",
    "sthick = 26 # integer strut thickness parameter in range [0, 99]; nominal WFIRST value 26\n",
    "pad = 50 # feature padding, units of thousandths of pupil diameter\n",
    "symm = 'half' # set to either 'quart' or 'half'\n",
    "shape = 'ann'"
   ]
  },
  {
   "cell_type": "code",
   "execution_count": 707,
   "metadata": {
    "collapsed": false
   },
   "outputs": [
    {
     "name": "stdout",
     "output_type": "stream",
     "text": [
      "Destination /astro/opticslab1/SCDA/Apertures/InputMasks_WFIRST/LS already exists\n"
     ]
    }
   ],
   "source": [
    "#LS_dir = os.path.abspath(\"../InputMasks/LS\")\n",
    "#LS_dir = os.path.normpath(\"/astro/opticslab1/SCDA/Apertures/InputMasks/LS\")\n",
    "#LS_dir = os.path.normpath(\"/astro/opticslab1/SCDA/Apertures/InputMasks_v2/LS\")\n",
    "#LS_dir = os.path.normpath(\"/astro/opticslab1/SCDA/Apertures/InputMasks_v3/LS\")\n",
    "#LS_dir = os.path.normpath(\"/astro/opticslab1/SCDA/Apertures/InputMasks_v4/LS\")\n",
    "#LS_dir = os.path.normpath(\"/Users/neil/Box Sync/scda/InputMasks/LS\")\n",
    "#LS_dir = os.path.expanduser(\"~/Box Sync/scda/InputMasks_wfirst/LS\")\n",
    "LS_dir = os.path.normpath(\"/astro/opticslab1/SCDA/Apertures/InputMasks_WFIRST/LS\")\n",
    "\n",
    "if not os.path.exists(LS_dir):\n",
    "    os.mkdir(LS_dir)\n",
    "    print(\"created {:s} for LS arrays\".format(LS_dir))\n",
    "else:\n",
    "    print(\"Destination {:s} already exists\".format(LS_dir))"
   ]
  },
  {
   "cell_type": "markdown",
   "metadata": {},
   "source": [
    "### Define annular stop"
   ]
  },
  {
   "cell_type": "code",
   "execution_count": 708,
   "metadata": {
    "collapsed": true
   },
   "outputs": [],
   "source": [
    "xs = np.linspace(-D/2 + 0.5, D/2 - 0.5, D)\n",
    "[Xs, Ys] = np.meshgrid(xs, xs)\n",
    "inside_ann = np.less_equal(Xs**2 + Ys**2, (iD/100.*D/2)**2)\n",
    "outside_ann = np.greater_equal(Xs**2 + Ys**2, (oD/100.*D/2)**2)\n",
    "annular_stop = np.ones((D,D))\n",
    "annular_stop[inside_ann] = 0.\n",
    "annular_stop[outside_ann] = 0."
   ]
  },
  {
   "cell_type": "code",
   "execution_count": 709,
   "metadata": {
    "collapsed": false
   },
   "outputs": [
    {
     "data": {
      "text/plain": [
       "<matplotlib.image.AxesImage at 0x1d0ce5d10>"
      ]
     },
     "execution_count": 709,
     "metadata": {},
     "output_type": "execute_result"
    },
    {
     "data": {
      "image/png": "[encoded data removed]",
      "text/plain": [
       "<matplotlib.figure.Figure at 0x1ceb878d0>"
      ]
     },
     "metadata": {},
     "output_type": "display_data"
    }
   ],
   "source": [
    "plt.imshow(annular_stop)"
   ]
  },
  {
   "cell_type": "markdown",
   "metadata": {},
   "source": [
    "### Define strut pattern"
   ]
  },
  {
   "cell_type": "code",
   "execution_count": 710,
   "metadata": {
    "collapsed": false
   },
   "outputs": [],
   "source": [
    "xcent = D/2-0.5; ycent = D/2-0.5\n",
    "\n",
    "#xycent_01 = (xcent + 75.2, ycent + 0.)\n",
    "#strut_01 = matplotlib.patches.Rectangle(xycent_01, 25.90*D/1000., D, angle=-12.418)\n",
    "xycent_01 = (xcent + 75.0, ycent + 0.)\n",
    "strut_01 = matplotlib.patches.Rectangle(xycent_01, float(sthick)*D/1000., D, angle=-12.418)\n",
    "strut_verts_01 = strut_01.get_verts()\n",
    "\n",
    "#xycent_02 = (xcent, ycent + 107.7)\n",
    "#strut_02 = matplotlib.patches.Rectangle(xycent_02, 26.4*D/1000., D, angle=-107.6)\n",
    "xycent_02 = (xcent, ycent + 107.7)\n",
    "strut_02 = matplotlib.patches.Rectangle(xycent_02, float(sthick)*D/1000., D, angle=-107.6)\n",
    "strut_verts_02 = strut_02.get_verts()\n",
    "\n",
    "#xycent_03 = (xcent, ycent - 97.6)\n",
    "#strut_03 = matplotlib.patches.Rectangle(xycent_03, 25.95*D/1000., D, angle=-132.4)\n",
    "xycent_03 = (xcent, ycent - 97.6)\n",
    "strut_03 = matplotlib.patches.Rectangle(xycent_03, float(sthick)*D/1000., D, angle=-132.4)\n",
    "strut_verts_03 = strut_03.get_verts()\n",
    "\n",
    "strut_img = PIL.Image.new('L', (D,D), 1)\n",
    "PIL.ImageDraw.Draw(strut_img).polygon(list(strut_verts_01.ravel()), outline=0, fill=0)\n",
    "PIL.ImageDraw.Draw(strut_img).polygon(list(strut_verts_02.ravel()), outline=0, fill=0)\n",
    "PIL.ImageDraw.Draw(strut_img).polygon(list(strut_verts_03.ravel()), outline=0, fill=0)\n",
    "strut_mask = np.round(np.array(strut_img))"
   ]
  },
  {
   "cell_type": "code",
   "execution_count": 711,
   "metadata": {
    "collapsed": false
   },
   "outputs": [
    {
     "data": {
      "text/plain": [
       "<matplotlib.image.AxesImage at 0x1d17e1210>"
      ]
     },
     "execution_count": 711,
     "metadata": {},
     "output_type": "execute_result"
    },
    {
     "data": {
      "image/png": "[encoded data removed]",
      "text/plain": [
       "<matplotlib.figure.Figure at 0x1d0c8aa50>"
      ]
     },
     "metadata": {},
     "output_type": "display_data"
    }
   ],
   "source": [
    "plt.imshow(strut_mask)"
   ]
  },
  {
   "cell_type": "markdown",
   "metadata": {},
   "source": [
    "### Pad the struts"
   ]
  },
  {
   "cell_type": "code",
   "execution_count": 712,
   "metadata": {
    "collapsed": false
   },
   "outputs": [],
   "source": [
    "max_shift = int(round(D*float(pad)/1000))\n",
    "shift_range = range(-max_shift,max_shift+1,1)"
   ]
  },
  {
   "cell_type": "code",
   "execution_count": 713,
   "metadata": {
    "collapsed": false
   },
   "outputs": [
    {
     "data": {
      "text/plain": [
       "(27, 27)"
      ]
     },
     "execution_count": 713,
     "metadata": {},
     "output_type": "execute_result"
    }
   ],
   "source": [
    "[Xshifts, Yshifts] = np.meshgrid(shift_range, shift_range)\n",
    "allowed_shifts = np.less_equal(Xshifts**2 + Yshifts**2, max_shift**2)\n",
    "allowed_shifts.shape"
   ]
  },
  {
   "cell_type": "code",
   "execution_count": 714,
   "metadata": {
    "collapsed": false
   },
   "outputs": [
    {
     "data": {
      "text/plain": [
       "529"
      ]
     },
     "execution_count": 714,
     "metadata": {},
     "output_type": "execute_result"
    }
   ],
   "source": [
    "XYshifts_allowed = zip(Xshifts[allowed_shifts], Yshifts[allowed_shifts])\n",
    "len(XYshifts_allowed)"
   ]
  },
  {
   "cell_type": "code",
   "execution_count": 715,
   "metadata": {
    "collapsed": false
   },
   "outputs": [],
   "source": [
    "padded_strut_mask = np.ones(strut_mask.shape)\n",
    "for (xshift,yshift) in XYshifts_allowed:\n",
    "    strut_mask_shifted = np.roll(np.roll(strut_mask, yshift, 0), xshift, 1) \n",
    "    padded_strut_mask *= strut_mask_shifted"
   ]
  },
  {
   "cell_type": "code",
   "execution_count": 716,
   "metadata": {
    "collapsed": false
   },
   "outputs": [
    {
     "data": {
      "text/plain": [
       "<matplotlib.image.AxesImage at 0x1d22a9150>"
      ]
     },
     "execution_count": 716,
     "metadata": {},
     "output_type": "execute_result"
    },
    {
     "data": {
      "image/png": "[encoded data removed]",
      "text/plain": [
       "<matplotlib.figure.Figure at 0x1d18f8750>"
      ]
     },
     "metadata": {},
     "output_type": "display_data"
    }
   ],
   "source": [
    "plt.figure(figsize=(10,10))\n",
    "plt.imshow(padded_strut_mask)"
   ]
  },
  {
   "cell_type": "code",
   "execution_count": 717,
   "metadata": {
    "collapsed": true
   },
   "outputs": [],
   "source": [
    "if sthick > 0:\n",
    "    wfirst_par_LS = padded_strut_mask*padded_strut_mask[:,::-1]*annular_stop\n",
    "else:\n",
    "    wfirst_par_LS = annular_stop"
   ]
  },
  {
   "cell_type": "code",
   "execution_count": 718,
   "metadata": {
    "collapsed": true
   },
   "outputs": [],
   "source": [
    "Lyot_stop = np.copy(wfirst_par_LS[::-1,:])"
   ]
  },
  {
   "cell_type": "code",
   "execution_count": 719,
   "metadata": {
    "collapsed": false
   },
   "outputs": [
    {
     "data": {
      "text/plain": [
       "<matplotlib.image.AxesImage at 0x1d2f1fe90>"
      ]
     },
     "execution_count": 719,
     "metadata": {},
     "output_type": "execute_result"
    },
    {
     "data": {
      "image/png": "[encoded data removed]",
      "text/plain": [
       "<matplotlib.figure.Figure at 0x1d2eb9890>"
      ]
     },
     "metadata": {},
     "output_type": "display_data"
    }
   ],
   "source": [
    "plt.figure(figsize=(12,12))\n",
    "plt.imshow(Lyot_stop)"
   ]
  },
  {
   "cell_type": "markdown",
   "metadata": {},
   "source": [
    "## Bin to final array resolution, crop"
   ]
  },
  {
   "cell_type": "code",
   "execution_count": 720,
   "metadata": {
    "collapsed": false
   },
   "outputs": [
    {
     "name": "stdout",
     "output_type": "stream",
     "text": [
      "Binning the original LS array 4x\n"
     ]
    }
   ],
   "source": [
    "N_orig = D/2\n",
    "scalefac = int(N_orig/N)\n",
    "print(\"Binning the original LS array {0:d}x\".format(scalefac))\n",
    "Lyot_stop_binned = np.reshape(Lyot_stop, (Lyot_stop.shape[0]/scalefac, scalefac,\n",
    "                                          Lyot_stop.shape[1]/scalefac, scalefac)).mean(1).mean(2)"
   ]
  },
  {
   "cell_type": "code",
   "execution_count": 721,
   "metadata": {
    "collapsed": false
   },
   "outputs": [
    {
     "name": "stdout",
     "output_type": "stream",
     "text": [
      "(256, 128)\n"
     ]
    }
   ],
   "source": [
    "L_bin = Lyot_stop_binned.shape[0]\n",
    "\n",
    "Lyot_stop_binned_crop = Lyot_stop_binned[L_bin/2-N:L_bin/2+N,L_bin/2:L_bin/2+N]\n",
    "Lyot_stop_binned_crop_binary = np.round(Lyot_stop_binned_crop).astype(int)\n",
    "print(Lyot_stop_binned_crop.shape)\n",
    "\n",
    "Lyot_stop_full_binary = np.round(Lyot_stop_binned[L_bin/2-N:L_bin/2+N,L_bin/2-N:L_bin/2+N]).astype(int)"
   ]
  },
  {
   "cell_type": "code",
   "execution_count": 722,
   "metadata": {
    "collapsed": false
   },
   "outputs": [
    {
     "data": {
      "text/plain": [
       "<matplotlib.image.AxesImage at 0x1d0b503d0>"
      ]
     },
     "execution_count": 722,
     "metadata": {},
     "output_type": "execute_result"
    },
    {
     "data": {
      "image/png": "[encoded data removed]",
      "text/plain": [
       "<matplotlib.figure.Figure at 0x1d2f693d0>"
      ]
     },
     "metadata": {},
     "output_type": "display_data"
    }
   ],
   "source": [
    "plt.figure(figsize=(20,10))\n",
    "plt.imshow(Lyot_stop_binned_crop_binary)"
   ]
  },
  {
   "cell_type": "markdown",
   "metadata": {},
   "source": [
    "## Write the binned, cropped Lyot stop to a dat (ASCII) file "
   ]
  },
  {
   "cell_type": "code",
   "execution_count": 723,
   "metadata": {
    "collapsed": false
   },
   "outputs": [
    {
     "name": "stdout",
     "output_type": "stream",
     "text": [
      "Wrote binned, cropped LS array to /astro/opticslab1/SCDA/Apertures/InputMasks_WFIRST/LS/LS_half_ann34D90_WFIRST260Pad13_N0128.dat\n"
     ]
    }
   ],
   "source": [
    "LS_dat_fname_tail = \"LS_half_{0:s}{1:02d}D{2:02d}_{3:s}{4:03d}Pad{5:02d}_N{6:04d}.dat\".format(\n",
    "                         shape, iD, oD, secobs_key, 10*sthick, pad, N)\n",
    "\n",
    "LS_dat_fname = os.path.join(LS_dir, LS_dat_fname_tail)\n",
    "\n",
    "if not os.path.exists(LS_dat_fname) or overwrite==True:\n",
    "    #np.savetxt(LS_dat_fname, Lyot_stop_binned_crop, fmt='%.6f', delimiter=\" \")\n",
    "    np.savetxt(LS_dat_fname, Lyot_stop_binned_crop_binary, fmt='%d', delimiter=\" \")\n",
    "    print(\"Wrote binned, cropped LS array to {0:s}\".format(LS_dat_fname))\n",
    "else:\n",
    "    print(\"LS array {0:s} already exists, will not overwrite\".format(LS_dat_fname))"
   ]
  },
  {
   "cell_type": "code",
   "execution_count": 724,
   "metadata": {
    "collapsed": false
   },
   "outputs": [
    {
     "data": {
      "text/plain": [
       "['/astro/opticslab1/SCDA/Apertures/InputMasks_WFIRST/LS/LS_half_ann32D90_WFIRST260Pad01_N0128.dat',\n",
       " '/astro/opticslab1/SCDA/Apertures/InputMasks_WFIRST/LS/LS_half_ann32D90_WFIRST260Pad03_N0128.dat',\n",
       " '/astro/opticslab1/SCDA/Apertures/InputMasks_WFIRST/LS/LS_half_ann32D92_WFIRST260Pad01_N0128.dat',\n",
       " '/astro/opticslab1/SCDA/Apertures/InputMasks_WFIRST/LS/LS_half_ann32D94_WFIRST260Pad03_N0128.dat',\n",
       " '/astro/opticslab1/SCDA/Apertures/InputMasks_WFIRST/LS/LS_half_ann34D86_WFIRST260Pad01_N0128.dat',\n",
       " '/astro/opticslab1/SCDA/Apertures/InputMasks_WFIRST/LS/LS_half_ann34D86_WFIRST260Pad03_N0128.dat',\n",
       " '/astro/opticslab1/SCDA/Apertures/InputMasks_WFIRST/LS/LS_half_ann32D86_WFIRST260Pad01_N0128.dat',\n",
       " '/astro/opticslab1/SCDA/Apertures/InputMasks_WFIRST/LS/LS_half_ann32D92_WFIRST260Pad03_N0128.dat',\n",
       " '/astro/opticslab1/SCDA/Apertures/InputMasks_WFIRST/LS/LS_half_ann32D94_WFIRST260Pad01_N0128.dat',\n",
       " '/astro/opticslab1/SCDA/Apertures/InputMasks_WFIRST/LS/LS_half_ann32D86_WFIRST260Pad03_N0128.dat',\n",
       " '/astro/opticslab1/SCDA/Apertures/InputMasks_WFIRST/LS/LS_half_ann32D88_WFIRST260Pad01_N0128.dat',\n",
       " '/astro/opticslab1/SCDA/Apertures/InputMasks_WFIRST/LS/LS_half_ann32D88_WFIRST260Pad03_N0128.dat',\n",
       " '/astro/opticslab1/SCDA/Apertures/InputMasks_WFIRST/LS/LS_half_ann34D88_WFIRST260Pad01_N0128.dat',\n",
       " '/astro/opticslab1/SCDA/Apertures/InputMasks_WFIRST/LS/LS_half_ann34D88_WFIRST260Pad03_N0128.dat',\n",
       " '/astro/opticslab1/SCDA/Apertures/InputMasks_WFIRST/LS/LS_half_ann34D90_WFIRST260Pad01_N0128.dat',\n",
       " '/astro/opticslab1/SCDA/Apertures/InputMasks_WFIRST/LS/LS_half_ann34D90_WFIRST260Pad03_N0128.dat',\n",
       " '/astro/opticslab1/SCDA/Apertures/InputMasks_WFIRST/LS/LS_half_ann34D92_WFIRST260Pad01_N0128.dat',\n",
       " '/astro/opticslab1/SCDA/Apertures/InputMasks_WFIRST/LS/LS_half_ann34D92_WFIRST260Pad03_N0128.dat',\n",
       " '/astro/opticslab1/SCDA/Apertures/InputMasks_WFIRST/LS/LS_half_ann34D94_WFIRST260Pad01_N0128.dat',\n",
       " '/astro/opticslab1/SCDA/Apertures/InputMasks_WFIRST/LS/LS_half_ann34D94_WFIRST260Pad03_N0128.dat',\n",
       " '/astro/opticslab1/SCDA/Apertures/InputMasks_WFIRST/LS/LS_half_ann36D86_WFIRST260Pad01_N0128.dat',\n",
       " '/astro/opticslab1/SCDA/Apertures/InputMasks_WFIRST/LS/LS_half_ann36D86_WFIRST260Pad03_N0128.dat',\n",
       " '/astro/opticslab1/SCDA/Apertures/InputMasks_WFIRST/LS/LS_half_ann34D90_WFIRST260Pad13_N0128.dat',\n",
       " '/astro/opticslab1/SCDA/Apertures/InputMasks_WFIRST/LS/LS_half_ann36D88_WFIRST260Pad01_N0128.dat',\n",
       " '/astro/opticslab1/SCDA/Apertures/InputMasks_WFIRST/LS/LS_half_ann36D88_WFIRST260Pad03_N0128.dat',\n",
       " '/astro/opticslab1/SCDA/Apertures/InputMasks_WFIRST/LS/LS_half_ann36D90_WFIRST260Pad01_N0128.dat',\n",
       " '/astro/opticslab1/SCDA/Apertures/InputMasks_WFIRST/LS/LS_half_ann36D90_WFIRST260Pad03_N0128.dat',\n",
       " '/astro/opticslab1/SCDA/Apertures/InputMasks_WFIRST/LS/LS_half_ann36D92_WFIRST260Pad01_N0128.dat',\n",
       " '/astro/opticslab1/SCDA/Apertures/InputMasks_WFIRST/LS/LS_half_ann36D92_WFIRST260Pad03_N0128.dat',\n",
       " '/astro/opticslab1/SCDA/Apertures/InputMasks_WFIRST/LS/LS_half_ann36D94_WFIRST260Pad01_N0128.dat',\n",
       " '/astro/opticslab1/SCDA/Apertures/InputMasks_WFIRST/LS/LS_half_ann36D94_WFIRST260Pad03_N0128.dat',\n",
       " '/astro/opticslab1/SCDA/Apertures/InputMasks_WFIRST/LS/LS_half_ann36D94_WFIRST260Pad05_N0128.dat',\n",
       " '/astro/opticslab1/SCDA/Apertures/InputMasks_WFIRST/LS/LS_half_ann36D94_WFIRST260Pad10_N0128.dat',\n",
       " '/astro/opticslab1/SCDA/Apertures/InputMasks_WFIRST/LS/LS_half_ann34D90_WFIRST260Pad10_N0128.dat',\n",
       " '/astro/opticslab1/SCDA/Apertures/InputMasks_WFIRST/LS/LS_half_ann34D90_WFIRST260Pad07_N0128.dat']"
      ]
     },
     "execution_count": 724,
     "metadata": {},
     "output_type": "execute_result"
    }
   ],
   "source": [
    "#os.listdir(LS_dir)\n",
    "#glob.glob('{:s}/LS_half_*WFIRST260Pad00_N0128.dat'.format(LS_dir))\n",
    "#glob.glob('{:s}/LS_half_*WFIRST260Pad01_N0128.dat'.format(LS_dir))\n",
    "#glob.glob('{:s}/LS_half_*WFIRST260Pad02_N0128.dat'.format(LS_dir))\n",
    "#glob.glob('{:s}/LS_half_*WFIRST260Pad03_N0128.dat'.format(LS_dir))\n",
    "glob.glob('{:s}/LS_half_*WFIRST260Pad*_N0128.dat'.format(LS_dir))"
   ]
  },
  {
   "cell_type": "code",
   "execution_count": 725,
   "metadata": {
    "collapsed": false
   },
   "outputs": [],
   "source": [
    "#os.remove(LS_dat_fname)"
   ]
  },
  {
   "cell_type": "code",
   "execution_count": null,
   "metadata": {
    "collapsed": true
   },
   "outputs": [],
   "source": []
  }
 ],
 "metadata": {
  "anaconda-cloud": {},
  "kernelspec": {
   "display_name": "Python [conda env:py27]",
   "language": "python",
   "name": "conda-env-py27-py"
  },
  "language_info": {
   "codemirror_mode": {
    "name": "ipython",
    "version": 2
   },
   "file_extension": ".py",
   "mimetype": "text/x-python",
   "name": "python",
   "nbconvert_exporter": "python",
   "pygments_lexer": "ipython2",
   "version": "2.7.12"
  }
 },
 "nbformat": 4,
 "nbformat_minor": 0
}

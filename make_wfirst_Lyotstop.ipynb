{
 "cells": [
  {
   "cell_type": "markdown",
   "metadata": {},
   "source": [
    "# Make a Lyot stop based on the WFIRST Cycle 5 telescope pupil"
   ]
  },
  {
   "cell_type": "code",
   "execution_count": 1,
   "metadata": {
    "collapsed": false
   },
   "outputs": [
    {
     "name": "stdout",
     "output_type": "stream",
     "text": [
      "Populating the interactive namespace from numpy and matplotlib\n"
     ]
    }
   ],
   "source": [
    "import numpy as np\n",
    "import skimage.transform\n",
    "import astropy.io.fits as fits\n",
    "import matplotlib.pyplot as plt\n",
    "import os\n",
    "import glob\n",
    "import PIL.ImageDraw\n",
    "import PIL.Image\n",
    "%pylab inline --no-import-all\n",
    "matplotlib.rcParams['image.origin'] = 'lower'\n",
    "matplotlib.rcParams['image.interpolation'] = 'nearest' \n",
    "matplotlib.rcParams['image.cmap'] = 'gray'"
   ]
  },
  {
   "cell_type": "markdown",
   "metadata": {},
   "source": [
    "## Set basic parameters"
   ]
  },
  {
   "cell_type": "code",
   "execution_count": 458,
   "metadata": {
    "collapsed": true
   },
   "outputs": [],
   "source": [
    "overwrite = False\n",
    "secobs_key = \"wfirstCycle5\"\n",
    "flip = True\n",
    "iD = 40\n",
    "oD = 90\n",
    "D = 1000 # original pupil diameter\n",
    "N = 128 # quadrant width after binning\n",
    "symm = 'half' # set to either 'quart' or 'half'\n",
    "pad = 19 # feature padding, units of thousandths of pupil diameter"
   ]
  },
  {
   "cell_type": "code",
   "execution_count": 459,
   "metadata": {
    "collapsed": false
   },
   "outputs": [
    {
     "name": "stdout",
     "output_type": "stream",
     "text": [
      "Destination /astro/opticslab1/SCDA/Apertures/InputMasks_WFIRST/LS already exists\n"
     ]
    }
   ],
   "source": [
    "#LS_dir = os.path.abspath(\"../InputMasks/LS\")\n",
    "#LS_dir = os.path.normpath(\"/astro/opticslab1/SCDA/Apertures/InputMasks/LS\")\n",
    "#LS_dir = os.path.normpath(\"/astro/opticslab1/SCDA/Apertures/InputMasks_v2/LS\")\n",
    "#LS_dir = os.path.normpath(\"/astro/opticslab1/SCDA/Apertures/InputMasks_v3/LS\")\n",
    "#LS_dir = os.path.normpath(\"/astro/opticslab1/SCDA/Apertures/InputMasks_v4/LS\")\n",
    "#LS_dir = os.path.normpath(\"/Users/neil/Box Sync/scda/InputMasks/LS\")\n",
    "#LS_dir = os.path.expanduser(\"~/Box Sync/scda/InputMasks_wfirst/LS\")\n",
    "LS_dir = os.path.normpath(\"/astro/opticslab1/SCDA/Apertures/InputMasks_WFIRST/LS\")\n",
    "telap_dir = os.path.normpath(\"/astro/opticslab1/SCDA/Apertures/InputMasks_WFIRST/TelAp\")\n",
    "\n",
    "if not os.path.exists(LS_dir):\n",
    "    os.mkdir(LS_dir)\n",
    "    print(\"created {:s} for LS arrays\".format(LS_dir))\n",
    "else:\n",
    "    print(\"Destination {:s} already exists\".format(LS_dir))"
   ]
  },
  {
   "cell_type": "code",
   "execution_count": 460,
   "metadata": {
    "collapsed": false
   },
   "outputs": [
    {
     "data": {
      "text/plain": [
       "<matplotlib.image.AxesImage at 0x19f458690>"
      ]
     },
     "execution_count": 460,
     "metadata": {},
     "output_type": "execute_result"
    },
    {
     "data": {
      "image/png": "[encoded data removed]",
      "text/plain": [
       "<matplotlib.figure.Figure at 0x19f36d510>"
      ]
     },
     "metadata": {},
     "output_type": "display_data"
    }
   ],
   "source": [
    "telap_fname_tail = \"TelAp_half_wfirstCycle5_N{:04d}.dat\".format(D/2)\n",
    "telap_fname = os.path.join(telap_dir, telap_fname_tail)\n",
    "telap_rhs = np.loadtxt(telap_fname)\n",
    "wfirst_telap = np.concatenate([telap_rhs[:,::-1], telap_rhs], axis=1)\n",
    "plt.imshow(wfirst_telap)"
   ]
  },
  {
   "cell_type": "markdown",
   "metadata": {},
   "source": [
    "### Define annular stop"
   ]
  },
  {
   "cell_type": "code",
   "execution_count": 461,
   "metadata": {
    "collapsed": true
   },
   "outputs": [],
   "source": [
    "xs = np.linspace(-D/2 + 0.5, D/2 - 0.5, D)\n",
    "[Xs, Ys] = np.meshgrid(xs, xs)\n",
    "inside_ann = np.less_equal(Xs**2 + Ys**2, (iD/100.*D/2)**2)\n",
    "outside_ann = np.greater_equal(Xs**2 + Ys**2, (oD/100.*D/2)**2)\n",
    "annular_stop = np.ones((D,D))\n",
    "annular_stop[inside_ann] = 0.\n",
    "annular_stop[outside_ann] = 0."
   ]
  },
  {
   "cell_type": "code",
   "execution_count": 462,
   "metadata": {
    "collapsed": false
   },
   "outputs": [
    {
     "data": {
      "text/plain": [
       "<matplotlib.image.AxesImage at 0x1a085e210>"
      ]
     },
     "execution_count": 462,
     "metadata": {},
     "output_type": "execute_result"
    },
    {
     "data": {
      "image/png": "[encoded data removed]",
      "text/plain": [
       "<matplotlib.figure.Figure at 0x19d6ae150>"
      ]
     },
     "metadata": {},
     "output_type": "display_data"
    }
   ],
   "source": [
    "plt.imshow(annular_stop)"
   ]
  },
  {
   "cell_type": "markdown",
   "metadata": {},
   "source": [
    "### Pad the telescope aperture"
   ]
  },
  {
   "cell_type": "code",
   "execution_count": 463,
   "metadata": {
    "collapsed": false
   },
   "outputs": [],
   "source": [
    "max_shift = int(round(D*float(pad)/1000))\n",
    "shift_range = range(-max_shift,max_shift+1,1)"
   ]
  },
  {
   "cell_type": "code",
   "execution_count": 464,
   "metadata": {
    "collapsed": false
   },
   "outputs": [
    {
     "data": {
      "text/plain": [
       "(39, 39)"
      ]
     },
     "execution_count": 464,
     "metadata": {},
     "output_type": "execute_result"
    }
   ],
   "source": [
    "[Xshifts, Yshifts] = np.meshgrid(shift_range, shift_range)\n",
    "allowed_shifts = np.less_equal(Xshifts**2 + Yshifts**2, max_shift**2)\n",
    "allowed_shifts.shape"
   ]
  },
  {
   "cell_type": "code",
   "execution_count": 465,
   "metadata": {
    "collapsed": false
   },
   "outputs": [
    {
     "data": {
      "text/plain": [
       "1129"
      ]
     },
     "execution_count": 465,
     "metadata": {},
     "output_type": "execute_result"
    }
   ],
   "source": [
    "XYshifts_allowed = zip(Xshifts[allowed_shifts], Yshifts[allowed_shifts])\n",
    "len(XYshifts_allowed)"
   ]
  },
  {
   "cell_type": "code",
   "execution_count": 466,
   "metadata": {
    "collapsed": false
   },
   "outputs": [],
   "source": [
    "padded_wfirst_mask = np.ones(wfirst_telap.shape)\n",
    "for (xshift,yshift) in XYshifts_allowed:\n",
    "    wfirst_telap_shifted = np.roll(np.roll(wfirst_telap, yshift, 0), xshift, 1) \n",
    "    padded_wfirst_mask *= wfirst_telap_shifted"
   ]
  },
  {
   "cell_type": "code",
   "execution_count": 467,
   "metadata": {
    "collapsed": false
   },
   "outputs": [
    {
     "data": {
      "text/plain": [
       "<matplotlib.image.AxesImage at 0x1a18b3790>"
      ]
     },
     "execution_count": 467,
     "metadata": {},
     "output_type": "execute_result"
    },
    {
     "data": {
      "image/png": "[encoded data removed]",
      "text/plain": [
       "<matplotlib.figure.Figure at 0x19f41f3d0>"
      ]
     },
     "metadata": {},
     "output_type": "display_data"
    }
   ],
   "source": [
    "plt.figure(figsize=(10,10))\n",
    "plt.imshow(padded_wfirst_mask)"
   ]
  },
  {
   "cell_type": "code",
   "execution_count": 468,
   "metadata": {
    "collapsed": true
   },
   "outputs": [],
   "source": [
    "wfirst_LS = padded_wfirst_mask*annular_stop"
   ]
  },
  {
   "cell_type": "code",
   "execution_count": 469,
   "metadata": {
    "collapsed": false
   },
   "outputs": [],
   "source": [
    "if flip:\n",
    "    Lyot_stop = np.copy(wfirst_LS[::-1,:])\n",
    "else:\n",
    "    Lyot_stop = np.copy(wfirst_LS)"
   ]
  },
  {
   "cell_type": "code",
   "execution_count": 470,
   "metadata": {
    "collapsed": false
   },
   "outputs": [
    {
     "data": {
      "text/plain": [
       "<matplotlib.image.AxesImage at 0x1a3172650>"
      ]
     },
     "execution_count": 470,
     "metadata": {},
     "output_type": "execute_result"
    },
    {
     "data": {
      "image/png": "[encoded data removed]",
      "text/plain": [
       "<matplotlib.figure.Figure at 0x1a18772d0>"
      ]
     },
     "metadata": {},
     "output_type": "display_data"
    }
   ],
   "source": [
    "plt.figure(figsize=(12,12))\n",
    "plt.imshow(Lyot_stop)"
   ]
  },
  {
   "cell_type": "markdown",
   "metadata": {},
   "source": [
    "## Bin to final array resolution, crop"
   ]
  },
  {
   "cell_type": "code",
   "execution_count": 471,
   "metadata": {
    "collapsed": false
   },
   "outputs": [],
   "source": [
    "N_orig = D/2\n",
    "#scalefac = int(N_orig/N)\n",
    "#print(\"Binning the original LS array {0:d}x\".format(scalefac))\n",
    "#Lyot_stop_binned = np.reshape(Lyot_stop, (Lyot_stop.shape[0]/scalefac, scalefac,\n",
    "#                                          Lyot_stop.shape[1]/scalefac, scalefac)).mean(1).mean(2)\n",
    "\n",
    "Lyot_stop_binned = skimage.transform.resize(Lyot_stop, (2*N, 2*N), order=1)"
   ]
  },
  {
   "cell_type": "code",
   "execution_count": 472,
   "metadata": {
    "collapsed": false
   },
   "outputs": [
    {
     "name": "stdout",
     "output_type": "stream",
     "text": [
      "(256, 128)\n"
     ]
    }
   ],
   "source": [
    "L_bin = Lyot_stop_binned.shape[0]\n",
    "\n",
    "Lyot_stop_binned_crop = Lyot_stop_binned[L_bin/2-N:L_bin/2+N,L_bin/2:L_bin/2+N]\n",
    "Lyot_stop_binned_crop_binary = np.round(Lyot_stop_binned_crop).astype(int)\n",
    "print(Lyot_stop_binned_crop.shape)\n",
    "\n",
    "Lyot_stop_full_binary = np.round(Lyot_stop_binned[L_bin/2-N:L_bin/2+N,L_bin/2-N:L_bin/2+N]).astype(int)"
   ]
  },
  {
   "cell_type": "code",
   "execution_count": 473,
   "metadata": {
    "collapsed": false
   },
   "outputs": [
    {
     "data": {
      "text/plain": [
       "<matplotlib.image.AxesImage at 0x19f2cfa90>"
      ]
     },
     "execution_count": 473,
     "metadata": {},
     "output_type": "execute_result"
    },
    {
     "data": {
      "image/png": "[encoded data removed]",
      "text/plain": [
       "<matplotlib.figure.Figure at 0x1a31a8090>"
      ]
     },
     "metadata": {},
     "output_type": "display_data"
    }
   ],
   "source": [
    "plt.figure(figsize=(20,10))\n",
    "plt.imshow(Lyot_stop_binned_crop_binary)"
   ]
  },
  {
   "cell_type": "markdown",
   "metadata": {},
   "source": [
    "## Write the binned, cropped Lyot stop to a dat (ASCII) file "
   ]
  },
  {
   "cell_type": "code",
   "execution_count": 474,
   "metadata": {
    "collapsed": false
   },
   "outputs": [
    {
     "name": "stdout",
     "output_type": "stream",
     "text": [
      "Wrote binned, cropped LS array to /astro/opticslab1/SCDA/Apertures/InputMasks_WFIRST/LS/LS_half_ann40D90_wfirstCycle5flipPad19_N0128.dat\n"
     ]
    }
   ],
   "source": [
    "if flip:\n",
    "    LS_dat_fname_tail = \"LS_half_ann{0:02d}D{1:02d}_{2:s}flipPad{3:02d}_N{4:04d}.dat\".format(\n",
    "                         iD, oD, secobs_key, pad, N)\n",
    "else:\n",
    "    LS_dat_fname_tail = \"LS_half_ann{0:02d}D{1:02d}_{2:s}Pad{3:02d}_N{4:04d}.dat\".format(\n",
    "                         iD, oD, secobs_key, pad, N)\n",
    "\n",
    "LS_dat_fname = os.path.join(LS_dir, LS_dat_fname_tail)\n",
    "\n",
    "if not os.path.exists(LS_dat_fname) or overwrite==True:\n",
    "    #np.savetxt(LS_dat_fname, Lyot_stop_binned_crop, fmt='%.6f', delimiter=\" \")\n",
    "    np.savetxt(LS_dat_fname, Lyot_stop_binned_crop_binary, fmt='%d', delimiter=\" \")\n",
    "    print(\"Wrote binned, cropped LS array to {0:s}\".format(LS_dat_fname))\n",
    "else:\n",
    "    print(\"LS array {0:s} already exists, will not overwrite\".format(LS_dat_fname))"
   ]
  },
  {
   "cell_type": "code",
   "execution_count": 475,
   "metadata": {
    "collapsed": false
   },
   "outputs": [
    {
     "data": {
      "text/plain": [
       "['/astro/opticslab1/SCDA/Apertures/InputMasks_WFIRST/LS/LS_half_ann34D90_wfirstCycle5flipPad20_N0128.dat',\n",
       " '/astro/opticslab1/SCDA/Apertures/InputMasks_WFIRST/LS/LS_half_ann40D90_wfirstCycle5flipPad13_N0128.dat',\n",
       " '/astro/opticslab1/SCDA/Apertures/InputMasks_WFIRST/LS/LS_half_ann40D90_wfirstCycle5Pad13_N0128.dat',\n",
       " '/astro/opticslab1/SCDA/Apertures/InputMasks_WFIRST/LS/LS_half_ann34D90_wfirstCycle5Pad01_N0128.dat',\n",
       " '/astro/opticslab1/SCDA/Apertures/InputMasks_WFIRST/LS/LS_half_ann34D90_wfirstCycle5Pad07_N0128.dat',\n",
       " '/astro/opticslab1/SCDA/Apertures/InputMasks_WFIRST/LS/LS_half_ann34D90_wfirstCycle5Pad13_N0128.dat',\n",
       " '/astro/opticslab1/SCDA/Apertures/InputMasks_WFIRST/LS/LS_half_ann34D90_wfirstCycle5Pad19_N0128.dat',\n",
       " '/astro/opticslab1/SCDA/Apertures/InputMasks_WFIRST/LS/LS_half_ann36D90_wfirstCycle5Pad01_N0128.dat',\n",
       " '/astro/opticslab1/SCDA/Apertures/InputMasks_WFIRST/LS/LS_half_ann36D90_wfirstCycle5Pad07_N0128.dat',\n",
       " '/astro/opticslab1/SCDA/Apertures/InputMasks_WFIRST/LS/LS_half_ann36D90_wfirstCycle5Pad13_N0128.dat',\n",
       " '/astro/opticslab1/SCDA/Apertures/InputMasks_WFIRST/LS/LS_half_ann36D90_wfirstCycle5Pad19_N0128.dat',\n",
       " '/astro/opticslab1/SCDA/Apertures/InputMasks_WFIRST/LS/LS_half_ann38D90_wfirstCycle5Pad01_N0128.dat',\n",
       " '/astro/opticslab1/SCDA/Apertures/InputMasks_WFIRST/LS/LS_half_ann38D90_wfirstCycle5Pad07_N0128.dat',\n",
       " '/astro/opticslab1/SCDA/Apertures/InputMasks_WFIRST/LS/LS_half_ann38D90_wfirstCycle5Pad13_N0128.dat',\n",
       " '/astro/opticslab1/SCDA/Apertures/InputMasks_WFIRST/LS/LS_half_ann38D90_wfirstCycle5Pad19_N0128.dat',\n",
       " '/astro/opticslab1/SCDA/Apertures/InputMasks_WFIRST/LS/LS_half_ann40D90_wfirstCycle5Pad01_N0128.dat',\n",
       " '/astro/opticslab1/SCDA/Apertures/InputMasks_WFIRST/LS/LS_half_ann40D90_wfirstCycle5Pad07_N0128.dat',\n",
       " '/astro/opticslab1/SCDA/Apertures/InputMasks_WFIRST/LS/LS_half_ann40D90_wfirstCycle5Pad19_N0128.dat',\n",
       " '/astro/opticslab1/SCDA/Apertures/InputMasks_WFIRST/LS/LS_half_ann34D90_wfirstCycle5flipPad01_N0128.dat',\n",
       " '/astro/opticslab1/SCDA/Apertures/InputMasks_WFIRST/LS/LS_half_ann34D90_wfirstCycle5flipPad07_N0128.dat',\n",
       " '/astro/opticslab1/SCDA/Apertures/InputMasks_WFIRST/LS/LS_half_ann34D90_wfirstCycle5flipPad13_N0128.dat',\n",
       " '/astro/opticslab1/SCDA/Apertures/InputMasks_WFIRST/LS/LS_half_ann34D90_wfirstCycle5flipPad19_N0128.dat',\n",
       " '/astro/opticslab1/SCDA/Apertures/InputMasks_WFIRST/LS/LS_half_ann36D90_wfirstCycle5flipPad01_N0128.dat',\n",
       " '/astro/opticslab1/SCDA/Apertures/InputMasks_WFIRST/LS/LS_half_ann36D90_wfirstCycle5flipPad07_N0128.dat',\n",
       " '/astro/opticslab1/SCDA/Apertures/InputMasks_WFIRST/LS/LS_half_ann36D90_wfirstCycle5flipPad13_N0128.dat',\n",
       " '/astro/opticslab1/SCDA/Apertures/InputMasks_WFIRST/LS/LS_half_ann36D90_wfirstCycle5flipPad19_N0128.dat',\n",
       " '/astro/opticslab1/SCDA/Apertures/InputMasks_WFIRST/LS/LS_half_ann38D90_wfirstCycle5flipPad01_N0128.dat',\n",
       " '/astro/opticslab1/SCDA/Apertures/InputMasks_WFIRST/LS/LS_half_ann38D90_wfirstCycle5flipPad07_N0128.dat',\n",
       " '/astro/opticslab1/SCDA/Apertures/InputMasks_WFIRST/LS/LS_half_ann38D90_wfirstCycle5flipPad13_N0128.dat',\n",
       " '/astro/opticslab1/SCDA/Apertures/InputMasks_WFIRST/LS/LS_half_ann38D90_wfirstCycle5flipPad19_N0128.dat',\n",
       " '/astro/opticslab1/SCDA/Apertures/InputMasks_WFIRST/LS/LS_half_ann40D90_wfirstCycle5flipPad01_N0128.dat',\n",
       " '/astro/opticslab1/SCDA/Apertures/InputMasks_WFIRST/LS/LS_half_ann40D90_wfirstCycle5flipPad07_N0128.dat',\n",
       " '/astro/opticslab1/SCDA/Apertures/InputMasks_WFIRST/LS/LS_half_ann40D90_wfirstCycle5flipPad19_N0128.dat']"
      ]
     },
     "execution_count": 475,
     "metadata": {},
     "output_type": "execute_result"
    }
   ],
   "source": [
    "#os.listdir(LS_dir)\n",
    "glob.glob('{:s}/LS_half_*wfirstCycle5*_N0128.dat'.format(LS_dir))"
   ]
  },
  {
   "cell_type": "code",
   "execution_count": 476,
   "metadata": {
    "collapsed": false
   },
   "outputs": [],
   "source": [
    "#os.remove(LS_dat_fname)"
   ]
  },
  {
   "cell_type": "code",
   "execution_count": null,
   "metadata": {
    "collapsed": true
   },
   "outputs": [],
   "source": []
  }
 ],
 "metadata": {
  "anaconda-cloud": {},
  "kernelspec": {
   "display_name": "Python [conda env:py27]",
   "language": "python",
   "name": "conda-env-py27-py"
  },
  "language_info": {
   "codemirror_mode": {
    "name": "ipython",
    "version": 2
   },
   "file_extension": ".py",
   "mimetype": "text/x-python",
   "name": "python",
   "nbconvert_exporter": "python",
   "pygments_lexer": "ipython2",
   "version": "2.7.12"
  }
 },
 "nbformat": 4,
 "nbformat_minor": 0
}

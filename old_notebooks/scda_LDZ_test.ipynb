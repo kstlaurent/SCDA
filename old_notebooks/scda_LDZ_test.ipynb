{
 "cells": [
  {
   "cell_type": "code",
   "execution_count": 1,
   "metadata": {
    "collapsed": false
   },
   "outputs": [
    {
     "name": "stdout",
     "output_type": "stream",
     "text": [
      "Populating the interactive namespace from numpy and matplotlib\n"
     ]
    }
   ],
   "source": [
    "import scda\n",
    "import os\n",
    "import shutil\n",
    "import numpy as np\n",
    "\n",
    "import matplotlib.pyplot as plt\n",
    "%pylab inline --no-import-all\n",
    "matplotlib.rcParams['image.origin'] = 'lower'\n",
    "matplotlib.rcParams['image.interpolation'] = 'nearest'\n",
    "matplotlib.rcParams['image.cmap'] = 'gray'\n",
    "\n",
    "import logging\n",
    "scda.configure_log()"
   ]
  },
  {
   "cell_type": "markdown",
   "metadata": {},
   "source": [
    "# Prepare two SCDA designs, with and without LS alignment tolerance"
   ]
  },
  {
   "cell_type": "markdown",
   "metadata": {},
   "source": [
    "## Set the design parameters"
   ]
  },
  {
   "cell_type": "code",
   "execution_count": 22,
   "metadata": {
    "collapsed": false
   },
   "outputs": [],
   "source": [
    "pupil_params = {'N': 125, 'prim':'hex3', 'centobs':True, 'secobs':'X', 'thick':'025'}\n",
    "fpm_params = {'rad': 4.}\n",
    "ls_params_aligntol = {'obscure':0, 'id':25, 'od':80, 'aligntol':5, 'aligntolcon':2.9}\n",
    "ls_params_noaligntol = {'obscure':0, 'id':25, 'od':80, 'aligntol':None}\n",
    "image_params = {'c': 10., 'ida':3.5, 'oda':8., 'bw':0.10, 'Nlam':3}"
   ]
  },
  {
   "cell_type": "code",
   "execution_count": 23,
   "metadata": {
    "collapsed": false
   },
   "outputs": [],
   "source": [
    "work_dir = \"/astro/opticslab1/SCDA/Scripts/AMPL/LDZ_test\" # where to write the AMPL source code\n",
    "if not os.path.exists(work_dir):\n",
    "    os.mkdir(work_dir)\n",
    "input_dir = \"/astro/opticslab1/SCDA/Apertures/InputMasks\" # location of input TelAp, FPM, and LS arrays\n",
    "TelAp_dir = os.path.join(input_dir, \"TelAp\")\n",
    "FPM_dir = os.path.join(input_dir, \"FPM\")\n",
    "LS_dir = os.path.join(input_dir, \"LS\")"
   ]
  },
  {
   "cell_type": "code",
   "execution_count": 37,
   "metadata": {
    "collapsed": false
   },
   "outputs": [],
   "source": [
    "design_params_aligntol = {'Pupil': pupil_params, 'FPM': fpm_params,\n",
    "                          'LS': ls_params_aligntol, 'Image': image_params}\n",
    "design_params_noaligntol = {'Pupil': pupil_params, 'FPM': fpm_params,\n",
    "                            'LS': ls_params_noaligntol, 'Image': image_params}\n",
    "fileorg = {'work dir': work_dir, 'TelAp dir': TelAp_dir,\n",
    "           'FPM dir': FPM_dir, 'LS dir': LS_dir}\n",
    "bar_solver = {'method': 'bar'}\n",
    "barhom_solver = {'method': 'barhom'}"
   ]
  },
  {
   "cell_type": "markdown",
   "metadata": {},
   "source": [
    "## Initiate the coronagraph objects"
   ]
  },
  {
   "cell_type": "code",
   "execution_count": 40,
   "metadata": {
    "collapsed": false
   },
   "outputs": [],
   "source": [
    "hexap_coron_aligntol = scda.QuarterplaneAPLC(design=design_params_aligntol, fileorg=fileorg, solver=barhom_solver)\n",
    "hexap_coron_noaligntol = scda.QuarterplaneAPLC(design=design_params_noaligntol, fileorg=fileorg, solver=bar_solver)"
   ]
  },
  {
   "cell_type": "markdown",
   "metadata": {},
   "source": [
    "## Show the file organization for both coronagraphs"
   ]
  },
  {
   "cell_type": "code",
   "execution_count": 41,
   "metadata": {
    "collapsed": false
   },
   "outputs": [
    {
     "data": {
      "text/plain": [
       "{'FPM dir': '/astro/opticslab1/SCDA/Apertures/InputMasks/FPM',\n",
       " 'FPM fname': '/astro/opticslab1/SCDA/Apertures/InputMasks/FPM/FPM_quart_occspot_M050.dat',\n",
       " 'LDZ fname': '/astro/opticslab1/SCDA/Apertures/InputMasks/LS/LDZ_quart_ann25D80_clear_Tol05_N0125.dat',\n",
       " 'LS dir': '/astro/opticslab1/SCDA/Apertures/InputMasks/LS',\n",
       " 'LS fname': '/astro/opticslab1/SCDA/Apertures/InputMasks/LS/LS_quart_ann25D80_clear_N0125.dat',\n",
       " 'TelAp dir': '/astro/opticslab1/SCDA/Apertures/InputMasks/TelAp',\n",
       " 'TelAp fname': '/astro/opticslab1/SCDA/Apertures/InputMasks/TelAp/TelAp_quart_hex3X025cobs1_N0125.dat',\n",
       " 'ampl src dir': '/astro/opticslab1/SCDA/Scripts/AMPL/LDZ_test',\n",
       " 'ampl src fname': '/astro/opticslab1/SCDA/Scripts/AMPL/LDZ_test/APLC_quart_hex3X025cobs1_N0125_FPM400M050_LSann25D80clearTol05s29_Img100C_35DA080_BW10Nlam03fpres2_linbarhompre1.mod',\n",
       " 'eval dir': '/astro/opticslab1/SCDA/Scripts/AMPL/LDZ_test',\n",
       " 'exec script dir': '/astro/opticslab1/SCDA/Scripts/AMPL/LDZ_test',\n",
       " 'exec script fname': '/astro/opticslab1/SCDA/Scripts/AMPL/LDZ_test/APLC_quart_hex3X025cobs1_N0125_FPM400M050_LSann25D80clearTol05s29_Img100C_35DA080_BW10Nlam03fpres2_linbarhompre1.sh',\n",
       " 'job name': 'APLC_quart_hex3X025cobs1_N0125_FPM400M050_LSann25D80clearTol05s29_Img100C_35DA080_BW10Nlam03fpres2_linbarhompre1',\n",
       " 'log dir': '/astro/opticslab1/SCDA/Scripts/AMPL/LDZ_test',\n",
       " 'log fname': '/astro/opticslab1/SCDA/Scripts/AMPL/LDZ_test/APLC_quart_hex3X025cobs1_N0125_FPM400M050_LSann25D80clearTol05s29_Img100C_35DA080_BW10Nlam03fpres2_linbarhompre1.log',\n",
       " 'sol dir': '/astro/opticslab1/SCDA/Scripts/AMPL/LDZ_test',\n",
       " 'sol fname': '/astro/opticslab1/SCDA/Scripts/AMPL/LDZ_test/ApodSol_APLC_quart_hex3X025cobs1_N0125_FPM400M050_LSann25D80clearTol05s29_Img100C_35DA080_BW10Nlam03fpres2_linbarhompre1.dat',\n",
       " 'work dir': '/astro/opticslab1/SCDA/Scripts/AMPL/LDZ_test'}"
      ]
     },
     "execution_count": 41,
     "metadata": {},
     "output_type": "execute_result"
    }
   ],
   "source": [
    "hexap_coron_aligntol.fileorg"
   ]
  },
  {
   "cell_type": "code",
   "execution_count": 42,
   "metadata": {
    "collapsed": false
   },
   "outputs": [
    {
     "data": {
      "text/plain": [
       "{'FPM dir': '/astro/opticslab1/SCDA/Apertures/InputMasks/FPM',\n",
       " 'FPM fname': '/astro/opticslab1/SCDA/Apertures/InputMasks/FPM/FPM_quart_occspot_M050.dat',\n",
       " 'LS dir': '/astro/opticslab1/SCDA/Apertures/InputMasks/LS',\n",
       " 'LS fname': '/astro/opticslab1/SCDA/Apertures/InputMasks/LS/LS_quart_ann25D80_clear_N0125.dat',\n",
       " 'TelAp dir': '/astro/opticslab1/SCDA/Apertures/InputMasks/TelAp',\n",
       " 'TelAp fname': '/astro/opticslab1/SCDA/Apertures/InputMasks/TelAp/TelAp_quart_hex3X025cobs1_N0125.dat',\n",
       " 'ampl src dir': '/astro/opticslab1/SCDA/Scripts/AMPL/LDZ_test',\n",
       " 'ampl src fname': '/astro/opticslab1/SCDA/Scripts/AMPL/LDZ_test/APLC_quart_hex3X025cobs1_N0125_FPM400M050_LSann25D80clear_Img100C_35DA080_BW10Nlam03fpres2_linbarpre1.mod',\n",
       " 'eval dir': '/astro/opticslab1/SCDA/Scripts/AMPL/LDZ_test',\n",
       " 'exec script dir': '/astro/opticslab1/SCDA/Scripts/AMPL/LDZ_test',\n",
       " 'exec script fname': '/astro/opticslab1/SCDA/Scripts/AMPL/LDZ_test/APLC_quart_hex3X025cobs1_N0125_FPM400M050_LSann25D80clear_Img100C_35DA080_BW10Nlam03fpres2_linbarpre1.sh',\n",
       " 'job name': 'APLC_quart_hex3X025cobs1_N0125_FPM400M050_LSann25D80clear_Img100C_35DA080_BW10Nlam03fpres2_linbarpre1',\n",
       " 'log dir': '/astro/opticslab1/SCDA/Scripts/AMPL/LDZ_test',\n",
       " 'log fname': '/astro/opticslab1/SCDA/Scripts/AMPL/LDZ_test/APLC_quart_hex3X025cobs1_N0125_FPM400M050_LSann25D80clear_Img100C_35DA080_BW10Nlam03fpres2_linbarpre1.log',\n",
       " 'sol dir': '/astro/opticslab1/SCDA/Scripts/AMPL/LDZ_test',\n",
       " 'sol fname': '/astro/opticslab1/SCDA/Scripts/AMPL/LDZ_test/ApodSol_APLC_quart_hex3X025cobs1_N0125_FPM400M050_LSann25D80clear_Img100C_35DA080_BW10Nlam03fpres2_linbarpre1.dat',\n",
       " 'work dir': '/astro/opticslab1/SCDA/Scripts/AMPL/LDZ_test'}"
      ]
     },
     "execution_count": 42,
     "metadata": {},
     "output_type": "execute_result"
    }
   ],
   "source": [
    "hexap_coron_noaligntol.fileorg"
   ]
  },
  {
   "cell_type": "markdown",
   "metadata": {},
   "source": [
    "### Check the status of input files needed to run the AMPL program"
   ]
  },
  {
   "cell_type": "code",
   "execution_count": 44,
   "metadata": {
    "collapsed": false
   },
   "outputs": [
    {
     "name": "stdout",
     "output_type": "stream",
     "text": [
      "All the input files for AMPL are in place? False\n"
     ]
    }
   ],
   "source": [
    "hexap_coron_aligntol.check_ampl_input_files()\n",
    "print(\"All the input files for AMPL are in place? {0:}\".format(hexap_coron_aligntol.ampl_infile_status))"
   ]
  },
  {
   "cell_type": "code",
   "execution_count": 45,
   "metadata": {
    "collapsed": false
   },
   "outputs": [
    {
     "name": "stdout",
     "output_type": "stream",
     "text": [
      "All the input files for AMPL are in place? True\n"
     ]
    }
   ],
   "source": [
    "hexap_coron_noaligntol.check_ampl_input_files()\n",
    "print(\"All the input files for AMPL are in place? {0:}\".format(hexap_coron_noaligntol.ampl_infile_status))"
   ]
  },
  {
   "cell_type": "markdown",
   "metadata": {},
   "source": [
    "## Write the AMPL source file"
   ]
  },
  {
   "cell_type": "code",
   "execution_count": null,
   "metadata": {
    "collapsed": false,
    "scrolled": false
   },
   "outputs": [],
   "source": [
    "hexap_coron_aligntol.write_ampl(override_infile_status=True, overwrite=True)\n",
    "hexap_coron_noaligntol.write_ampl(override_infile_status=True, overwrite=True)"
   ]
  },
  {
   "cell_type": "markdown",
   "metadata": {},
   "source": [
    "## Write serial bash execution script"
   ]
  },
  {
   "cell_type": "code",
   "execution_count": null,
   "metadata": {
    "collapsed": true
   },
   "outputs": [],
   "source": [
    "bash_fname = os.path.join(hexap_coron_aligntol.fileorg['ampl src dir'], 'run_LDZ_test.sh')\n",
    "bash_fobj = open(bash_fname, \"w\")\n",
    "bash_fobj.write(\"#! /bin/bash -x\\n\")\n",
    "bash_fobj.write(\"ampl {0:s}\\n\".format(hexap_coron_noaligntol.fileorg['ampl src fname']))\n",
    "bash_fobj.write(\"ampl {0:s}\\n\".format(hexap_coron_aligntol.fileorg['ampl src fname']))\n",
    "bash_fobj.close()"
   ]
  },
  {
   "cell_type": "markdown",
   "metadata": {},
   "source": [
    "## Create a bundled source + input file subdirectory for both designs"
   ]
  },
  {
   "cell_type": "code",
   "execution_count": null,
   "metadata": {
    "collapsed": false
   },
   "outputs": [],
   "source": [
    "bundled_dir = \"/astro/opticslab1/SCDA/Scripts/AMPL/hex3_LStol25\"\n",
    "bundled_coron_list = scda.make_ampl_bundle([hexap_coron_noaligntol, hexap_coron_aligntol], bundled_dir)\n",
    "os.listdir(bundled_dir)"
   ]
  },
  {
   "cell_type": "markdown",
   "metadata": {
    "collapsed": true
   },
   "source": [
    "## Evaluate basic coronagraph metrics"
   ]
  },
  {
   "cell_type": "code",
   "execution_count": 39,
   "metadata": {
    "collapsed": false
   },
   "outputs": [
    {
     "ename": "IOError",
     "evalue": "[Errno 2] No such file or directory: '/astro/opticslab1/SCDA/Scripts/AMPL/LDZ_test/ApodSol_APLC_quart_hex3X025cobs1_N0125_FPM400M050_LSann25D80clear_Img100C_35DA080_BW10Nlam03fpres2_linbarhompre1.dat'",
     "output_type": "error",
     "traceback": [
      "\u001b[0;31m---------------------------------------------------------------------------\u001b[0m",
      "\u001b[0;31mIOError\u001b[0m                                   Traceback (most recent call last)",
      "\u001b[0;32m<ipython-input-39-69cefdc1baa2>\u001b[0m in \u001b[0;36m<module>\u001b[0;34m()\u001b[0m\n\u001b[0;32m----> 1\u001b[0;31m \u001b[0mhexap_coron_noaligntol\u001b[0m\u001b[0;34m.\u001b[0m\u001b[0mget_metrics\u001b[0m\u001b[0;34m(\u001b[0m\u001b[0;34m)\u001b[0m\u001b[0;34m\u001b[0m\u001b[0m\n\u001b[0m",
      "\u001b[0;32m/Users/ntz/SCDA/scda_pytools/scda.pyc\u001b[0m in \u001b[0;36mget_metrics\u001b[0;34m(self, fp2res, verbose)\u001b[0m\n\u001b[1;32m   1688\u001b[0m         \u001b[0mLS\u001b[0m \u001b[0;34m=\u001b[0m \u001b[0mnp\u001b[0m\u001b[0;34m.\u001b[0m\u001b[0mloadtxt\u001b[0m\u001b[0;34m(\u001b[0m\u001b[0mself\u001b[0m\u001b[0;34m.\u001b[0m\u001b[0mfileorg\u001b[0m\u001b[0;34m[\u001b[0m\u001b[0;34m'LS fname'\u001b[0m\u001b[0;34m]\u001b[0m\u001b[0;34m)\u001b[0m\u001b[0;34m\u001b[0m\u001b[0m\n\u001b[1;32m   1689\u001b[0m         \u001b[0mN\u001b[0m \u001b[0;34m=\u001b[0m \u001b[0mTelAp\u001b[0m\u001b[0;34m.\u001b[0m\u001b[0mshape\u001b[0m\u001b[0;34m[\u001b[0m\u001b[0;36m1\u001b[0m\u001b[0;34m]\u001b[0m\u001b[0;34m\u001b[0m\u001b[0m\n\u001b[0;32m-> 1690\u001b[0;31m         \u001b[0mA_col\u001b[0m \u001b[0;34m=\u001b[0m \u001b[0mnp\u001b[0m\u001b[0;34m.\u001b[0m\u001b[0mloadtxt\u001b[0m\u001b[0;34m(\u001b[0m\u001b[0mself\u001b[0m\u001b[0;34m.\u001b[0m\u001b[0mfileorg\u001b[0m\u001b[0;34m[\u001b[0m\u001b[0;34m'sol fname'\u001b[0m\u001b[0;34m]\u001b[0m\u001b[0;34m)\u001b[0m\u001b[0;34m[\u001b[0m\u001b[0;34m:\u001b[0m\u001b[0;34m,\u001b[0m\u001b[0;34m-\u001b[0m\u001b[0;36m1\u001b[0m\u001b[0;34m]\u001b[0m\u001b[0;34m\u001b[0m\u001b[0m\n\u001b[0m\u001b[1;32m   1691\u001b[0m         \u001b[0mA\u001b[0m \u001b[0;34m=\u001b[0m \u001b[0mA_col\u001b[0m\u001b[0;34m.\u001b[0m\u001b[0mreshape\u001b[0m\u001b[0;34m(\u001b[0m\u001b[0mTelAp\u001b[0m\u001b[0;34m.\u001b[0m\u001b[0mshape\u001b[0m\u001b[0;34m)\u001b[0m\u001b[0;34m\u001b[0m\u001b[0m\n\u001b[1;32m   1692\u001b[0m         \u001b[0mself\u001b[0m\u001b[0;34m.\u001b[0m\u001b[0meval_metrics\u001b[0m\u001b[0;34m[\u001b[0m\u001b[0;34m'apod nb res ratio'\u001b[0m\u001b[0;34m]\u001b[0m \u001b[0;34m=\u001b[0m \u001b[0mnp\u001b[0m\u001b[0;34m.\u001b[0m\u001b[0msum\u001b[0m\u001b[0;34m(\u001b[0m\u001b[0mnp\u001b[0m\u001b[0;34m.\u001b[0m\u001b[0mabs\u001b[0m\u001b[0;34m(\u001b[0m\u001b[0mA\u001b[0m \u001b[0;34m-\u001b[0m \u001b[0mnp\u001b[0m\u001b[0;34m.\u001b[0m\u001b[0mround\u001b[0m\u001b[0;34m(\u001b[0m\u001b[0mA\u001b[0m\u001b[0;34m)\u001b[0m\u001b[0;34m)\u001b[0m\u001b[0;34m)\u001b[0m\u001b[0;34m/\u001b[0m\u001b[0mnp\u001b[0m\u001b[0;34m.\u001b[0m\u001b[0msum\u001b[0m\u001b[0;34m(\u001b[0m\u001b[0mTelAp\u001b[0m\u001b[0;34m)\u001b[0m\u001b[0;34m\u001b[0m\u001b[0m\n",
      "\u001b[0;32m/usr/stsci/ssbdev/python/lib/python2.7/site-packages/numpy/lib/npyio.pyc\u001b[0m in \u001b[0;36mloadtxt\u001b[0;34m(fname, dtype, comments, delimiter, converters, skiprows, usecols, unpack, ndmin)\u001b[0m\n\u001b[1;32m    735\u001b[0m                 \u001b[0mfh\u001b[0m \u001b[0;34m=\u001b[0m \u001b[0miter\u001b[0m\u001b[0;34m(\u001b[0m\u001b[0mbz2\u001b[0m\u001b[0;34m.\u001b[0m\u001b[0mBZ2File\u001b[0m\u001b[0;34m(\u001b[0m\u001b[0mfname\u001b[0m\u001b[0;34m)\u001b[0m\u001b[0;34m)\u001b[0m\u001b[0;34m\u001b[0m\u001b[0m\n\u001b[1;32m    736\u001b[0m             \u001b[0;32melif\u001b[0m \u001b[0msys\u001b[0m\u001b[0;34m.\u001b[0m\u001b[0mversion_info\u001b[0m\u001b[0;34m[\u001b[0m\u001b[0;36m0\u001b[0m\u001b[0;34m]\u001b[0m \u001b[0;34m==\u001b[0m \u001b[0;36m2\u001b[0m\u001b[0;34m:\u001b[0m\u001b[0;34m\u001b[0m\u001b[0m\n\u001b[0;32m--> 737\u001b[0;31m                 \u001b[0mfh\u001b[0m \u001b[0;34m=\u001b[0m \u001b[0miter\u001b[0m\u001b[0;34m(\u001b[0m\u001b[0mopen\u001b[0m\u001b[0;34m(\u001b[0m\u001b[0mfname\u001b[0m\u001b[0;34m,\u001b[0m \u001b[0;34m'U'\u001b[0m\u001b[0;34m)\u001b[0m\u001b[0;34m)\u001b[0m\u001b[0;34m\u001b[0m\u001b[0m\n\u001b[0m\u001b[1;32m    738\u001b[0m             \u001b[0;32melse\u001b[0m\u001b[0;34m:\u001b[0m\u001b[0;34m\u001b[0m\u001b[0m\n\u001b[1;32m    739\u001b[0m                 \u001b[0mfh\u001b[0m \u001b[0;34m=\u001b[0m \u001b[0miter\u001b[0m\u001b[0;34m(\u001b[0m\u001b[0mopen\u001b[0m\u001b[0;34m(\u001b[0m\u001b[0mfname\u001b[0m\u001b[0;34m)\u001b[0m\u001b[0;34m)\u001b[0m\u001b[0;34m\u001b[0m\u001b[0m\n",
      "\u001b[0;31mIOError\u001b[0m: [Errno 2] No such file or directory: '/astro/opticslab1/SCDA/Scripts/AMPL/LDZ_test/ApodSol_APLC_quart_hex3X025cobs1_N0125_FPM400M050_LSann25D80clear_Img100C_35DA080_BW10Nlam03fpres2_linbarhompre1.dat'"
     ]
    }
   ],
   "source": [
    "hexap_coron_noaligntol.get_metrics()"
   ]
  },
  {
   "cell_type": "code",
   "execution_count": 35,
   "metadata": {
    "collapsed": false
   },
   "outputs": [
    {
     "ename": "IOError",
     "evalue": "[Errno 2] No such file or directory: '/astro/opticslab1/SCDA/Scripts/AMPL/LDZ_test/ApodSol_APLC_quart_hex3X025cobs1_N0125_FPM400M050_LSann25D80clearTol05s29_Img100C_35DA080_BW10Nlam03fpres2_linbarpre1.dat'",
     "output_type": "error",
     "traceback": [
      "\u001b[0;31m---------------------------------------------------------------------------\u001b[0m",
      "\u001b[0;31mIOError\u001b[0m                                   Traceback (most recent call last)",
      "\u001b[0;32m<ipython-input-35-d20c7db56fc1>\u001b[0m in \u001b[0;36m<module>\u001b[0;34m()\u001b[0m\n\u001b[0;32m----> 1\u001b[0;31m \u001b[0mhexap_coron_aligntol\u001b[0m\u001b[0;34m.\u001b[0m\u001b[0mget_metrics\u001b[0m\u001b[0;34m(\u001b[0m\u001b[0;34m)\u001b[0m\u001b[0;34m\u001b[0m\u001b[0m\n\u001b[0m",
      "\u001b[0;32m/Users/ntz/SCDA/scda_pytools/scda.pyc\u001b[0m in \u001b[0;36mget_metrics\u001b[0;34m(self, fp2res, verbose)\u001b[0m\n\u001b[1;32m   1688\u001b[0m         \u001b[0mLS\u001b[0m \u001b[0;34m=\u001b[0m \u001b[0mnp\u001b[0m\u001b[0;34m.\u001b[0m\u001b[0mloadtxt\u001b[0m\u001b[0;34m(\u001b[0m\u001b[0mself\u001b[0m\u001b[0;34m.\u001b[0m\u001b[0mfileorg\u001b[0m\u001b[0;34m[\u001b[0m\u001b[0;34m'LS fname'\u001b[0m\u001b[0;34m]\u001b[0m\u001b[0;34m)\u001b[0m\u001b[0;34m\u001b[0m\u001b[0m\n\u001b[1;32m   1689\u001b[0m         \u001b[0mN\u001b[0m \u001b[0;34m=\u001b[0m \u001b[0mTelAp\u001b[0m\u001b[0;34m.\u001b[0m\u001b[0mshape\u001b[0m\u001b[0;34m[\u001b[0m\u001b[0;36m1\u001b[0m\u001b[0;34m]\u001b[0m\u001b[0;34m\u001b[0m\u001b[0m\n\u001b[0;32m-> 1690\u001b[0;31m         \u001b[0mA_col\u001b[0m \u001b[0;34m=\u001b[0m \u001b[0mnp\u001b[0m\u001b[0;34m.\u001b[0m\u001b[0mloadtxt\u001b[0m\u001b[0;34m(\u001b[0m\u001b[0mself\u001b[0m\u001b[0;34m.\u001b[0m\u001b[0mfileorg\u001b[0m\u001b[0;34m[\u001b[0m\u001b[0;34m'sol fname'\u001b[0m\u001b[0;34m]\u001b[0m\u001b[0;34m)\u001b[0m\u001b[0;34m[\u001b[0m\u001b[0;34m:\u001b[0m\u001b[0;34m,\u001b[0m\u001b[0;34m-\u001b[0m\u001b[0;36m1\u001b[0m\u001b[0;34m]\u001b[0m\u001b[0;34m\u001b[0m\u001b[0m\n\u001b[0m\u001b[1;32m   1691\u001b[0m         \u001b[0mA\u001b[0m \u001b[0;34m=\u001b[0m \u001b[0mA_col\u001b[0m\u001b[0;34m.\u001b[0m\u001b[0mreshape\u001b[0m\u001b[0;34m(\u001b[0m\u001b[0mTelAp\u001b[0m\u001b[0;34m.\u001b[0m\u001b[0mshape\u001b[0m\u001b[0;34m)\u001b[0m\u001b[0;34m\u001b[0m\u001b[0m\n\u001b[1;32m   1692\u001b[0m         \u001b[0mself\u001b[0m\u001b[0;34m.\u001b[0m\u001b[0meval_metrics\u001b[0m\u001b[0;34m[\u001b[0m\u001b[0;34m'apod nb res ratio'\u001b[0m\u001b[0;34m]\u001b[0m \u001b[0;34m=\u001b[0m \u001b[0mnp\u001b[0m\u001b[0;34m.\u001b[0m\u001b[0msum\u001b[0m\u001b[0;34m(\u001b[0m\u001b[0mnp\u001b[0m\u001b[0;34m.\u001b[0m\u001b[0mabs\u001b[0m\u001b[0;34m(\u001b[0m\u001b[0mA\u001b[0m \u001b[0;34m-\u001b[0m \u001b[0mnp\u001b[0m\u001b[0;34m.\u001b[0m\u001b[0mround\u001b[0m\u001b[0;34m(\u001b[0m\u001b[0mA\u001b[0m\u001b[0;34m)\u001b[0m\u001b[0;34m)\u001b[0m\u001b[0;34m)\u001b[0m\u001b[0;34m/\u001b[0m\u001b[0mnp\u001b[0m\u001b[0;34m.\u001b[0m\u001b[0msum\u001b[0m\u001b[0;34m(\u001b[0m\u001b[0mTelAp\u001b[0m\u001b[0;34m)\u001b[0m\u001b[0;34m\u001b[0m\u001b[0m\n",
      "\u001b[0;32m/usr/stsci/ssbdev/python/lib/python2.7/site-packages/numpy/lib/npyio.pyc\u001b[0m in \u001b[0;36mloadtxt\u001b[0;34m(fname, dtype, comments, delimiter, converters, skiprows, usecols, unpack, ndmin)\u001b[0m\n\u001b[1;32m    735\u001b[0m                 \u001b[0mfh\u001b[0m \u001b[0;34m=\u001b[0m \u001b[0miter\u001b[0m\u001b[0;34m(\u001b[0m\u001b[0mbz2\u001b[0m\u001b[0;34m.\u001b[0m\u001b[0mBZ2File\u001b[0m\u001b[0;34m(\u001b[0m\u001b[0mfname\u001b[0m\u001b[0;34m)\u001b[0m\u001b[0;34m)\u001b[0m\u001b[0;34m\u001b[0m\u001b[0m\n\u001b[1;32m    736\u001b[0m             \u001b[0;32melif\u001b[0m \u001b[0msys\u001b[0m\u001b[0;34m.\u001b[0m\u001b[0mversion_info\u001b[0m\u001b[0;34m[\u001b[0m\u001b[0;36m0\u001b[0m\u001b[0;34m]\u001b[0m \u001b[0;34m==\u001b[0m \u001b[0;36m2\u001b[0m\u001b[0;34m:\u001b[0m\u001b[0;34m\u001b[0m\u001b[0m\n\u001b[0;32m--> 737\u001b[0;31m                 \u001b[0mfh\u001b[0m \u001b[0;34m=\u001b[0m \u001b[0miter\u001b[0m\u001b[0;34m(\u001b[0m\u001b[0mopen\u001b[0m\u001b[0;34m(\u001b[0m\u001b[0mfname\u001b[0m\u001b[0;34m,\u001b[0m \u001b[0;34m'U'\u001b[0m\u001b[0;34m)\u001b[0m\u001b[0;34m)\u001b[0m\u001b[0;34m\u001b[0m\u001b[0m\n\u001b[0m\u001b[1;32m    738\u001b[0m             \u001b[0;32melse\u001b[0m\u001b[0;34m:\u001b[0m\u001b[0;34m\u001b[0m\u001b[0m\n\u001b[1;32m    739\u001b[0m                 \u001b[0mfh\u001b[0m \u001b[0;34m=\u001b[0m \u001b[0miter\u001b[0m\u001b[0;34m(\u001b[0m\u001b[0mopen\u001b[0m\u001b[0;34m(\u001b[0m\u001b[0mfname\u001b[0m\u001b[0;34m)\u001b[0m\u001b[0;34m)\u001b[0m\u001b[0;34m\u001b[0m\u001b[0m\n",
      "\u001b[0;31mIOError\u001b[0m: [Errno 2] No such file or directory: '/astro/opticslab1/SCDA/Scripts/AMPL/LDZ_test/ApodSol_APLC_quart_hex3X025cobs1_N0125_FPM400M050_LSann25D80clearTol05s29_Img100C_35DA080_BW10Nlam03fpres2_linbarpre1.dat'"
     ]
    }
   ],
   "source": [
    "hexap_coron_aligntol.get_metrics()"
   ]
  },
  {
   "cell_type": "markdown",
   "metadata": {
    "collapsed": true
   },
   "source": [
    "# Full-plane on-axis PSF evaluation"
   ]
  },
  {
   "cell_type": "code",
   "execution_count": null,
   "metadata": {
    "collapsed": false
   },
   "outputs": [],
   "source": [
    "TelAp_qp = np.loadtxt(hexap_coron_noaligntol.fileorg['TelAp fname'])\n",
    "TelAp = np.concatenate((np.concatenate((TelAp_qp[::-1,::-1], TelAp_qp[:,::-1]),axis=0),\n",
    "                        np.concatenate((TelAp_qp[::-1,:], TelAp_qp),axis=0)), axis=1)\n",
    "\n",
    "FPM_qp = np.loadtxt(hexap_coron_noaligntol.fileorg['FPM fname'])\n",
    "FPM = np.concatenate((np.concatenate((FPM_qp[::-1,::-1], FPM_qp[:,::-1]),axis=0),\n",
    "                      np.concatenate((FPM_qp[::-1,:], FPM_qp),axis=0)), axis=1)\n",
    "\n",
    "LS_qp = np.loadtxt(hexap_coron_noaligntol.fileorg['LS fname'])\n",
    "LS = np.concatenate((np.concatenate((LS_qp[::-1,::-1], LS_qp[:,::-1]),axis=0),\n",
    "                     np.concatenate((LS_qp[::-1,:], LS_qp),axis=0)), axis=1)\n",
    "\n",
    "LDZ_qp = np.loadtxt(hexap_coron_aligntol.fileorg['LDZ fname'])\n",
    "LDZ = np.concatenate((np.concatenate((LDZ_qp[::-1,::-1], LDZ_qp[:,::-1]),axis=0),\n",
    "                      np.concatenate((LDZ_qp[::-1,:], LDZ_qp),axis=0)), axis=1)\n",
    "\n",
    "An_col = np.loadtxt(hexap_coron_noaligntol.fileorg['sol fname'])[:,-1]\n",
    "An_qp = An_col.reshape(TelAp_qp.shape)\n",
    "An = np.concatenate((np.concatenate((An_qp[::-1,::-1], An_qp[:,::-1]),axis=0),\n",
    "                     np.concatenate((An_qp[::-1,:], An_qp),axis=0)), axis=1)\n",
    "#At_col = np.loadtxt(hexap_coron_aligntol.fileorg['sol fname'])[:,-1]\n",
    "At_qp = At_col.reshape(TelAp_qp.shape)\n",
    "#At = np.concatenate((np.concatenate((At_qp[::-1,::-1], At_qp[:,::-1]),axis=0),\n",
    "#                     np.concatenate((At_qp[::-1,:], At_qp),axis=0)), axis=1)\n",
    "\n",
    "plt.figure(figsize=(16,8))\n",
    "plt.subplot(121)\n",
    "plt.imshow(An*TelAp)\n",
    "plt.title('Apodizer, no tol.')\n",
    "plt.subplot(122)\n",
    "plt.imshow(At*TelAp)\n",
    "plt.title('Apodizer, with tol.')"
   ]
  },
  {
   "cell_type": "markdown",
   "metadata": {
    "collapsed": true
   },
   "source": [
    "## Create translated Lyot stop, check against design tolerance"
   ]
  },
  {
   "cell_type": "code",
   "execution_count": null,
   "metadata": {
    "collapsed": false
   },
   "outputs": [],
   "source": [
    "test_shift = (0,1)\n",
    "max_shift_tol = LS.shape[0]*float(hexap_coron_aligntol.design['LS']['aligntol'])/1000\n",
    "max_shift_tol_int = int(np.floor(max_shift_tol))\n",
    "print(\"The LDZ accomomdates a translation {0:.1f}% of D={1:d} pixels = {2:.2f} pixels, up to {3:d} whole pixels\".format(\n",
    "      float(hexap_coron_aligntol.design['LS']['aligntol'])/10, LS.shape[0], max_shift_tol, max_shift_tol_int))\n",
    "print(\"Testing an (x,y) translation of {0:} pixels. Beyond the design tolerance? {1:}\".format(\n",
    "      test_shift, test_shift[0]**2 + test_shift[1]**2 > max_shift_tol))\n",
    "LSe = np.roll(np.roll(LS, test_shift[0], axis=1), test_shift[1], axis=0)\n",
    "LS_err_mask = np.ceil(np.abs(LSe - LS)).astype(bool)\n",
    "\n",
    "print(\"LDZ encompasses the LS transmission error region? {0:}\".format(\n",
    "        ~np.any(np.logical_and(LS_err_mask, ~LDZ.astype(bool)))))\n",
    "\n",
    "print(\"Total unconstrained \\\"leak\\\" area after translation = {0:d} pixels\".format(\n",
    "      int(np.sum(np.logical_and(LS_err_mask, ~LDZ.astype(bool))))))"
   ]
  },
  {
   "cell_type": "code",
   "execution_count": null,
   "metadata": {
    "collapsed": false
   },
   "outputs": [],
   "source": [
    "plt.figure(figsize=(16,6))\n",
    "plt.subplot(131)\n",
    "plt.imshow(LSe - LS)\n",
    "lims = plt.axis('off')\n",
    "t=plt.title('Change in Lyot stop transmission profile')\n",
    "plt.subplot(132)\n",
    "plt.imshow(~LDZ.astype(bool))\n",
    "lims = plt.axis('off')\n",
    "t=plt.title('Inverse of LDZ mask')\n",
    "plt.subplot(133)\n",
    "plt.imshow(np.logical_and(LS_err_mask, ~LDZ.astype(bool)))\n",
    "lims = plt.axis('off')\n",
    "t=plt.title('Lyot leak region (black is good)')"
   ]
  },
  {
   "cell_type": "markdown",
   "metadata": {
    "collapsed": true
   },
   "source": [
    "## Define coordinates and dimensions"
   ]
  },
  {
   "cell_type": "code",
   "execution_count": null,
   "metadata": {
    "collapsed": true
   },
   "outputs": [],
   "source": [
    "D = 1.\n",
    "N = hexap_coron_aligntol.design['Pupil']['N']\n",
    "bw = hexap_coron_aligntol.design['Image']['bw']\n",
    "Nlambda = hexap_coron_aligntol.design['Image']['Nlam']\n",
    "M_fp1 = hexap_coron_aligntol.design['FPM']['M']\n",
    "fpm_rad = hexap_coron_aligntol.design['FPM']['rad']\n",
    "rho2 = hexap_coron_aligntol.design['Image']['oda'] + 1.\n",
    "fp2res = 8.\n",
    "M_fp2 = int(np.ceil(rho2*fp2res))\n",
    "\n",
    "# pupil plane\n",
    "dx = (D/2)/N\n",
    "dy = dx\n",
    "xs = np.matrix(np.linspace(-N+0.5,N-0.5,2*N)*dx)\n",
    "ys = xs\n",
    "\n",
    "# FPM\n",
    "dmx = fpm_rad/M_fp1\n",
    "dmy = dmx\n",
    "mxs = np.matrix(np.linspace(-M_fp1+0.5,M_fp1-0.5,2*M_fp1)*dmx)\n",
    "mys = mxs\n",
    "\n",
    "# FP2\n",
    "dxi = 1/fp2res\n",
    "xis = np.matrix(np.linspace(-M_fp2+0.5,M_fp2-0.5,2*M_fp2)*dxi)\n",
    "etas = xis\n",
    "\n",
    "# wavelength ratios\n",
    "wrs = np.linspace(1.-bw/2, 1.+bw/2, Nlambda)"
   ]
  },
  {
   "cell_type": "code",
   "execution_count": null,
   "metadata": {
    "collapsed": true
   },
   "outputs": [],
   "source": [
    "#wrs = [0.95, 1., 1.02]"
   ]
  },
  {
   "cell_type": "markdown",
   "metadata": {
    "collapsed": true
   },
   "source": [
    "## Fourier propagation"
   ]
  },
  {
   "cell_type": "code",
   "execution_count": null,
   "metadata": {
    "collapsed": true
   },
   "outputs": [],
   "source": [
    "def get_onax_aplc_psf(TelAp, A, FPM, LS, xs, dx, mxs, dmx, xis, dxi, wrs):\n",
    "    intens_D_polychrom = []\n",
    "    for wr in wrs:\n",
    "        Psi_B = dx*dx/wr*np.dot(np.dot(np.exp(-1j*2*np.pi/wr*np.dot(mxs.T, xs)), TelAp*A ),\n",
    "                                       np.exp(-1j*2*np.pi/wr*np.dot(xs.T, mxs)))\n",
    "        Psi_B_stop = np.multiply(Psi_B, FPM)\n",
    "        Psi_C = A*TelAp - dmx*dmx/wr*np.dot(np.dot(np.exp(-1j*2*np.pi/wr*np.dot(xs.T, mxs)), Psi_B_stop),\n",
    "                                                   np.exp(-1j*2*np.pi/wr*np.dot(mxs.T, xs)))\n",
    "        Psi_C_stop = np.multiply(Psi_C, LS)\n",
    "        Psi_D = dx*dx/wr*np.dot(np.dot(np.exp(-1j*2*np.pi/wr*np.dot(xis.T, xs)), Psi_C_stop),\n",
    "                                       np.exp(-1j*2*np.pi/wr*np.dot(xs.T, xis)))\n",
    "        Psi_D_0_peak = np.sum(A*TelAp*LS)*dx*dx/wr\n",
    "\n",
    "#        Psi_D_0 = dx*dx/wr*np.dot(np.dot(np.exp(-1j*2*np.pi/wr*np.dot(xis.T, xs)), A*TelAp*LS),\n",
    "#                                         np.exp(-1j*2*np.pi/wr*np.dot(xs.T, xis)))\n",
    "#        intens_D_0 = np.power(np.absolute(Psi_D_0), 2)\n",
    "#        intens_D_0_peak = Psi_D_0_peak**2\n",
    "        intens_D_polychrom.append(np.power(np.absolute(Psi_D)/Psi_D_0_peak, 2))\n",
    "    return intens_D_polychrom"
   ]
  },
  {
   "cell_type": "code",
   "execution_count": null,
   "metadata": {
    "collapsed": false
   },
   "outputs": [],
   "source": [
    "intens_n_polychrom = get_onax_aplc_psf(TelAp, An, FPM, LS, xs, dx, mxs, dmx, xis, dxi, wrs)\n",
    "intens_ne_polychrom = get_onax_aplc_psf(TelAp, An, FPM, LSe, xs, dx, mxs, dmx, xis, dxi, wrs)\n",
    "intens_t_polychrom = get_onax_aplc_psf(TelAp, At, FPM, LS, xs, dx, mxs, dmx, xis, dxi, wrs)\n",
    "intens_te_polychrom = get_onax_aplc_psf(TelAp, At, FPM, LSe, xs, dx, mxs, dmx, xis, dxi, wrs)"
   ]
  },
  {
   "cell_type": "code",
   "execution_count": null,
   "metadata": {
    "collapsed": false,
    "scrolled": true
   },
   "outputs": [],
   "source": [
    "plt.figure(figsize=(16,12))\n",
    "plt.subplot(221)\n",
    "plt.imshow(np.log10(intens_n_polychrom[2]), vmin=-11, vmax=-7, cmap='CMRmap')\n",
    "plt.colorbar()\n",
    "plt.title('On-axis PSF, design without LS alignment tolerance, perfect alignment')\n",
    "\n",
    "plt.subplot(222)\n",
    "plt.imshow(np.log10(intens_ne_polychrom[1]), cmap='CMRmap')\n",
    "plt.colorbar()\n",
    "plt.title('On-axis PSF, design without LS alignment tolerance, translated LS')\n",
    "\n",
    "plt.subplot(223)\n",
    "plt.imshow(np.log10(intens_t_polychrom[1]), vmin=-11, vmax=-7, cmap='CMRmap')\n",
    "plt.colorbar()\n",
    "plt.title('On-axis PSF, design with LS alignment tolerance, perfect alignment')\n",
    "\n",
    "plt.subplot(224)\n",
    "plt.imshow(np.log10(intens_te_polychrom[1]), vmin=-11, vmax=-7, cmap='CMRmap')\n",
    "plt.colorbar()\n",
    "plt.title('On-axis PSF, design with LS alignment tolerance, translated LS')"
   ]
  },
  {
   "cell_type": "markdown",
   "metadata": {},
   "source": [
    "## Intensity curve"
   ]
  },
  {
   "cell_type": "code",
   "execution_count": null,
   "metadata": {
    "collapsed": false
   },
   "outputs": [],
   "source": [
    "def get_radial_intens(intens_polychrom, xis, seps, wrs):\n",
    "    radial_intens_polychrom = np.zeros((len(wrs), len(seps)))\n",
    "    XXs = np.asarray(np.dot(np.matrix(np.ones(xis.shape)).T, xis))\n",
    "    YYs = np.asarray(np.dot(etas.T, np.matrix(np.ones(etas.shape))))\n",
    "    RRs = np.sqrt(XXs**2 + YYs**2)\n",
    "\n",
    "    for si, sep in enumerate(seps):\n",
    "        r_in = np.max([seps[0], sep-0.5])\n",
    "        r_out = np.min([seps[-1], sep+0.5])\n",
    "        meas_ann_mask = np.logical_and(np.greater_equal(RRs, r_in),\n",
    "                                       np.less_equal(RRs, r_out))\n",
    "        #meas_ann_ind = np.nonzero(meas_ann_mask)\n",
    "        meas_ann_ind = np.nonzero(np.logical_and(np.greater_equal(RRs, r_in).ravel(),\n",
    "                                                 np.less_equal(RRs, r_out).ravel()))[0]\n",
    "        for wi, wr in enumerate(wrs):\n",
    "            radial_intens_polychrom[wi, si] = np.mean(np.ravel(intens_polychrom[wi])[meas_ann_ind])\n",
    "    return radial_intens_polychrom"
   ]
  },
  {
   "cell_type": "code",
   "execution_count": null,
   "metadata": {
    "collapsed": false
   },
   "outputs": [],
   "source": [
    "rho0 = hexap_coron_aligntol.design['Image']['ida']\n",
    "rho1 = hexap_coron_aligntol.design['Image']['oda'] + 1\n",
    "seps = np.arange(rho0, rho1, 0.25)\n",
    "\n",
    "radial_intens_n_polychrom = get_radial_intens(intens_n_polychrom, xis, seps, wrs)\n",
    "radial_intens_ne_polychrom = get_radial_intens(intens_ne_polychrom, xis, seps, wrs)\n",
    "radial_intens_t_polychrom = get_radial_intens(intens_t_polychrom, xis, seps, wrs)\n",
    "radial_intens_te_polychrom = get_radial_intens(intens_te_polychrom, xis, seps, wrs)"
   ]
  },
  {
   "cell_type": "code",
   "execution_count": null,
   "metadata": {
    "collapsed": false
   },
   "outputs": [],
   "source": [
    "plt.figure(figsize=(16,12))\n",
    "\n",
    "plt.subplot(221)\n",
    "plt.plot(seps, np.log10(radial_intens_n_polychrom[0]))\n",
    "plt.plot(seps, np.log10(radial_intens_n_polychrom[1]))\n",
    "plt.plot(seps, np.log10(radial_intens_n_polychrom[2]))\n",
    "plt.legend(['blue','center','red'], loc='upper left')\n",
    "plt.xlabel('angular sep. (lambda_0/D)')\n",
    "plt.ylabel('log10(I/I0)')\n",
    "plt.title('On-axis PSF, design without LS alignment tolerance, perfect alignment')\n",
    "\n",
    "plt.subplot(222)\n",
    "plt.plot(seps, np.log10(radial_intens_ne_polychrom[0]))\n",
    "plt.plot(seps, np.log10(radial_intens_ne_polychrom[1]))\n",
    "plt.plot(seps, np.log10(radial_intens_ne_polychrom[2]))\n",
    "plt.legend(['blue','center','red'], loc='upper left')\n",
    "plt.xlabel('angular sep. (lambda_0/D)')\n",
    "plt.ylabel('log10(I/I0)')\n",
    "plt.title('On-axis PSF, design without LS alignment tolerance, translated LS')\n",
    "\n",
    "plt.subplot(223)\n",
    "plt.plot(seps, np.log10(radial_intens_t_polychrom[0]))\n",
    "plt.plot(seps, np.log10(radial_intens_t_polychrom[1]))\n",
    "plt.plot(seps, np.log10(radial_intens_t_polychrom[2]))\n",
    "plt.legend(['blue','center','red'], loc='upper left')\n",
    "plt.xlabel('angular sep. (lambda_0/D)')\n",
    "plt.ylabel('log10(I/I0)')\n",
    "plt.title('On-axis PSF, design with LS alignment tolerance, perfect alignment')\n",
    "\n",
    "plt.subplot(224)\n",
    "plt.plot(seps, np.log10(radial_intens_te_polychrom[0]))\n",
    "plt.plot(seps, np.log10(radial_intens_te_polychrom[1]))\n",
    "plt.plot(seps, np.log10(radial_intens_te_polychrom[2]))\n",
    "plt.legend(['blue','center','red'], loc='upper left')\n",
    "plt.xlabel('angular sep. (lambda_0/D)')\n",
    "plt.ylabel('log10(I/I0)')\n",
    "plt.title('On-axis PSF, design with LS alignment tolerance, translated LS')"
   ]
  },
  {
   "cell_type": "code",
   "execution_count": null,
   "metadata": {
    "collapsed": true
   },
   "outputs": [],
   "source": []
  }
 ],
 "metadata": {
  "kernelspec": {
   "display_name": "Python 2",
   "language": "python",
   "name": "python2"
  },
  "language_info": {
   "codemirror_mode": {
    "name": "ipython",
    "version": 2
   },
   "file_extension": ".py",
   "mimetype": "text/x-python",
   "name": "python",
   "nbconvert_exporter": "python",
   "pygments_lexer": "ipython2",
   "version": "2.7.5"
  }
 },
 "nbformat": 4,
 "nbformat_minor": 0
}

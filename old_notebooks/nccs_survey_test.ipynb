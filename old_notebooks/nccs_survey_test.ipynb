{
 "cells": [
  {
   "cell_type": "code",
   "execution_count": 1,
   "metadata": {
    "collapsed": false
   },
   "outputs": [],
   "source": [
    "import scda\n",
    "import pprint\n",
    "import logging\n",
    "import os\n",
    "scda.configure_log()"
   ]
  },
  {
   "cell_type": "markdown",
   "metadata": {},
   "source": [
    "# Prepare a design survey test to run on NCCS Discover"
   ]
  },
  {
   "cell_type": "code",
   "execution_count": 2,
   "metadata": {
    "collapsed": true
   },
   "outputs": [],
   "source": [
    "survey_params = {'Pupil': { 'prim': ['hex1', 'hex2', 'hex3', 'hex4'],\n",
    "                 'secobs': 'X',\n",
    "                 'thick': '025',\n",
    "                 'centobs': [True],\n",
    "                 'N': 250 },\n",
    "                 'FPM': { 'rad': 4. },\n",
    "                 'LS': { 'shape':'ann', 'obscure':1, 'spad':[5,10], 'id':[20, 25, 30], 'od':85 },\n",
    "                 'Image': { 'ida':3.5, 'bw':0.10, 'Nlam':3 }}"
   ]
  },
  {
   "cell_type": "code",
   "execution_count": 3,
   "metadata": {
    "collapsed": false
   },
   "outputs": [],
   "source": [
    "survey_dir = \"./nccs_survey_test/\"\n",
    "ampl_src_dir = os.path.join(survey_dir, \"amplsrc\")\n",
    "sol_dir = os.path.join(survey_dir, \"solutions\")\n",
    "log_dir = os.path.join(survey_dir, \"logs\")\n",
    "TelAp_dir = \"./InputMasks/TelAp\"\n",
    "LS_dir = \"./InputMasks/LS\"\n",
    "FPM_dir = \"./InputMasks/FPM\"\n",
    "\n",
    "fileorg = {'work dir':survey_dir, 'ampl src dir':ampl_src_dir, 'log dir':log_dir, 'sol dir':sol_dir,\n",
    "           'TelAp dir':TelAp_dir, 'LS dir':LS_dir, 'FPM dir':FPM_dir}"
   ]
  },
  {
   "cell_type": "markdown",
   "metadata": {},
   "source": [
    "## Initiate a survey object with the above parameter combinations "
   ]
  },
  {
   "cell_type": "code",
   "execution_count": 4,
   "metadata": {
    "collapsed": false
   },
   "outputs": [
    {
     "name": "stdout",
     "output_type": "stream",
     "text": [
      "This survey has 24 design parameter combinations.\n",
      "4 parameters are varied: (('Pupil', 'prim'), ('Pupil', 'centobs'), ('LS', 'id'), ('LS', 'spad'))\n"
     ]
    }
   ],
   "source": [
    "hexap_survey = scda.DesignParamSurvey(scda.QuarterplaneAPLC, survey_params, fileorg=fileorg)\n",
    "print(\"This survey has {0:d} design parameter combinations.\".format(hexap_survey.N_combos))\n",
    "print(\"{0:d} parameters are varied: {1}\".format(len(hexap_survey.varied_param_index), hexap_survey.varied_param_index))"
   ]
  },
  {
   "cell_type": "markdown",
   "metadata": {},
   "source": [
    "## Show the file organization scheme"
   ]
  },
  {
   "cell_type": "code",
   "execution_count": 5,
   "metadata": {
    "collapsed": false
   },
   "outputs": [
    {
     "name": "stdout",
     "output_type": "stream",
     "text": [
      "{'FPM dir': './InputMasks/FPM',\n",
      " 'LS dir': './InputMasks/LS',\n",
      " 'TelAp dir': './InputMasks/TelAp',\n",
      " 'ampl src dir': './nccs_survey_test/amplsrc',\n",
      " 'eval dir': './nccs_survey_test/',\n",
      " 'exec script dir': './nccs_survey_test/',\n",
      " 'log dir': './nccs_survey_test/logs',\n",
      " 'sol dir': './nccs_survey_test/solutions',\n",
      " 'work dir': './nccs_survey_test/'}\n"
     ]
    }
   ],
   "source": [
    "pprint.pprint(hexap_survey.fileorg)"
   ]
  },
  {
   "cell_type": "markdown",
   "metadata": {},
   "source": [
    "## Show some attributes of an individual coronagraph object"
   ]
  },
  {
   "cell_type": "code",
   "execution_count": 6,
   "metadata": {
    "collapsed": false
   },
   "outputs": [
    {
     "name": "stdout",
     "output_type": "stream",
     "text": [
      "Telescope aperture file for design #1: ./InputMasks/TelAp/TelAp_quart_hex1X025cobs1_N0250.dat\n",
      "Focal plane mask file for design #1: ./InputMasks/FPM/FPM_quart_occspot_M050.dat\n",
      "Lyot stop file for design #1: ./InputMasks/LS/LS_quart_ann20D85_X025cobs1Pad05_N0250.dat\n"
     ]
    }
   ],
   "source": [
    "#i = 100\n",
    "i = 0\n",
    "print(\"Telescope aperture file for design #{:d}: {:s}\".format(i+1, hexap_survey.coron_list[i].fileorg['TelAp fname']))\n",
    "print(\"Focal plane mask file for design #{:d}: {:s}\".format(i+1, hexap_survey.coron_list[i].fileorg['FPM fname']))\n",
    "print(\"Lyot stop file for design #{:d}: {:s}\".format(i+1, hexap_survey.coron_list[i].fileorg['LS fname']))"
   ]
  },
  {
   "cell_type": "markdown",
   "metadata": {},
   "source": [
    "### Check the status of input files needed to run the AMPL program"
   ]
  },
  {
   "cell_type": "code",
   "execution_count": 7,
   "metadata": {
    "collapsed": false
   },
   "outputs": [
    {
     "data": {
      "text/plain": [
       "False"
      ]
     },
     "execution_count": 7,
     "metadata": {},
     "output_type": "execute_result"
    }
   ],
   "source": [
    "hexap_survey.check_ampl_input_files()"
   ]
  },
  {
   "cell_type": "markdown",
   "metadata": {},
   "source": [
    "## List the varying parameter combinations"
   ]
  },
  {
   "cell_type": "code",
   "execution_count": 8,
   "metadata": {
    "collapsed": false
   },
   "outputs": [],
   "source": [
    "# pprint.pprint(hexap_survey.varied_param_combos)"
   ]
  },
  {
   "cell_type": "markdown",
   "metadata": {},
   "source": [
    "## Write the batch of AMPL files"
   ]
  },
  {
   "cell_type": "code",
   "execution_count": 9,
   "metadata": {
    "collapsed": false,
    "scrolled": false
   },
   "outputs": [
    {
     "name": "stderr",
     "output_type": "stream",
     "text": [
      "INFO:root:Wrote the batch of design survey AMPL programs into ./nccs_survey_test/amplsrc\n"
     ]
    }
   ],
   "source": [
    "hexap_survey.write_ampl_batch(override_infile_status=True, overwrite=True)"
   ]
  },
  {
   "cell_type": "markdown",
   "metadata": {},
   "source": [
    "## Write the batch of queue execution scripts"
   ]
  },
  {
   "cell_type": "code",
   "execution_count": 10,
   "metadata": {
    "collapsed": false,
    "scrolled": false
   },
   "outputs": [
    {
     "name": "stderr",
     "output_type": "stream",
     "text": [
      "INFO:root:Wrote the batch of execution scripts into ./nccs_survey_test/\n"
     ]
    }
   ],
   "source": [
    "hexap_survey.write_exec_script_batch(overwrite=True)"
   ]
  },
  {
   "cell_type": "markdown",
   "metadata": {
    "collapsed": true
   },
   "source": [
    "## Write tables summarizing the design survey configuration and status to a spreadsheet"
   ]
  },
  {
   "cell_type": "code",
   "execution_count": 11,
   "metadata": {
    "collapsed": false
   },
   "outputs": [
    {
     "name": "stderr",
     "output_type": "stream",
     "text": [
      "INFO:root:Wrote design survey spreadsheet to ./nccs_survey_test/scda_QuarterplaneAPLC_survey_ntz_2016-03-30.csv\n"
     ]
    }
   ],
   "source": [
    "hexap_survey.write_spreadsheet()"
   ]
  },
  {
   "cell_type": "markdown",
   "metadata": {},
   "source": [
    "## Store the design survey as a serialized python object"
   ]
  },
  {
   "cell_type": "code",
   "execution_count": 12,
   "metadata": {
    "collapsed": false
   },
   "outputs": [
    {
     "name": "stderr",
     "output_type": "stream",
     "text": [
      "INFO:root:Wrote the design parameter survey object to ./nccs_survey_test/scda_QuarterplaneAPLC_survey_ntz_2016-03-30.pkl\n"
     ]
    }
   ],
   "source": [
    "hexap_survey.write()"
   ]
  },
  {
   "cell_type": "markdown",
   "metadata": {},
   "source": [
    "## Load an existing design survey"
   ]
  },
  {
   "cell_type": "code",
   "execution_count": 13,
   "metadata": {
    "collapsed": false
   },
   "outputs": [],
   "source": [
    "mysurvey = scda.load_design_param_survey(hexap_survey.fileorg['survey fname'])"
   ]
  },
  {
   "cell_type": "code",
   "execution_count": null,
   "metadata": {
    "collapsed": true
   },
   "outputs": [],
   "source": []
  }
 ],
 "metadata": {
  "kernelspec": {
   "display_name": "Python 2",
   "language": "python",
   "name": "python2"
  },
  "language_info": {
   "codemirror_mode": {
    "name": "ipython",
    "version": 2
   },
   "file_extension": ".py",
   "mimetype": "text/x-python",
   "name": "python",
   "nbconvert_exporter": "python",
   "pygments_lexer": "ipython2",
   "version": "2.7.5"
  }
 },
 "nbformat": 4,
 "nbformat_minor": 0
}

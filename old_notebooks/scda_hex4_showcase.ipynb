{
 "cells": [
  {
   "cell_type": "code",
   "execution_count": 2,
   "metadata": {
    "collapsed": false
   },
   "outputs": [],
   "source": [
    "import scda\n",
    "import pprint\n",
    "import logging\n",
    "import os\n",
    "scda.configure_log()"
   ]
  },
  {
   "cell_type": "markdown",
   "metadata": {},
   "source": [
    "# Prepare a single SCDA design"
   ]
  },
  {
   "cell_type": "markdown",
   "metadata": {},
   "source": [
    "## Set the design parameters"
   ]
  },
  {
   "cell_type": "code",
   "execution_count": 3,
   "metadata": {
    "collapsed": false
   },
   "outputs": [],
   "source": [
    "pupil_params = {'N': 300, 'prim':'hex4', 'centobs':True, 'secobs':'X', 'thick':'025'}\n",
    "fpm_params = {'rad': 4.}\n",
    "ls_params = {'shape':'ann', 'obscure':1, 'ppad':0, 'spad':5, 'id':25, 'od':90}\n",
    "image_params = {'c': 10., 'ida':3.5, 'oda':10., 'bw':0.10, 'Nlam':3}"
   ]
  },
  {
   "cell_type": "code",
   "execution_count": 4,
   "metadata": {
    "collapsed": false
   },
   "outputs": [],
   "source": [
    "ampl_dir = \"../hex4_design_test_ntz\" # where to write the AMPL source code\n",
    "if not os.path.exists(ampl_dir):\n",
    "    os.mkdir(ampl_dir)\n",
    "#input_dir = \"/astro/opticslab1/SCDA/Apertures/STSCI\" # location of input TelAp, FPM, and LS arrays\n",
    "input_dir = \"../Apertures/STSCI/\" # location of input TelAp, FPM, and LS arrays\n",
    "sol_dir = \"../hex4_design_test_ntz\""
   ]
  },
  {
   "cell_type": "code",
   "execution_count": 5,
   "metadata": {
    "collapsed": true
   },
   "outputs": [],
   "source": [
    "design_params = {'Pupil': pupil_params, 'FPM': fpm_params, 'LS': ls_params, 'Image': image_params}\n",
    "fileorg = {'work dir': ampl_dir, 'TelAp dir': input_dir,\n",
    "           'FPM dir': input_dir, 'LS dir': input_dir, 'sol dir': sol_dir}\n",
    "#solver_params = {'method': 'barhom'}\n",
    "solver_params = {'method': 'bar'}"
   ]
  },
  {
   "cell_type": "markdown",
   "metadata": {},
   "source": [
    "## Initiate a coronagraph object with the above parameters "
   ]
  },
  {
   "cell_type": "code",
   "execution_count": 6,
   "metadata": {
    "collapsed": false
   },
   "outputs": [
    {
     "name": "stderr",
     "output_type": "stream",
     "text": [
      "WARNING:root:Warning: The specified location of 'TelAp dir', \"../Apertures/STSCI/\" does not exist\n",
      "WARNING:root:Warning: The specified location of 'FPM dir', \"../Apertures/STSCI/\" does not exist\n",
      "WARNING:root:Warning: The specified location of 'LS dir', \"../Apertures/STSCI/\" does not exist\n"
     ]
    }
   ],
   "source": [
    "hexap_coron = scda.QuarterplaneAPLC(design=design_params, fileorg=fileorg, solver=solver_params)"
   ]
  },
  {
   "cell_type": "markdown",
   "metadata": {},
   "source": [
    "## Show the file organization for the coronagraph"
   ]
  },
  {
   "cell_type": "code",
   "execution_count": 7,
   "metadata": {
    "collapsed": false
   },
   "outputs": [
    {
     "data": {
      "text/plain": [
       "{'FPM dir': '../Apertures/STSCI/',\n",
       " 'FPM fname': '../Apertures/STSCI/FPM_quart_occspot_M050.dat',\n",
       " 'LS dir': '../Apertures/STSCI/',\n",
       " 'LS fname': '../Apertures/STSCI/LS_quart_ann25D90_X025cobs1Pad05_N0300.dat',\n",
       " 'TelAp dir': '../Apertures/STSCI/',\n",
       " 'TelAp fname': '../Apertures/STSCI/TelAp_quart_hex4X025cobs1_N0300.dat',\n",
       " 'ampl src dir': '../hex4_design_test_ntz',\n",
       " 'ampl src fname': '../hex4_design_test_ntz/APLC_quart_hex4X025cobs1_N0300_FPM400M050_LSann25D90X025cobs1Pad05_Img100C_35DA100_BW10Nlam03fpres2_linbarpre1.mod',\n",
       " 'eval dir': '../hex4_design_test_ntz',\n",
       " 'exec script dir': '../hex4_design_test_ntz',\n",
       " 'exec script fname': '../hex4_design_test_ntz/APLC_quart_hex4X025cobs1_N0300_FPM400M050_LSann25D90X025cobs1Pad05_Img100C_35DA100_BW10Nlam03fpres2_linbarpre1.sh',\n",
       " 'job name': 'APLC_quart_hex4X025cobs1_N0300_FPM400M050_LSann25D90X025cobs1Pad05_Img100C_35DA100_BW10Nlam03fpres2_linbarpre1',\n",
       " 'log dir': '../hex4_design_test_ntz',\n",
       " 'log fname': '../hex4_design_test_ntz/APLC_quart_hex4X025cobs1_N0300_FPM400M050_LSann25D90X025cobs1Pad05_Img100C_35DA100_BW10Nlam03fpres2_linbarpre1.log',\n",
       " 'sol dir': '../hex4_design_test_ntz',\n",
       " 'sol fname': '../hex4_design_test_ntz/ApodSol_APLC_quart_hex4X025cobs1_N0300_FPM400M050_LSann25D90X025cobs1Pad05_Img100C_35DA100_BW10Nlam03fpres2_linbarpre1.dat',\n",
       " 'work dir': '../hex4_design_test_ntz'}"
      ]
     },
     "execution_count": 7,
     "metadata": {},
     "output_type": "execute_result"
    }
   ],
   "source": [
    "hexap_coron.fileorg"
   ]
  },
  {
   "cell_type": "markdown",
   "metadata": {},
   "source": [
    "### Check the status of input files needed to run the AMPL program"
   ]
  },
  {
   "cell_type": "code",
   "execution_count": 8,
   "metadata": {
    "collapsed": false
   },
   "outputs": [
    {
     "data": {
      "text/plain": [
       "False"
      ]
     },
     "execution_count": 8,
     "metadata": {},
     "output_type": "execute_result"
    }
   ],
   "source": [
    "hexap_coron.check_ampl_input_files()"
   ]
  },
  {
   "cell_type": "markdown",
   "metadata": {},
   "source": [
    "## Write the AMPL source file"
   ]
  },
  {
   "cell_type": "code",
   "execution_count": 9,
   "metadata": {
    "collapsed": false,
    "scrolled": false
   },
   "outputs": [
    {
     "name": "stderr",
     "output_type": "stream",
     "text": [
      "INFO:root:Wrote ../hex4_design_test_ntz/APLC_quart_hex4X025cobs1_N0300_FPM400M050_LSann25D90X025cobs1Pad05_Img100C_35DA100_BW10Nlam03fpres2_linbarpre1.mod\n"
     ]
    }
   ],
   "source": [
    "hexap_coron.write_ampl(override_infile_status=True, overwrite=False)"
   ]
  },
  {
   "cell_type": "markdown",
   "metadata": {
    "collapsed": true
   },
   "source": [
    "## Evaluate basic coronagraph metrics"
   ]
  },
  {
   "cell_type": "code",
   "execution_count": 10,
   "metadata": {
    "collapsed": false
   },
   "outputs": [
    {
     "ename": "IOError",
     "evalue": "[Errno 2] No such file or directory: '../Apertures/STSCI/TelAp_quart_hex4X025cobs1_N0300.dat'",
     "output_type": "error",
     "traceback": [
      "\u001b[0;31m---------------------------------------------------------------------------\u001b[0m",
      "\u001b[0;31mIOError\u001b[0m                                   Traceback (most recent call last)",
      "\u001b[0;32m<ipython-input-10-060571aeeee1>\u001b[0m in \u001b[0;36m<module>\u001b[0;34m()\u001b[0m\n\u001b[0;32m----> 1\u001b[0;31m \u001b[0mhexap_coron\u001b[0m\u001b[0;34m.\u001b[0m\u001b[0mget_metrics\u001b[0m\u001b[0;34m(\u001b[0m\u001b[0;34m)\u001b[0m\u001b[0;34m\u001b[0m\u001b[0m\n\u001b[0m",
      "\u001b[0;32m/Users/ntz/SCDA/scda_pytools/scda.pyc\u001b[0m in \u001b[0;36mget_metrics\u001b[0;34m(self, fp2res, verbose)\u001b[0m\n\u001b[1;32m   1566\u001b[0m \u001b[0;34m\u001b[0m\u001b[0m\n\u001b[1;32m   1567\u001b[0m     \u001b[0;32mdef\u001b[0m \u001b[0mget_metrics\u001b[0m\u001b[0;34m(\u001b[0m\u001b[0mself\u001b[0m\u001b[0;34m,\u001b[0m \u001b[0mfp2res\u001b[0m\u001b[0;34m=\u001b[0m\u001b[0;36m16\u001b[0m\u001b[0;34m,\u001b[0m \u001b[0mverbose\u001b[0m\u001b[0;34m=\u001b[0m\u001b[0mTrue\u001b[0m\u001b[0;34m)\u001b[0m\u001b[0;34m:\u001b[0m\u001b[0;34m\u001b[0m\u001b[0m\n\u001b[0;32m-> 1568\u001b[0;31m         \u001b[0mTelAp\u001b[0m \u001b[0;34m=\u001b[0m \u001b[0mnp\u001b[0m\u001b[0;34m.\u001b[0m\u001b[0mloadtxt\u001b[0m\u001b[0;34m(\u001b[0m\u001b[0mself\u001b[0m\u001b[0;34m.\u001b[0m\u001b[0mfileorg\u001b[0m\u001b[0;34m[\u001b[0m\u001b[0;34m'TelAp fname'\u001b[0m\u001b[0;34m]\u001b[0m\u001b[0;34m)\u001b[0m\u001b[0;34m\u001b[0m\u001b[0m\n\u001b[0m\u001b[1;32m   1569\u001b[0m         \u001b[0mFPM\u001b[0m \u001b[0;34m=\u001b[0m \u001b[0mnp\u001b[0m\u001b[0;34m.\u001b[0m\u001b[0mloadtxt\u001b[0m\u001b[0;34m(\u001b[0m\u001b[0mself\u001b[0m\u001b[0;34m.\u001b[0m\u001b[0mfileorg\u001b[0m\u001b[0;34m[\u001b[0m\u001b[0;34m'FPM fname'\u001b[0m\u001b[0;34m]\u001b[0m\u001b[0;34m)\u001b[0m\u001b[0;34m\u001b[0m\u001b[0m\n\u001b[1;32m   1570\u001b[0m         \u001b[0mLS\u001b[0m \u001b[0;34m=\u001b[0m \u001b[0mnp\u001b[0m\u001b[0;34m.\u001b[0m\u001b[0mloadtxt\u001b[0m\u001b[0;34m(\u001b[0m\u001b[0mself\u001b[0m\u001b[0;34m.\u001b[0m\u001b[0mfileorg\u001b[0m\u001b[0;34m[\u001b[0m\u001b[0;34m'LS fname'\u001b[0m\u001b[0;34m]\u001b[0m\u001b[0;34m)\u001b[0m\u001b[0;34m\u001b[0m\u001b[0m\n",
      "\u001b[0;32m/usr/stsci/ssbdev/python/lib/python2.7/site-packages/numpy/lib/npyio.pyc\u001b[0m in \u001b[0;36mloadtxt\u001b[0;34m(fname, dtype, comments, delimiter, converters, skiprows, usecols, unpack, ndmin)\u001b[0m\n\u001b[1;32m    735\u001b[0m                 \u001b[0mfh\u001b[0m \u001b[0;34m=\u001b[0m \u001b[0miter\u001b[0m\u001b[0;34m(\u001b[0m\u001b[0mbz2\u001b[0m\u001b[0;34m.\u001b[0m\u001b[0mBZ2File\u001b[0m\u001b[0;34m(\u001b[0m\u001b[0mfname\u001b[0m\u001b[0;34m)\u001b[0m\u001b[0;34m)\u001b[0m\u001b[0;34m\u001b[0m\u001b[0m\n\u001b[1;32m    736\u001b[0m             \u001b[0;32melif\u001b[0m \u001b[0msys\u001b[0m\u001b[0;34m.\u001b[0m\u001b[0mversion_info\u001b[0m\u001b[0;34m[\u001b[0m\u001b[0;36m0\u001b[0m\u001b[0;34m]\u001b[0m \u001b[0;34m==\u001b[0m \u001b[0;36m2\u001b[0m\u001b[0;34m:\u001b[0m\u001b[0;34m\u001b[0m\u001b[0m\n\u001b[0;32m--> 737\u001b[0;31m                 \u001b[0mfh\u001b[0m \u001b[0;34m=\u001b[0m \u001b[0miter\u001b[0m\u001b[0;34m(\u001b[0m\u001b[0mopen\u001b[0m\u001b[0;34m(\u001b[0m\u001b[0mfname\u001b[0m\u001b[0;34m,\u001b[0m \u001b[0;34m'U'\u001b[0m\u001b[0;34m)\u001b[0m\u001b[0;34m)\u001b[0m\u001b[0;34m\u001b[0m\u001b[0m\n\u001b[0m\u001b[1;32m    738\u001b[0m             \u001b[0;32melse\u001b[0m\u001b[0;34m:\u001b[0m\u001b[0;34m\u001b[0m\u001b[0m\n\u001b[1;32m    739\u001b[0m                 \u001b[0mfh\u001b[0m \u001b[0;34m=\u001b[0m \u001b[0miter\u001b[0m\u001b[0;34m(\u001b[0m\u001b[0mopen\u001b[0m\u001b[0;34m(\u001b[0m\u001b[0mfname\u001b[0m\u001b[0;34m)\u001b[0m\u001b[0;34m)\u001b[0m\u001b[0;34m\u001b[0m\u001b[0m\n",
      "\u001b[0;31mIOError\u001b[0m: [Errno 2] No such file or directory: '../Apertures/STSCI/TelAp_quart_hex4X025cobs1_N0300.dat'"
     ]
    }
   ],
   "source": [
    "hexap_coron.get_metrics()"
   ]
  },
  {
   "cell_type": "code",
   "execution_count": null,
   "metadata": {
    "collapsed": true
   },
   "outputs": [],
   "source": []
  }
 ],
 "metadata": {
  "kernelspec": {
   "display_name": "Python 2",
   "language": "python",
   "name": "python2"
  },
  "language_info": {
   "codemirror_mode": {
    "name": "ipython",
    "version": 2
   },
   "file_extension": ".py",
   "mimetype": "text/x-python",
   "name": "python",
   "nbconvert_exporter": "python",
   "pygments_lexer": "ipython2",
   "version": "2.7.5"
  }
 },
 "nbformat": 4,
 "nbformat_minor": 0
}
